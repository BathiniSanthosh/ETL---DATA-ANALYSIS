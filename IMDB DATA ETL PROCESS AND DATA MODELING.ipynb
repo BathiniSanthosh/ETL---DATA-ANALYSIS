{
 "cells": [
  {
   "cell_type": "markdown",
   "id": "d2ac7921",
   "metadata": {},
   "source": [
    "# DATA ETL PROCESS AND DATA MODELING"
   ]
  },
  {
   "cell_type": "raw",
   "id": "36f1d98c",
   "metadata": {},
   "source": [
    "## Here I am prefer to use jupyter notebook for doing this task and assessment, because it's very similer to notebooks in data bricks.\n",
    "## This is assessment need to be done in Pyspark, I can configure and inregrate pyspark in jupyter notebook.\n",
    "## Yes, there are so many ways to integrate pyspark, we can integreate pyspark in databricks and we can also integrate this into pycharm as well.\n",
    "## Jupyer notebook it's very easy to navigate cells and insert/delete and commenting.\n",
    "## It's very easy to download and share the files, that's why I would prefer to use jupyter notebook."
   ]
  },
  {
   "cell_type": "markdown",
   "id": "07887bd3",
   "metadata": {},
   "source": [
    "# Creating Spark Session in spark invironment"
   ]
  },
  {
   "cell_type": "code",
   "execution_count": 171,
   "id": "14b4e2e3",
   "metadata": {},
   "outputs": [],
   "source": [
    "## Creating Spark Session \n",
    "from pyspark.sql import SparkSession\n",
    "from pyspark.sql.functions import explode, col\n",
    "from pyspark.sql.functions import *\n",
    "from pyspark.sql import Row\n",
    "from pyspark.sql import SQLContext\n",
    "from pyspark import SparkConf, SparkContext\n",
    "\n",
    "spark = SparkSession \\\n",
    "    .builder \\\n",
    "    .appName(\"Python Spark SQL basic example\") \\\n",
    "    .getOrCreate()\n",
    "\n",
    "sc = SparkContext.getOrCreate()"
   ]
  },
  {
   "cell_type": "code",
   "execution_count": 172,
   "id": "964ff995",
   "metadata": {},
   "outputs": [],
   "source": [
    "## Loading the Json file into the spark \n",
    "from pyspark.sql import functions as F\n",
    "## Spark Dataframe\n",
    "df = spark.read.json('C:\\\\Users\\\\Santhosh\\\\Desktop\\\\imdb.json')"
   ]
  },
  {
   "cell_type": "code",
   "execution_count": 173,
   "id": "b622ff53",
   "metadata": {},
   "outputs": [],
   "source": [
    "## Selecting array column from the given dataset\n",
    "from pyspark.sql import functions as F\n",
    "df1 = df.select(\n",
    "    F.array(F.expr(\"title.*\")).alias(\"title\"))"
   ]
  },
  {
   "cell_type": "code",
   "execution_count": 174,
   "id": "7586cc80",
   "metadata": {
    "scrolled": true
   },
   "outputs": [
    {
     "name": "stdout",
     "output_type": "stream",
     "text": [
      "root\n",
      " |-- title: array (nullable = false)\n",
      " |    |-- element: string (containsNull = true)\n",
      "\n"
     ]
    }
   ],
   "source": [
    "## To get the schemas of a dataframe\n",
    "df1.printSchema()"
   ]
  },
  {
   "cell_type": "code",
   "execution_count": 177,
   "id": "781b22f0",
   "metadata": {},
   "outputs": [],
   "source": [
    "## Read the Json file in pandas in pyspark\n",
    "df = spark.read.json('C:\\\\Users\\\\Santhosh\\\\Desktop\\\\imdb.json')"
   ]
  },
  {
   "cell_type": "markdown",
   "id": "da4c6baf",
   "metadata": {},
   "source": [
    "## Problems and Challenges while reading json file in pyspark"
   ]
  },
  {
   "cell_type": "raw",
   "id": "6c4a8ef0",
   "metadata": {},
   "source": [
    "# When I was trying to reading the Json file in pyspark I have got the error.\n",
    "# The error I'm getting is out of memory problem.\n",
    "# Due to some system configuration issues, I could not read the JSON file in Pyspark.\n",
    "# Even I have tried to read with one table manually , still I am getting same error.\n",
    "# To overcome that issue, I have tried with pandas library in Pyspark.\n",
    "# It's working fine, I can read the file through pandas dataframe.\n",
    "# Yes, I knew it was supposed to be done in piespark, but I was wrong.\n",
    "# But then I did all the data preprocessing and cleaning, manipulations and transformations in Pyspark.\n",
    "# You can see all of them in the below queries."
   ]
  },
  {
   "cell_type": "markdown",
   "id": "a45b301b",
   "metadata": {},
   "source": [
    "## Data Reading or Importing Json file Data in the Pandas "
   ]
  },
  {
   "cell_type": "code",
   "execution_count": 178,
   "id": "e2f211fc",
   "metadata": {},
   "outputs": [],
   "source": [
    "## Importing the pandas library in pyspark\n",
    "import pandas as pd\n",
    "## Read the Json file in the pyspark\n",
    "df = pd.read_json('C:\\\\Users\\\\Santhosh\\\\Desktop\\\\imdb.json')"
   ]
  },
  {
   "cell_type": "code",
   "execution_count": 179,
   "id": "db471d1b",
   "metadata": {},
   "outputs": [],
   "source": [
    "## Read the IMDB Dataset in the pyspark\n",
    "df = pd.read_json('C:\\\\Users\\\\Santhosh\\\\Desktop\\\\imdb_processed.json')"
   ]
  },
  {
   "cell_type": "code",
   "execution_count": 180,
   "id": "e4f841d9",
   "metadata": {},
   "outputs": [
    {
     "data": {
      "text/html": [
       "<div>\n",
       "<style scoped>\n",
       "    .dataframe tbody tr th:only-of-type {\n",
       "        vertical-align: middle;\n",
       "    }\n",
       "\n",
       "    .dataframe tbody tr th {\n",
       "        vertical-align: top;\n",
       "    }\n",
       "\n",
       "    .dataframe thead th {\n",
       "        text-align: right;\n",
       "    }\n",
       "</style>\n",
       "<table border=\"1\" class=\"dataframe\">\n",
       "  <thead>\n",
       "    <tr style=\"text-align: right;\">\n",
       "      <th></th>\n",
       "      <th>title</th>\n",
       "      <th>year</th>\n",
       "      <th>kind</th>\n",
       "      <th>genre</th>\n",
       "      <th>rating</th>\n",
       "      <th>vote</th>\n",
       "      <th>country</th>\n",
       "      <th>language</th>\n",
       "      <th>cast</th>\n",
       "      <th>director</th>\n",
       "      <th>composer</th>\n",
       "      <th>writer</th>\n",
       "      <th>runtime</th>\n",
       "    </tr>\n",
       "  </thead>\n",
       "  <tbody>\n",
       "    <tr>\n",
       "      <th>0</th>\n",
       "      <td>Dinosaur Planet</td>\n",
       "      <td>2003</td>\n",
       "      <td>tv mini series</td>\n",
       "      <td>[Documentary, Animation, Family]</td>\n",
       "      <td>7.7</td>\n",
       "      <td>474.0</td>\n",
       "      <td>[United States]</td>\n",
       "      <td>[English]</td>\n",
       "      <td>[Christian Slater, Scott Sampson]</td>\n",
       "      <td>None</td>\n",
       "      <td>None</td>\n",
       "      <td>[Mike Carrol, Mike Carroll, Georgann Kane]</td>\n",
       "      <td>50.0</td>\n",
       "    </tr>\n",
       "    <tr>\n",
       "      <th>1</th>\n",
       "      <td>Get Up and Dance!</td>\n",
       "      <td>1994</td>\n",
       "      <td>video movie</td>\n",
       "      <td>[Family]</td>\n",
       "      <td>8.1</td>\n",
       "      <td>18.0</td>\n",
       "      <td>[United States]</td>\n",
       "      <td>[English]</td>\n",
       "      <td>[Paula Abdul, Aurorah Allain, Bill Bohl, Bob G...</td>\n",
       "      <td>[Steve Purcell]</td>\n",
       "      <td>None</td>\n",
       "      <td>None</td>\n",
       "      <td>83.0</td>\n",
       "    </tr>\n",
       "    <tr>\n",
       "      <th>2</th>\n",
       "      <td>8 Man</td>\n",
       "      <td>1992</td>\n",
       "      <td>movie</td>\n",
       "      <td>[Action, Sci-Fi]</td>\n",
       "      <td>5.5</td>\n",
       "      <td>93.0</td>\n",
       "      <td>[Japan]</td>\n",
       "      <td>[Japanese]</td>\n",
       "      <td>[Kai Shishido, Etsushi Takahashi, Sachiko Ayas...</td>\n",
       "      <td>[Yasuhiro Horiuchi]</td>\n",
       "      <td>[Carole King]</td>\n",
       "      <td>[Kazumasa Hirai, Jirô Kuwata, Junko Suzuki]</td>\n",
       "      <td>NaN</td>\n",
       "    </tr>\n",
       "    <tr>\n",
       "      <th>3</th>\n",
       "      <td>What the #$*! Do We (K)now!?</td>\n",
       "      <td>2004</td>\n",
       "      <td>movie</td>\n",
       "      <td>[Documentary, Comedy, Drama, Fantasy, Mystery,...</td>\n",
       "      <td>5.3</td>\n",
       "      <td>13432.0</td>\n",
       "      <td>[United States]</td>\n",
       "      <td>[English, German, Spanish]</td>\n",
       "      <td>[Marlee Matlin, Elaine Hendrix, John Ross Bowi...</td>\n",
       "      <td>[William Arntz, Betsy Chasse, Mark Vicente]</td>\n",
       "      <td>[Christopher Franke]</td>\n",
       "      <td>[William Arntz, Betsy Chasse, Matthew Hoffman]</td>\n",
       "      <td>60.0</td>\n",
       "    </tr>\n",
       "    <tr>\n",
       "      <th>4</th>\n",
       "      <td>Class of Nuke 'Em High Part II: Subhumanoid Me...</td>\n",
       "      <td>1991</td>\n",
       "      <td>movie</td>\n",
       "      <td>[Comedy, Horror, Sci-Fi]</td>\n",
       "      <td>4.5</td>\n",
       "      <td>2177.0</td>\n",
       "      <td>[United States]</td>\n",
       "      <td>[English]</td>\n",
       "      <td>[Brick Bronsky, Lisa Gaye, Leesa Rowland, Mich...</td>\n",
       "      <td>[Eric Louzil]</td>\n",
       "      <td>[Bob Mithoff]</td>\n",
       "      <td>[Lloyd Kaufman, Carl Morano, Matt Unger]</td>\n",
       "      <td>96.0</td>\n",
       "    </tr>\n",
       "    <tr>\n",
       "      <th>...</th>\n",
       "      <td>...</td>\n",
       "      <td>...</td>\n",
       "      <td>...</td>\n",
       "      <td>...</td>\n",
       "      <td>...</td>\n",
       "      <td>...</td>\n",
       "      <td>...</td>\n",
       "      <td>...</td>\n",
       "      <td>...</td>\n",
       "      <td>...</td>\n",
       "      <td>...</td>\n",
       "      <td>...</td>\n",
       "      <td>...</td>\n",
       "    </tr>\n",
       "    <tr>\n",
       "      <th>8446</th>\n",
       "      <td>All Monsters Attack</td>\n",
       "      <td>1969</td>\n",
       "      <td>movie</td>\n",
       "      <td>[Adventure, Family, Fantasy]</td>\n",
       "      <td>3.9</td>\n",
       "      <td>4384.0</td>\n",
       "      <td>[Japan]</td>\n",
       "      <td>[Japanese]</td>\n",
       "      <td>[Tomonori Yazaki, Hideyo Amamoto, Sachio Sakai...</td>\n",
       "      <td>[Ishirô Honda, Jun Fukuda, Kengo Furusawa]</td>\n",
       "      <td>[Kunio Miyauchi]</td>\n",
       "      <td>[Shin'ichi Sekizawa]</td>\n",
       "      <td>NaN</td>\n",
       "    </tr>\n",
       "    <tr>\n",
       "      <th>8447</th>\n",
       "      <td>Fidel Castro</td>\n",
       "      <td>2005</td>\n",
       "      <td>episode</td>\n",
       "      <td>[Documentary, Biography, History]</td>\n",
       "      <td>6.4</td>\n",
       "      <td>44.0</td>\n",
       "      <td>None</td>\n",
       "      <td>[English, Spanish]</td>\n",
       "      <td>[Rena Baskin, Fulgencio Batista, James Blight,...</td>\n",
       "      <td>[Adriana Bosch, M Pink Christofalo]</td>\n",
       "      <td>[Mason Daring]</td>\n",
       "      <td>[Adriana Bosch]</td>\n",
       "      <td>NaN</td>\n",
       "    </tr>\n",
       "    <tr>\n",
       "      <th>8448</th>\n",
       "      <td>Epoch</td>\n",
       "      <td>2001</td>\n",
       "      <td>tv movie</td>\n",
       "      <td>[Sci-Fi, Thriller]</td>\n",
       "      <td>4.9</td>\n",
       "      <td>2376.0</td>\n",
       "      <td>[United States]</td>\n",
       "      <td>[English]</td>\n",
       "      <td>[David Keith, Stephanie Niznik, Ryan O'Neal, B...</td>\n",
       "      <td>[Matt Codd]</td>\n",
       "      <td>[Richard McHugh]</td>\n",
       "      <td>[Jonathan Raymond, Jonathan Raymond, Phillip J...</td>\n",
       "      <td>NaN</td>\n",
       "    </tr>\n",
       "    <tr>\n",
       "      <th>8449</th>\n",
       "      <td>The Company</td>\n",
       "      <td>2003</td>\n",
       "      <td>movie</td>\n",
       "      <td>[Drama, Music, Romance]</td>\n",
       "      <td>6.3</td>\n",
       "      <td>6501.0</td>\n",
       "      <td>[United States, Germany, United Kingdom]</td>\n",
       "      <td>[English]</td>\n",
       "      <td>[Neve Campbell, Malcolm McDowell, James Franco...</td>\n",
       "      <td>[Robert Altman]</td>\n",
       "      <td>[Van Dyke Parks]</td>\n",
       "      <td>[Neve Campbell, Barbara Turner, Barbara Turner]</td>\n",
       "      <td>NaN</td>\n",
       "    </tr>\n",
       "    <tr>\n",
       "      <th>8450</th>\n",
       "      <td>Predator</td>\n",
       "      <td>1987</td>\n",
       "      <td>movie</td>\n",
       "      <td>[Action, Adventure, Sci-Fi, Thriller]</td>\n",
       "      <td>7.8</td>\n",
       "      <td>386850.0</td>\n",
       "      <td>[United States, Mexico]</td>\n",
       "      <td>[English, Spanish, Russian]</td>\n",
       "      <td>[Arnold Schwarzenegger, Carl Weathers, Elpidia...</td>\n",
       "      <td>[John McTiernan]</td>\n",
       "      <td>[Alan Silvestri]</td>\n",
       "      <td>[Jim Thomas, John Thomas]</td>\n",
       "      <td>NaN</td>\n",
       "    </tr>\n",
       "  </tbody>\n",
       "</table>\n",
       "<p>8451 rows × 13 columns</p>\n",
       "</div>"
      ],
      "text/plain": [
       "                                                  title  year            kind  \\\n",
       "0                                       Dinosaur Planet  2003  tv mini series   \n",
       "1                                     Get Up and Dance!  1994     video movie   \n",
       "2                                                 8 Man  1992           movie   \n",
       "3                          What the #$*! Do We (K)now!?  2004           movie   \n",
       "4     Class of Nuke 'Em High Part II: Subhumanoid Me...  1991           movie   \n",
       "...                                                 ...   ...             ...   \n",
       "8446                                All Monsters Attack  1969           movie   \n",
       "8447                                       Fidel Castro  2005         episode   \n",
       "8448                                              Epoch  2001        tv movie   \n",
       "8449                                        The Company  2003           movie   \n",
       "8450                                           Predator  1987           movie   \n",
       "\n",
       "                                                  genre  rating      vote  \\\n",
       "0                      [Documentary, Animation, Family]     7.7     474.0   \n",
       "1                                              [Family]     8.1      18.0   \n",
       "2                                      [Action, Sci-Fi]     5.5      93.0   \n",
       "3     [Documentary, Comedy, Drama, Fantasy, Mystery,...     5.3   13432.0   \n",
       "4                              [Comedy, Horror, Sci-Fi]     4.5    2177.0   \n",
       "...                                                 ...     ...       ...   \n",
       "8446                       [Adventure, Family, Fantasy]     3.9    4384.0   \n",
       "8447                  [Documentary, Biography, History]     6.4      44.0   \n",
       "8448                                 [Sci-Fi, Thriller]     4.9    2376.0   \n",
       "8449                            [Drama, Music, Romance]     6.3    6501.0   \n",
       "8450              [Action, Adventure, Sci-Fi, Thriller]     7.8  386850.0   \n",
       "\n",
       "                                       country                     language  \\\n",
       "0                              [United States]                    [English]   \n",
       "1                              [United States]                    [English]   \n",
       "2                                      [Japan]                   [Japanese]   \n",
       "3                              [United States]   [English, German, Spanish]   \n",
       "4                              [United States]                    [English]   \n",
       "...                                        ...                          ...   \n",
       "8446                                   [Japan]                   [Japanese]   \n",
       "8447                                      None           [English, Spanish]   \n",
       "8448                           [United States]                    [English]   \n",
       "8449  [United States, Germany, United Kingdom]                    [English]   \n",
       "8450                   [United States, Mexico]  [English, Spanish, Russian]   \n",
       "\n",
       "                                                   cast  \\\n",
       "0                     [Christian Slater, Scott Sampson]   \n",
       "1     [Paula Abdul, Aurorah Allain, Bill Bohl, Bob G...   \n",
       "2     [Kai Shishido, Etsushi Takahashi, Sachiko Ayas...   \n",
       "3     [Marlee Matlin, Elaine Hendrix, John Ross Bowi...   \n",
       "4     [Brick Bronsky, Lisa Gaye, Leesa Rowland, Mich...   \n",
       "...                                                 ...   \n",
       "8446  [Tomonori Yazaki, Hideyo Amamoto, Sachio Sakai...   \n",
       "8447  [Rena Baskin, Fulgencio Batista, James Blight,...   \n",
       "8448  [David Keith, Stephanie Niznik, Ryan O'Neal, B...   \n",
       "8449  [Neve Campbell, Malcolm McDowell, James Franco...   \n",
       "8450  [Arnold Schwarzenegger, Carl Weathers, Elpidia...   \n",
       "\n",
       "                                         director              composer  \\\n",
       "0                                            None                  None   \n",
       "1                                 [Steve Purcell]                  None   \n",
       "2                             [Yasuhiro Horiuchi]         [Carole King]   \n",
       "3     [William Arntz, Betsy Chasse, Mark Vicente]  [Christopher Franke]   \n",
       "4                                   [Eric Louzil]         [Bob Mithoff]   \n",
       "...                                           ...                   ...   \n",
       "8446   [Ishirô Honda, Jun Fukuda, Kengo Furusawa]      [Kunio Miyauchi]   \n",
       "8447          [Adriana Bosch, M Pink Christofalo]        [Mason Daring]   \n",
       "8448                                  [Matt Codd]      [Richard McHugh]   \n",
       "8449                              [Robert Altman]      [Van Dyke Parks]   \n",
       "8450                             [John McTiernan]      [Alan Silvestri]   \n",
       "\n",
       "                                                 writer  runtime  \n",
       "0            [Mike Carrol, Mike Carroll, Georgann Kane]     50.0  \n",
       "1                                                  None     83.0  \n",
       "2           [Kazumasa Hirai, Jirô Kuwata, Junko Suzuki]      NaN  \n",
       "3        [William Arntz, Betsy Chasse, Matthew Hoffman]     60.0  \n",
       "4              [Lloyd Kaufman, Carl Morano, Matt Unger]     96.0  \n",
       "...                                                 ...      ...  \n",
       "8446                               [Shin'ichi Sekizawa]      NaN  \n",
       "8447                                    [Adriana Bosch]      NaN  \n",
       "8448  [Jonathan Raymond, Jonathan Raymond, Phillip J...      NaN  \n",
       "8449    [Neve Campbell, Barbara Turner, Barbara Turner]      NaN  \n",
       "8450                          [Jim Thomas, John Thomas]      NaN  \n",
       "\n",
       "[8451 rows x 13 columns]"
      ]
     },
     "execution_count": 180,
     "metadata": {},
     "output_type": "execute_result"
    }
   ],
   "source": [
    "## To see the dataset\n",
    "df"
   ]
  },
  {
   "cell_type": "code",
   "execution_count": 181,
   "id": "5d34635a",
   "metadata": {},
   "outputs": [
    {
     "data": {
      "text/plain": [
       "pandas.core.frame.DataFrame"
      ]
     },
     "execution_count": 181,
     "metadata": {},
     "output_type": "execute_result"
    }
   ],
   "source": [
    "## To get the type of dataframe\n",
    "type(df)"
   ]
  },
  {
   "cell_type": "code",
   "execution_count": 182,
   "id": "78812635",
   "metadata": {},
   "outputs": [
    {
     "data": {
      "text/plain": [
       "(8451, 13)"
      ]
     },
     "execution_count": 182,
     "metadata": {},
     "output_type": "execute_result"
    }
   ],
   "source": [
    "## To get the shape of the dataframe\n",
    "df.shape"
   ]
  },
  {
   "cell_type": "code",
   "execution_count": 183,
   "id": "8be84f1a",
   "metadata": {},
   "outputs": [],
   "source": [
    "## To assign the ID with index number column to the existing dataframe\n",
    "df['ID'] = df.index"
   ]
  },
  {
   "cell_type": "code",
   "execution_count": 185,
   "id": "d5b5de3b",
   "metadata": {},
   "outputs": [],
   "source": [
    "# Other CSV options\n",
    "## Exporting the required datasets from pyspark to local folder\n",
    "df.to_csv('C:/Users/Santhosh/Desktop/Rawdata_Movies.csv', header = True)"
   ]
  },
  {
   "cell_type": "markdown",
   "id": "05e51427",
   "metadata": {},
   "source": [
    "## Creating Explode Dataframes"
   ]
  },
  {
   "cell_type": "raw",
   "id": "facf5fce",
   "metadata": {},
   "source": [
    "## I noticed that in the Json file, there are some columns which have array format.\n",
    "## I need to transform them into multiple rows.\n",
    "## I have converted them into multiple rows displayed\n",
    "## I used the explode function to convert array type columns into multiple rows.\n",
    "## I have done this each of the individual columns in a given dataset.\n",
    "## I have count no,of records for each of the explode dataframe\n",
    "## Then I performed different types of joins to merge all the dataframes into one dataframe\n",
    "## One thing I realized about this approach is that bursting creates a lot of duplicate records.\n",
    "## I demonstrated several relationships while crunching dataframes.\n",
    "## Finally I have ctreated master dataset.\n",
    "## Aggregation data group is created to avoid duplicate records data.\n",
    "## That's how I have created final dataset here."
   ]
  },
  {
   "cell_type": "code",
   "execution_count": 186,
   "id": "2f8b5bac",
   "metadata": {},
   "outputs": [],
   "source": [
    "## To explode the title column to transform the array column to multiple rows in pyspark\n",
    "df1 = df.explode('title')"
   ]
  },
  {
   "cell_type": "code",
   "execution_count": 187,
   "id": "edfcd191",
   "metadata": {},
   "outputs": [
    {
     "data": {
      "text/plain": [
       "(8451, 14)"
      ]
     },
     "execution_count": 187,
     "metadata": {},
     "output_type": "execute_result"
    }
   ],
   "source": [
    "## To get the shape of the dataframe\n",
    "df.shape"
   ]
  },
  {
   "cell_type": "code",
   "execution_count": 188,
   "id": "36dbd41c",
   "metadata": {},
   "outputs": [],
   "source": [
    "## To explode the year column to transform the array column to multiple rows in pyspark\n",
    "df2 = df.explode('year')"
   ]
  },
  {
   "cell_type": "code",
   "execution_count": 189,
   "id": "81655402",
   "metadata": {},
   "outputs": [
    {
     "data": {
      "text/plain": [
       "(8451, 14)"
      ]
     },
     "execution_count": 189,
     "metadata": {},
     "output_type": "execute_result"
    }
   ],
   "source": [
    "## To get the shape of the dataframe\n",
    "df2.shape"
   ]
  },
  {
   "cell_type": "code",
   "execution_count": 190,
   "id": "f4b53b02",
   "metadata": {},
   "outputs": [],
   "source": [
    "## To explode the kind column to transform the array column to multiple rows in pyspark\n",
    "df3 = df.explode('kind')"
   ]
  },
  {
   "cell_type": "code",
   "execution_count": 191,
   "id": "adb5d049",
   "metadata": {},
   "outputs": [
    {
     "data": {
      "text/plain": [
       "(8451, 14)"
      ]
     },
     "execution_count": 191,
     "metadata": {},
     "output_type": "execute_result"
    }
   ],
   "source": [
    "## To get the shape of the data\n",
    "df3.shape"
   ]
  },
  {
   "cell_type": "code",
   "execution_count": 192,
   "id": "6b7ffd99",
   "metadata": {},
   "outputs": [],
   "source": [
    "## To explode the genre column to transform the array column to multiple rows in pyspark\n",
    "df4 = df.explode('genre')"
   ]
  },
  {
   "cell_type": "code",
   "execution_count": 193,
   "id": "f4b6a723",
   "metadata": {},
   "outputs": [
    {
     "data": {
      "text/plain": [
       "(22093, 14)"
      ]
     },
     "execution_count": 193,
     "metadata": {},
     "output_type": "execute_result"
    }
   ],
   "source": [
    "## To get the shape of the dataframe\n",
    "df4.shape"
   ]
  },
  {
   "cell_type": "code",
   "execution_count": 194,
   "id": "71754a30",
   "metadata": {},
   "outputs": [],
   "source": [
    "## To explode the country column to transform the array column to multiple rows in pyspark\n",
    "df5 = df.explode('country')"
   ]
  },
  {
   "cell_type": "code",
   "execution_count": 195,
   "id": "812e196f",
   "metadata": {},
   "outputs": [
    {
     "data": {
      "text/plain": [
       "(10785, 14)"
      ]
     },
     "execution_count": 195,
     "metadata": {},
     "output_type": "execute_result"
    }
   ],
   "source": [
    "## To get the shape of the dataframe\n",
    "df5.shape"
   ]
  },
  {
   "cell_type": "code",
   "execution_count": 196,
   "id": "64f000ea",
   "metadata": {},
   "outputs": [],
   "source": [
    "## To explode the language column to transform the array column to multiple rows in pyspark\n",
    "df6 = df.explode('language')"
   ]
  },
  {
   "cell_type": "code",
   "execution_count": 197,
   "id": "7d1b34fe",
   "metadata": {},
   "outputs": [
    {
     "data": {
      "text/plain": [
       "(11199, 14)"
      ]
     },
     "execution_count": 197,
     "metadata": {},
     "output_type": "execute_result"
    }
   ],
   "source": [
    "## To get the shape of the dataframe\n",
    "df6.shape"
   ]
  },
  {
   "cell_type": "code",
   "execution_count": 198,
   "id": "902eeb35",
   "metadata": {},
   "outputs": [],
   "source": [
    "## To explode the cast column to transform the array column to multiple rows in pyspark\n",
    "df7 = df.explode('cast')"
   ]
  },
  {
   "cell_type": "code",
   "execution_count": 199,
   "id": "a3a4a771",
   "metadata": {},
   "outputs": [
    {
     "data": {
      "text/plain": [
       "(264345, 14)"
      ]
     },
     "execution_count": 199,
     "metadata": {},
     "output_type": "execute_result"
    }
   ],
   "source": [
    "## To get the shape of the data\n",
    "df7.shape"
   ]
  },
  {
   "cell_type": "code",
   "execution_count": 200,
   "id": "4c2fc86f",
   "metadata": {},
   "outputs": [],
   "source": [
    "## To explode the director column to transform the array column to multiple rows in pyspark\n",
    "df8 = df.explode('director')"
   ]
  },
  {
   "cell_type": "code",
   "execution_count": 201,
   "id": "679d367d",
   "metadata": {},
   "outputs": [
    {
     "data": {
      "text/plain": [
       "(9428, 14)"
      ]
     },
     "execution_count": 201,
     "metadata": {},
     "output_type": "execute_result"
    }
   ],
   "source": [
    "## To get the shape of the dataframe\n",
    "df8.shape"
   ]
  },
  {
   "cell_type": "code",
   "execution_count": 202,
   "id": "45373f47",
   "metadata": {},
   "outputs": [],
   "source": [
    "## To explode the composer column to transform the array column to multiple rows in pyspark\n",
    "df9 = df.explode('composer')"
   ]
  },
  {
   "cell_type": "code",
   "execution_count": 203,
   "id": "2397a83b",
   "metadata": {},
   "outputs": [
    {
     "data": {
      "text/plain": [
       "(9938, 14)"
      ]
     },
     "execution_count": 203,
     "metadata": {},
     "output_type": "execute_result"
    }
   ],
   "source": [
    "## To get the shape of the dataframe\n",
    "df9.shape"
   ]
  },
  {
   "cell_type": "code",
   "execution_count": 204,
   "id": "14c261a0",
   "metadata": {},
   "outputs": [],
   "source": [
    "## To explode the writer column to transform the array column to multiple rows in pyspark\n",
    "df10 = df.explode('writer')"
   ]
  },
  {
   "cell_type": "code",
   "execution_count": 205,
   "id": "7a412bc3",
   "metadata": {},
   "outputs": [
    {
     "data": {
      "text/plain": [
       "(16628, 14)"
      ]
     },
     "execution_count": 205,
     "metadata": {},
     "output_type": "execute_result"
    }
   ],
   "source": [
    "## To get the shape of the dataframe\n",
    "df10.shape"
   ]
  },
  {
   "cell_type": "markdown",
   "id": "0ec9a522",
   "metadata": {},
   "source": [
    "## Appending Multiple Dataframes\n",
    "## To get the number of records for each of the dataframe"
   ]
  },
  {
   "cell_type": "code",
   "execution_count": 206,
   "id": "19fee15f",
   "metadata": {},
   "outputs": [
    {
     "name": "stdout",
     "output_type": "stream",
     "text": [
      "(8451, 14)\n",
      "(8451, 14)\n",
      "(8451, 14)\n",
      "(22093, 14)\n",
      "(10785, 14)\n",
      "(11199, 14)\n",
      "(264345, 14)\n",
      "(9428, 14)\n",
      "(9938, 14)\n",
      "(16628, 14)\n"
     ]
    }
   ],
   "source": [
    "## Getting the No of records and no of columns for all the dataframes\n",
    "dfs = (df1, df2, df3, df4, df5,df6,df7,df8,df9,df10)\n",
    "for df in (dfs):\n",
    "    print(df.shape)"
   ]
  },
  {
   "cell_type": "code",
   "execution_count": null,
   "id": "09b4df8c",
   "metadata": {},
   "outputs": [],
   "source": [
    "## Now appending the all the dataframes \n",
    "\n",
    "df_final = df1.append([df2, df3,df4,df5,df6,df7,df8,df9,df10])"
   ]
  },
  {
   "cell_type": "code",
   "execution_count": 208,
   "id": "2947ceb3",
   "metadata": {},
   "outputs": [
    {
     "data": {
      "text/plain": [
       "(369769, 14)"
      ]
     },
     "execution_count": 208,
     "metadata": {},
     "output_type": "execute_result"
    }
   ],
   "source": [
    "## Get the dimension of the dataframe\n",
    "df_final.shape"
   ]
  },
  {
   "cell_type": "markdown",
   "id": "c9d7762a",
   "metadata": {},
   "source": [
    "## Merging Multiple Dataframes to Make Final Dataset"
   ]
  },
  {
   "cell_type": "raw",
   "id": "544487a9",
   "metadata": {},
   "source": [
    "## Merging the multiple dataframes here \n",
    "## While merging I used mapping with multiple columns to reduce duplicate records.\n",
    "## If I display only one column, I may get more duplicate records\n",
    "## To overcome that problem I have used this approch.\n",
    "## This mapping key is nothing but a combination of multiple columns.\n",
    "## I think this is the best way to reduce duplicate records when dealing with this type of data."
   ]
  },
  {
   "cell_type": "code",
   "execution_count": 211,
   "id": "fac0a6bf",
   "metadata": {},
   "outputs": [],
   "source": [
    "## To get the selected columns from the given dataframe\n",
    "df1_map = df1[['title', 'year', 'kind','rating', 'vote','runtime', 'ID']]"
   ]
  },
  {
   "cell_type": "code",
   "execution_count": 214,
   "id": "d6ae2dd2",
   "metadata": {},
   "outputs": [],
   "source": [
    "# inner join\n",
    "df1_map_genre = pd.merge(df1_map, df4[['title', 'year', 'kind', 'rating', 'vote', 'runtime', 'ID','genre']], on=['title', 'year', 'kind', 'rating', 'ID'], how='inner')"
   ]
  },
  {
   "cell_type": "code",
   "execution_count": 215,
   "id": "f338cd30",
   "metadata": {},
   "outputs": [
    {
     "data": {
      "text/plain": [
       "(22093, 10)"
      ]
     },
     "execution_count": 215,
     "metadata": {},
     "output_type": "execute_result"
    }
   ],
   "source": [
    "## Get the Shape of the Dataframe\n",
    "df1_map_genre.shape"
   ]
  },
  {
   "cell_type": "code",
   "execution_count": 217,
   "id": "455f84ec",
   "metadata": {},
   "outputs": [],
   "source": [
    "# inner join\n",
    "df1_map_country = pd.merge(df1_map_genre, df5[['title', 'year', 'kind', 'rating', 'vote', 'runtime', 'ID','country']], on=['title', 'year', 'kind', 'rating', 'ID'], how='inner')"
   ]
  },
  {
   "cell_type": "code",
   "execution_count": 218,
   "id": "5eebbbed",
   "metadata": {},
   "outputs": [
    {
     "data": {
      "text/plain": [
       "(28527, 13)"
      ]
     },
     "execution_count": 218,
     "metadata": {},
     "output_type": "execute_result"
    }
   ],
   "source": [
    "## Get the shape of the Dataframe\n",
    "df1_map_country.shape"
   ]
  },
  {
   "cell_type": "code",
   "execution_count": null,
   "id": "d2a45b3c",
   "metadata": {},
   "outputs": [],
   "source": [
    "# inner join\n",
    "df1_map_language = pd.merge(df1_map_country, df6[['title', 'year', 'kind', 'rating', 'vote', 'runtime', 'ID','language']], on=['title', 'year', 'kind', 'rating', 'ID'], how='inner')"
   ]
  },
  {
   "cell_type": "code",
   "execution_count": 221,
   "id": "66ed522a",
   "metadata": {},
   "outputs": [
    {
     "data": {
      "text/plain": [
       "(41168, 16)"
      ]
     },
     "execution_count": 221,
     "metadata": {},
     "output_type": "execute_result"
    }
   ],
   "source": [
    "## Get the shape of the Dataframe\n",
    "df1_map_language.shape"
   ]
  },
  {
   "cell_type": "code",
   "execution_count": 223,
   "id": "e11ab057",
   "metadata": {},
   "outputs": [],
   "source": [
    "# inner join\n",
    "df1_map_cast = pd.merge(df1_map_language, df7[['title', 'year', 'kind', 'rating', 'vote', 'runtime', 'ID','cast']], on=['title', 'year', 'kind', 'rating', 'ID'], how='inner')"
   ]
  },
  {
   "cell_type": "code",
   "execution_count": 224,
   "id": "c73519bc",
   "metadata": {},
   "outputs": [
    {
     "data": {
      "text/plain": [
       "(1589822, 19)"
      ]
     },
     "execution_count": 224,
     "metadata": {},
     "output_type": "execute_result"
    }
   ],
   "source": [
    "## Get the Shape of the Dataframe\n",
    "df1_map_cast.shape"
   ]
  },
  {
   "cell_type": "code",
   "execution_count": null,
   "id": "2749505f",
   "metadata": {},
   "outputs": [],
   "source": [
    "# inner join\n",
    "df1_map_director = pd.merge(df1_map_cast, df8[['title', 'year', 'kind', 'rating', 'vote', 'runtime', 'ID','director']],  on=['title', 'year', 'kind', 'rating', 'ID'], how='inner')"
   ]
  },
  {
   "cell_type": "code",
   "execution_count": 226,
   "id": "4fb5d836",
   "metadata": {},
   "outputs": [
    {
     "data": {
      "text/plain": [
       "(1734773, 22)"
      ]
     },
     "execution_count": 226,
     "metadata": {},
     "output_type": "execute_result"
    }
   ],
   "source": [
    "## Get the Shape of the Dataframe\n",
    "df1_map_director.shape"
   ]
  },
  {
   "cell_type": "code",
   "execution_count": 228,
   "id": "5d558d8a",
   "metadata": {},
   "outputs": [],
   "source": [
    "# inner join\n",
    "df1_map_composer = pd.merge(df1_map_director, df9[['title', 'year', 'kind', 'rating', 'vote', 'runtime', 'ID','composer']], on=['title', 'year', 'kind', 'rating', 'ID'], how='inner')"
   ]
  },
  {
   "cell_type": "code",
   "execution_count": 229,
   "id": "770bcd47",
   "metadata": {},
   "outputs": [
    {
     "data": {
      "text/plain": [
       "(2092388, 25)"
      ]
     },
     "execution_count": 229,
     "metadata": {},
     "output_type": "execute_result"
    }
   ],
   "source": [
    "## Get the shape of the Data\n",
    "df1_map_composer.shape"
   ]
  },
  {
   "cell_type": "code",
   "execution_count": null,
   "id": "711fa714",
   "metadata": {},
   "outputs": [],
   "source": [
    "# inner join\n",
    "df1_map_writer = pd.merge(df1_map_composer, df10[['title', 'year', 'kind', 'rating', 'vote', 'runtime', 'ID','writer']], on=['title', 'year', 'kind', 'rating', 'ID'], how='inner')"
   ]
  },
  {
   "cell_type": "code",
   "execution_count": 231,
   "id": "1399942b",
   "metadata": {},
   "outputs": [
    {
     "data": {
      "text/plain": [
       "(4830458, 28)"
      ]
     },
     "execution_count": 231,
     "metadata": {},
     "output_type": "execute_result"
    }
   ],
   "source": [
    "## Get the shape of the data\n",
    "df1_map_writer.shape"
   ]
  },
  {
   "cell_type": "code",
   "execution_count": 233,
   "id": "4801d37c",
   "metadata": {},
   "outputs": [],
   "source": [
    "Maindata = df1_map_writer"
   ]
  },
  {
   "cell_type": "code",
   "execution_count": 235,
   "id": "0f01910a",
   "metadata": {},
   "outputs": [],
   "source": [
    "Maindata1 = Maindata[['title', 'year', 'kind', 'rating', 'vote_x', 'runtime_x', 'ID','genre','country','language','cast','director','composer','writer']]"
   ]
  },
  {
   "cell_type": "code",
   "execution_count": 238,
   "id": "9761cf62",
   "metadata": {},
   "outputs": [],
   "source": [
    "## Selecting the required columns in a given dataframe\n",
    "Maindata2 = Maindata1[['title', 'year', 'kind', 'rating', 'vote_x', 'runtime_x', 'ID',\n",
    "       'genre', 'country', 'language', 'cast', 'director', 'composer',\n",
    "       'writer']]"
   ]
  },
  {
   "cell_type": "markdown",
   "id": "7fef174a",
   "metadata": {},
   "source": [
    "## Removing the Duplicate Records from a given Dataframe"
   ]
  },
  {
   "cell_type": "code",
   "execution_count": 242,
   "id": "ebea9d0a",
   "metadata": {},
   "outputs": [],
   "source": [
    "newdf = Maindata2.drop_duplicates()"
   ]
  },
  {
   "cell_type": "code",
   "execution_count": 243,
   "id": "418eec23",
   "metadata": {},
   "outputs": [
    {
     "data": {
      "text/plain": [
       "(4370062, 20)"
      ]
     },
     "execution_count": 243,
     "metadata": {},
     "output_type": "execute_result"
    }
   ],
   "source": [
    "newdf.shape"
   ]
  },
  {
   "cell_type": "code",
   "execution_count": 246,
   "id": "adc61dc2",
   "metadata": {},
   "outputs": [],
   "source": [
    "new_df = new_df[~new_df.duplicated(subset=['title', 'year', 'kind', 'ID','genre', 'country', 'language', 'cast', 'director', 'composer','writer'], keep=False)].copy()"
   ]
  },
  {
   "cell_type": "markdown",
   "id": "b6b05c09",
   "metadata": {},
   "source": [
    "## Exporting required Dataframe in pandas"
   ]
  },
  {
   "cell_type": "code",
   "execution_count": null,
   "id": "cd54b7d3",
   "metadata": {},
   "outputs": [],
   "source": [
    "final_Data.to_csv('C:\\\\Users\\\\Santhosh\\\\Desktop\\\\Final_Data_Model.csv', index = True)"
   ]
  },
  {
   "cell_type": "markdown",
   "id": "9e3ae390",
   "metadata": {},
   "source": [
    "## Perform Group of Aggregations to reduce the duplicate records"
   ]
  },
  {
   "cell_type": "code",
   "execution_count": 255,
   "id": "e0cfa08f",
   "metadata": {},
   "outputs": [],
   "source": [
    "Data_Agg = new_df.groupby(['ID','title', 'year','kind','genre','country','language','cast','director','composer','writer'],as_index = False).agg({'rating': ['mean']}).reset_index()"
   ]
  },
  {
   "cell_type": "code",
   "execution_count": 258,
   "id": "31d9081c",
   "metadata": {},
   "outputs": [],
   "source": [
    "## Calculating the average rating with the selected columns \n",
    "Data_Agg1 = new_df.groupby(['ID','title', 'year','genre']).agg({'rating': ['mean']}).reset_index()"
   ]
  },
  {
   "cell_type": "code",
   "execution_count": 259,
   "id": "945daa8a",
   "metadata": {},
   "outputs": [],
   "source": [
    "## Converting the grouped data into dataframe\n",
    "Data_Agg2 = pd.DataFrame(Data_Agg1)"
   ]
  },
  {
   "cell_type": "code",
   "execution_count": 363,
   "id": "edae9de7",
   "metadata": {},
   "outputs": [],
   "source": [
    "## Exporting the output file \n",
    "import csv\n",
    "Data_Agg2.to_csv('C:\\\\Users\\\\Santhosh\\\\Desktop\\\\Movies.csv',index=False,quoting=csv.QUOTE_ALL)"
   ]
  },
  {
   "cell_type": "markdown",
   "id": "0ef9d1ec",
   "metadata": {},
   "source": [
    "## Perform Group of aggregations for multiple columns"
   ]
  },
  {
   "cell_type": "code",
   "execution_count": 263,
   "id": "29603495",
   "metadata": {},
   "outputs": [],
   "source": [
    "Maindata1 = new_df.groupby(['ID','title', 'year','kind','genre','country'],as_index = False).agg({'rating': ['mean']}).reset_index()"
   ]
  },
  {
   "cell_type": "code",
   "execution_count": 264,
   "id": "e17d60d1",
   "metadata": {},
   "outputs": [
    {
     "data": {
      "text/plain": [
       "(26352, 8)"
      ]
     },
     "execution_count": 264,
     "metadata": {},
     "output_type": "execute_result"
    }
   ],
   "source": [
    "Maindata1.shape"
   ]
  },
  {
   "cell_type": "code",
   "execution_count": 265,
   "id": "1c938f08",
   "metadata": {},
   "outputs": [],
   "source": [
    "Maindata2 = new_df.groupby(['ID','title', 'year','kind','genre','language'],as_index = False).agg({'rating': ['mean']}).reset_index()"
   ]
  },
  {
   "cell_type": "code",
   "execution_count": 266,
   "id": "a4b8a26d",
   "metadata": {},
   "outputs": [
    {
     "data": {
      "text/plain": [
       "(27450, 8)"
      ]
     },
     "execution_count": 266,
     "metadata": {},
     "output_type": "execute_result"
    }
   ],
   "source": [
    "Maindata2.shape"
   ]
  },
  {
   "cell_type": "code",
   "execution_count": 267,
   "id": "a4c89a4e",
   "metadata": {},
   "outputs": [],
   "source": [
    "Maindata3 = new_df.groupby(['ID','title', 'year','kind','genre','cast'],as_index = False).agg({'rating': ['mean']}).reset_index()"
   ]
  },
  {
   "cell_type": "code",
   "execution_count": 268,
   "id": "819569c1",
   "metadata": {},
   "outputs": [
    {
     "data": {
      "text/plain": [
       "(704761, 8)"
      ]
     },
     "execution_count": 268,
     "metadata": {},
     "output_type": "execute_result"
    }
   ],
   "source": [
    "Maindata3.shape"
   ]
  },
  {
   "cell_type": "code",
   "execution_count": 269,
   "id": "aab526bf",
   "metadata": {},
   "outputs": [],
   "source": [
    "Maindata4 = new_df.groupby(['ID','title', 'year','kind','genre','director'],as_index = False).agg({'rating': ['mean']}).reset_index()"
   ]
  },
  {
   "cell_type": "code",
   "execution_count": 270,
   "id": "bef6b4fa",
   "metadata": {},
   "outputs": [
    {
     "data": {
      "text/plain": [
       "(20309, 8)"
      ]
     },
     "execution_count": 270,
     "metadata": {},
     "output_type": "execute_result"
    }
   ],
   "source": [
    "Maindata4.shape"
   ]
  },
  {
   "cell_type": "code",
   "execution_count": 271,
   "id": "3c9d4a6e",
   "metadata": {},
   "outputs": [],
   "source": [
    "Maindata5 = new_df.groupby(['ID','title', 'year','kind','genre','composer'],as_index = False).agg({'rating': ['mean']}).reset_index()"
   ]
  },
  {
   "cell_type": "code",
   "execution_count": 272,
   "id": "86079a46",
   "metadata": {},
   "outputs": [
    {
     "data": {
      "text/plain": [
       "(19286, 8)"
      ]
     },
     "execution_count": 272,
     "metadata": {},
     "output_type": "execute_result"
    }
   ],
   "source": [
    "Maindata5.shape"
   ]
  },
  {
   "cell_type": "code",
   "execution_count": 273,
   "id": "e45124ea",
   "metadata": {},
   "outputs": [],
   "source": [
    "Maindata6 = new_df.groupby(['ID','title', 'year','kind','genre','writer'],as_index = False).agg({'rating': ['mean']}).reset_index()"
   ]
  },
  {
   "cell_type": "code",
   "execution_count": 274,
   "id": "e76fcd6e",
   "metadata": {},
   "outputs": [
    {
     "data": {
      "text/plain": [
       "(36094, 8)"
      ]
     },
     "execution_count": 274,
     "metadata": {},
     "output_type": "execute_result"
    }
   ],
   "source": [
    "Maindata6.shape"
   ]
  },
  {
   "cell_type": "markdown",
   "id": "caee0c2e",
   "metadata": {},
   "source": [
    "## Data Extraction and Remove Duplicate part is done"
   ]
  },
  {
   "cell_type": "raw",
   "id": "44df9835",
   "metadata": {},
   "source": [
    "## Till here I have completed all important data pre processing steps and ETL process\n",
    "## I have removed the duplicates while merging\n",
    "## I have reduced the duplicated records by using group by aggregatons."
   ]
  },
  {
   "cell_type": "code",
   "execution_count": null,
   "id": "f646a324",
   "metadata": {},
   "outputs": [],
   "source": []
  },
  {
   "cell_type": "code",
   "execution_count": null,
   "id": "69d461fb",
   "metadata": {},
   "outputs": [],
   "source": []
  },
  {
   "cell_type": "markdown",
   "id": "081600c3",
   "metadata": {},
   "source": [
    "## Now it's time to explore more things in Pyspark"
   ]
  },
  {
   "cell_type": "markdown",
   "id": "020a6966",
   "metadata": {},
   "source": [
    "## Perform Data Pre Processing and Data ETL and Reporting And Analysis in Pyspark"
   ]
  },
  {
   "cell_type": "code",
   "execution_count": 275,
   "id": "a0e2632a",
   "metadata": {},
   "outputs": [],
   "source": [
    "from pyspark.sql.types import StructType\n",
    "from pyspark.sql.types import *"
   ]
  },
  {
   "cell_type": "markdown",
   "id": "c96b0cb5",
   "metadata": {},
   "source": [
    "## Preparing the Schemas for optimizing the dataframes in Pyspark"
   ]
  },
  {
   "cell_type": "code",
   "execution_count": 277,
   "id": "21711451",
   "metadata": {},
   "outputs": [],
   "source": [
    "schema = StructType(\n",
    "    [\n",
    "        StructField(\"Ser_No\", IntegerType(), True),\n",
    "        StructField(\"title\", StringType(), True),\n",
    "        StructField(\"year\", IntegerType(), True),\n",
    "        StructField(\"kind\", StringType(), True),\n",
    "        StructField(\"rating\", StringType(), True),\n",
    "        StructField(\"vote\", IntegerType(), True),\n",
    "        StructField(\"runtime\", IntegerType(), True),\n",
    "        StructField(\"ID\", IntegerType(), True),\n",
    "        StructField(\"genre\", StringType(), True),\n",
    "        StructField(\"country\", StringType(), True),\n",
    "        StructField(\"language\", StringType(), True),\n",
    "        StructField(\"cast\", StringType(), True),\n",
    "        StructField(\"director\", StringType(), True),\n",
    "        StructField(\"composer\", StringType(), True),\n",
    "        StructField(\"writer\", StringType(), True),\n",
    "        \n",
    "    ]\n",
    ")\n"
   ]
  },
  {
   "cell_type": "markdown",
   "id": "174e4155",
   "metadata": {},
   "source": [
    "## Data Extraction Part"
   ]
  },
  {
   "cell_type": "markdown",
   "id": "b3864824",
   "metadata": {},
   "source": [
    "## Read the data into the Spark Environment"
   ]
  },
  {
   "cell_type": "code",
   "execution_count": 278,
   "id": "8b401331",
   "metadata": {},
   "outputs": [],
   "source": [
    "## Read the file in the Spark environment\n",
    "Movie_df = spark.read.csv('C:\\\\Users\\\\Santhosh\\\\Desktop\\\\Rawdata_Movies_Final_Data2.csv',schema = schema , header = True)"
   ]
  },
  {
   "cell_type": "code",
   "execution_count": 279,
   "id": "43a59e26",
   "metadata": {},
   "outputs": [
    {
     "name": "stdout",
     "output_type": "stream",
     "text": [
      "root\n",
      " |-- Ser_No: integer (nullable = true)\n",
      " |-- title: string (nullable = true)\n",
      " |-- year: integer (nullable = true)\n",
      " |-- kind: string (nullable = true)\n",
      " |-- rating: string (nullable = true)\n",
      " |-- vote: integer (nullable = true)\n",
      " |-- runtime: integer (nullable = true)\n",
      " |-- ID: integer (nullable = true)\n",
      " |-- genre: string (nullable = true)\n",
      " |-- country: string (nullable = true)\n",
      " |-- language: string (nullable = true)\n",
      " |-- cast: string (nullable = true)\n",
      " |-- director: string (nullable = true)\n",
      " |-- composer: string (nullable = true)\n",
      " |-- writer: string (nullable = true)\n",
      "\n"
     ]
    }
   ],
   "source": [
    "## Get the print Schema of the dataframe\n",
    "Movie_df.printSchema()"
   ]
  },
  {
   "cell_type": "code",
   "execution_count": 280,
   "id": "2d283e0a",
   "metadata": {},
   "outputs": [
    {
     "name": "stdout",
     "output_type": "stream",
     "text": [
      "+------+--------------------+----+--------------+------+-----+-------+---+-----+-------+--------+----+--------+--------+------+\n",
      "|Ser_No|               title|year|          kind|rating| vote|runtime| ID|genre|country|language|cast|director|composer|writer|\n",
      "+------+--------------------+----+--------------+------+-----+-------+---+-----+-------+--------+----+--------+--------+------+\n",
      "|     0|     Dinosaur Planet|2003|tv mini series|   7.7|  474|     50|  0|    0|      0|       0|   0|       0|       0|     0|\n",
      "|     1|   Get Up and Dance!|1994|   video movie|   8.1|   18|     83|  1|    0|      0|       0|   0|       0|       0|     0|\n",
      "|     2|               8 Man|1992|         movie|   5.5|   93|   null|  2|    0|      0|       0|   0|       0|       0|     0|\n",
      "|     3|What the #$*! Do ...|2004|         movie|   5.3|13432|     60|  3|    0|      0|       0|   0|       0|       0|     0|\n",
      "|     4|Class of Nuke 'Em...|1991|         movie|   4.5| 2177|     96|  4|    0|      0|       0|   0|       0|       0|     0|\n",
      "|     5|Antarctica: The E...|1999|       episode|  null| null|    120|  5|    0|      0|       0|   0|       0|       0|     0|\n",
      "|     6|Neil Diamond: Gre...|1988|   video movie|     8|   81|     55|  6|    0|      0|       0|   0|       0|       0|     0|\n",
      "|     7|           7 Seconds|2005|   video movie|   4.8| 7153|    118|  7|    0|      0|       0|   0|       0|       0|     0|\n",
      "|     8|By Dawn's Early L...|1990|      tv movie|   7.1| 2898|     58|  8|    0|      0|       0|   0|       0|       0|     0|\n",
      "|     9|     Seeta Aur Geeta|1972|         movie|   6.8| 1818|     15|  9|    0|      0|       0|   0|       0|       0|     0|\n",
      "|    10|   Strange Relations|2001|      tv movie|   7.6|  768|     75| 10|    0|      0|       0|   0|       0|       0|     0|\n",
      "|    11|Sesame Street Pre...|2004|       episode|   7.2|   67|    205| 11|    0|      0|       0|   0|       0|       0|     0|\n",
      "|    12|             Boycott|2001|      tv movie|   7.2|  901|     87| 12|    0|      0|       0|   0|       0|       0|     0|\n",
      "|    13|Meat Loaf: Bat Ou...|1999|       episode|   7.7|  286|     55| 13|    0|      0|       0|   0|       0|       0|     0|\n",
      "|    14|Aqua Teen Hunger ...|2000|     tv series|   7.6|23785|     85| 14|    0|      0|       0|   0|       0|       0|     0|\n",
      "|    15|FernGully 2: The ...|1998|   video movie|   4.6| 1484|    117| 15|    0|      0|       0|   0|       0|       0|     0|\n",
      "|    16|     Lady Chatterley|1993|tv mini series|   6.9| 1605|     90| 16|    0|      0|       0|   0|       0|       0|     0|\n",
      "|    17|Zatoichi's Conspi...|1973|         movie|   7.1|  911|     92| 17|    0|      0|       0|   0|       0|       0|     0|\n",
      "|    18|  Daydream Obsession|2003|   video movie|   2.8|  120|     72| 18|    0|      0|       0|   0|       0|       0|     0|\n",
      "|    19|     Love Reinvented|1996|tv mini series|   5.3|  129|    145| 19|    0|      0|       0|   0|       0|       0|     0|\n",
      "+------+--------------------+----+--------------+------+-----+-------+---+-----+-------+--------+----+--------+--------+------+\n",
      "only showing top 20 rows\n",
      "\n"
     ]
    }
   ],
   "source": [
    "## To get the content of the dataframe\n",
    "Movie_df.show()"
   ]
  },
  {
   "cell_type": "code",
   "execution_count": 282,
   "id": "5b18fcec",
   "metadata": {},
   "outputs": [
    {
     "data": {
      "text/plain": [
       "[('Ser_No', 'int'),\n",
       " ('title', 'string'),\n",
       " ('year', 'int'),\n",
       " ('kind', 'string'),\n",
       " ('rating', 'string'),\n",
       " ('vote', 'int'),\n",
       " ('runtime', 'int'),\n",
       " ('ID', 'int'),\n",
       " ('genre', 'string'),\n",
       " ('country', 'string'),\n",
       " ('language', 'string'),\n",
       " ('cast', 'string'),\n",
       " ('director', 'string'),\n",
       " ('composer', 'string'),\n",
       " ('writer', 'string')]"
      ]
     },
     "execution_count": 282,
     "metadata": {},
     "output_type": "execute_result"
    }
   ],
   "source": [
    "## Get the columns with datatypes in a datagrame\n",
    "Movie_df.dtypes"
   ]
  },
  {
   "cell_type": "code",
   "execution_count": 283,
   "id": "42d624fc",
   "metadata": {},
   "outputs": [
    {
     "name": "stdout",
     "output_type": "stream",
     "text": [
      "+------+-----------------+----+--------------+------+----+-------+---+-----+-------+--------+----+--------+--------+------+\n",
      "|Ser_No|            title|year|          kind|rating|vote|runtime| ID|genre|country|language|cast|director|composer|writer|\n",
      "+------+-----------------+----+--------------+------+----+-------+---+-----+-------+--------+----+--------+--------+------+\n",
      "|     0|  Dinosaur Planet|2003|tv mini series|   7.7| 474|     50|  0|    0|      0|       0|   0|       0|       0|     0|\n",
      "|     1|Get Up and Dance!|1994|   video movie|   8.1|  18|     83|  1|    0|      0|       0|   0|       0|       0|     0|\n",
      "+------+-----------------+----+--------------+------+----+-------+---+-----+-------+--------+----+--------+--------+------+\n",
      "only showing top 2 rows\n",
      "\n"
     ]
    }
   ],
   "source": [
    "## To get the content of the dataframe\n",
    "Movie_df.show(2)"
   ]
  },
  {
   "cell_type": "code",
   "execution_count": 284,
   "id": "1805f473",
   "metadata": {},
   "outputs": [
    {
     "name": "stdout",
     "output_type": "stream",
     "text": [
      "Dimension of the Dataframe is: (352867, 15)\n",
      "Number of Rows are: 352867\n",
      "Number of Columns are: 15\n"
     ]
    }
   ],
   "source": [
    "# extracting number of rows from the Dataframe\n",
    "row = Movie_df.count()\n",
    "#extracting number of columns from the Dataframe\n",
    "col = len(Movie_df.columns)\n",
    "#printing\n",
    "print(f'Dimension of the Dataframe is: {(row,col)}')\n",
    "print(f'Number of Rows are: {row}')\n",
    "print(f'Number of Columns are: {col}')"
   ]
  },
  {
   "cell_type": "code",
   "execution_count": 285,
   "id": "b90fd58f",
   "metadata": {},
   "outputs": [
    {
     "name": "stdout",
     "output_type": "stream",
     "text": [
      "root\n",
      " |-- Ser_No: integer (nullable = true)\n",
      " |-- title: string (nullable = true)\n",
      " |-- year: integer (nullable = true)\n",
      " |-- kind: string (nullable = true)\n",
      " |-- rating: string (nullable = true)\n",
      " |-- vote: integer (nullable = true)\n",
      " |-- runtime: integer (nullable = true)\n",
      " |-- ID: integer (nullable = true)\n",
      " |-- genre: string (nullable = true)\n",
      " |-- country: string (nullable = true)\n",
      " |-- language: string (nullable = true)\n",
      " |-- cast: string (nullable = true)\n",
      " |-- director: string (nullable = true)\n",
      " |-- composer: string (nullable = true)\n",
      " |-- writer: string (nullable = true)\n",
      "\n"
     ]
    }
   ],
   "source": [
    "## To get the print schema of the dataframe\n",
    "Movie_df.printSchema()"
   ]
  },
  {
   "cell_type": "code",
   "execution_count": 286,
   "id": "0ef1eaad",
   "metadata": {},
   "outputs": [
    {
     "name": "stdout",
     "output_type": "stream",
     "text": [
      "+------+--------------------+----+--------------+------+-----+-------+---+-----+-------+--------+----+--------+--------+------+\n",
      "|Ser_No|               title|year|          kind|rating| vote|runtime| ID|genre|country|language|cast|director|composer|writer|\n",
      "+------+--------------------+----+--------------+------+-----+-------+---+-----+-------+--------+----+--------+--------+------+\n",
      "|     0|     Dinosaur Planet|2003|tv mini series|   7.7|  474|     50|  0|    0|      0|       0|   0|       0|       0|     0|\n",
      "|     1|   Get Up and Dance!|1994|   video movie|   8.1|   18|     83|  1|    0|      0|       0|   0|       0|       0|     0|\n",
      "|     2|               8 Man|1992|         movie|   5.5|   93|   null|  2|    0|      0|       0|   0|       0|       0|     0|\n",
      "|     3|What the #$*! Do ...|2004|         movie|   5.3|13432|     60|  3|    0|      0|       0|   0|       0|       0|     0|\n",
      "|     4|Class of Nuke 'Em...|1991|         movie|   4.5| 2177|     96|  4|    0|      0|       0|   0|       0|       0|     0|\n",
      "|     5|Antarctica: The E...|1999|       episode|  null| null|    120|  5|    0|      0|       0|   0|       0|       0|     0|\n",
      "|     6|Neil Diamond: Gre...|1988|   video movie|     8|   81|     55|  6|    0|      0|       0|   0|       0|       0|     0|\n",
      "|     7|           7 Seconds|2005|   video movie|   4.8| 7153|    118|  7|    0|      0|       0|   0|       0|       0|     0|\n",
      "|     8|By Dawn's Early L...|1990|      tv movie|   7.1| 2898|     58|  8|    0|      0|       0|   0|       0|       0|     0|\n",
      "|     9|     Seeta Aur Geeta|1972|         movie|   6.8| 1818|     15|  9|    0|      0|       0|   0|       0|       0|     0|\n",
      "|    10|   Strange Relations|2001|      tv movie|   7.6|  768|     75| 10|    0|      0|       0|   0|       0|       0|     0|\n",
      "|    11|Sesame Street Pre...|2004|       episode|   7.2|   67|    205| 11|    0|      0|       0|   0|       0|       0|     0|\n",
      "|    12|             Boycott|2001|      tv movie|   7.2|  901|     87| 12|    0|      0|       0|   0|       0|       0|     0|\n",
      "|    13|Meat Loaf: Bat Ou...|1999|       episode|   7.7|  286|     55| 13|    0|      0|       0|   0|       0|       0|     0|\n",
      "|    14|Aqua Teen Hunger ...|2000|     tv series|   7.6|23785|     85| 14|    0|      0|       0|   0|       0|       0|     0|\n",
      "|    15|FernGully 2: The ...|1998|   video movie|   4.6| 1484|    117| 15|    0|      0|       0|   0|       0|       0|     0|\n",
      "|    16|     Lady Chatterley|1993|tv mini series|   6.9| 1605|     90| 16|    0|      0|       0|   0|       0|       0|     0|\n",
      "|    17|Zatoichi's Conspi...|1973|         movie|   7.1|  911|     92| 17|    0|      0|       0|   0|       0|       0|     0|\n",
      "|    18|  Daydream Obsession|2003|   video movie|   2.8|  120|     72| 18|    0|      0|       0|   0|       0|       0|     0|\n",
      "|    19|     Love Reinvented|1996|tv mini series|   5.3|  129|    145| 19|    0|      0|       0|   0|       0|       0|     0|\n",
      "+------+--------------------+----+--------------+------+-----+-------+---+-----+-------+--------+----+--------+--------+------+\n",
      "only showing top 20 rows\n",
      "\n"
     ]
    }
   ],
   "source": [
    "## Replacing the null values with zeros in a dataframes\n",
    "Movie_df1 = Movie_df.fillna(value = 0, subset=[\"genre\",\"country\",\"language\",\"cast\",\"director\",\"composer\",\"writer\"]) \\\n",
    "   .show()"
   ]
  },
  {
   "cell_type": "markdown",
   "id": "a541a886",
   "metadata": {},
   "source": [
    "## Check the Meta Data Properties"
   ]
  },
  {
   "cell_type": "code",
   "execution_count": 287,
   "id": "d6458b08",
   "metadata": {},
   "outputs": [],
   "source": [
    "# Retrieving data from 0th row \n",
    "Info = Movie_df.collect()[0][0:]"
   ]
  },
  {
   "cell_type": "code",
   "execution_count": 288,
   "id": "f397cbcc",
   "metadata": {},
   "outputs": [
    {
     "name": "stdout",
     "output_type": "stream",
     "text": [
      "first row - second column  : Dinosaur Planet\n",
      "Third  row - Third column  : 8 Man\n",
      "Third  row - Third column  : 1992\n"
     ]
    }
   ],
   "source": [
    "# first row - second column\n",
    "print(\"first row - second column  :\",\n",
    "      Movie_df.collect()[0][1])\n",
    "  \n",
    "# Third  row - Third column\n",
    "print(\"Third  row - Third column  :\",\n",
    "      Movie_df.collect()[2][1])\n",
    "  \n",
    "# Third  row - Third column\n",
    "print(\"Third  row - Third column  :\",\n",
    "      Movie_df.collect()[2][2])"
   ]
  },
  {
   "cell_type": "markdown",
   "id": "a4d12a3c",
   "metadata": {},
   "source": [
    "## Calculating Basic Descriptive Statistics to understand data"
   ]
  },
  {
   "cell_type": "code",
   "execution_count": 289,
   "id": "026acf0d",
   "metadata": {},
   "outputs": [],
   "source": [
    "## Getting the count of the dataframe"
   ]
  },
  {
   "cell_type": "code",
   "execution_count": 290,
   "id": "b2eb6c96",
   "metadata": {},
   "outputs": [
    {
     "name": "stdout",
     "output_type": "stream",
     "text": [
      "+------------+\n",
      "|count(title)|\n",
      "+------------+\n",
      "|      352867|\n",
      "+------------+\n",
      "\n"
     ]
    }
   ],
   "source": [
    "## Get the count\n",
    "from pyspark.sql.functions import count\n",
    "Movie_df.select(count(Movie_df.title)).show()"
   ]
  },
  {
   "cell_type": "code",
   "execution_count": 291,
   "id": "e7a74075",
   "metadata": {},
   "outputs": [
    {
     "name": "stdout",
     "output_type": "stream",
     "text": [
      "+------------+-----------+\n",
      "|count(title)|count(year)|\n",
      "+------------+-----------+\n",
      "|      352867|     352867|\n",
      "+------------+-----------+\n",
      "\n"
     ]
    }
   ],
   "source": [
    "## Get the total Number of records\n",
    "Movie_df.select(count(Movie_df.title),count(Movie_df.year)).show()"
   ]
  },
  {
   "cell_type": "code",
   "execution_count": 292,
   "id": "f5eeab1a",
   "metadata": {},
   "outputs": [
    {
     "name": "stdout",
     "output_type": "stream",
     "text": [
      "+-----------+------------+\n",
      "|count(year)|count(title)|\n",
      "+-----------+------------+\n",
      "|     352867|      352867|\n",
      "+-----------+------------+\n",
      "\n"
     ]
    }
   ],
   "source": [
    "## Using aggregations\n",
    "Movie_df.agg({'title':'count','year':'count'}).show()"
   ]
  },
  {
   "cell_type": "code",
   "execution_count": 293,
   "id": "218ec833",
   "metadata": {},
   "outputs": [
    {
     "name": "stdout",
     "output_type": "stream",
     "text": [
      "+----+-----+\n",
      "|year|count|\n",
      "+----+-----+\n",
      "|1959| 4037|\n",
      "|1990| 5444|\n",
      "|1975| 1887|\n",
      "|1977| 2644|\n",
      "|1924|   59|\n",
      "|2003|26160|\n",
      "|1974| 3366|\n",
      "|1927|  400|\n",
      "|1955|  948|\n",
      "|1978| 2903|\n",
      "|1925|  111|\n",
      "|1961|  804|\n",
      "|1942|  535|\n",
      "|1944|  428|\n",
      "|1939|  522|\n",
      "|1922|   65|\n",
      "|1952|  991|\n",
      "|1956|  944|\n",
      "|1934|  217|\n",
      "|1988| 6225|\n",
      "+----+-----+\n",
      "only showing top 20 rows\n",
      "\n"
     ]
    }
   ],
   "source": [
    "## Getting the count of the year in a dataframes\n",
    "Movie_df.groupBy('year').count().show()"
   ]
  },
  {
   "cell_type": "markdown",
   "id": "05a7c2ac",
   "metadata": {},
   "source": [
    "## Preparing  reports to get insights from the data"
   ]
  },
  {
   "cell_type": "code",
   "execution_count": 294,
   "id": "05ad2c23",
   "metadata": {},
   "outputs": [
    {
     "name": "stdout",
     "output_type": "stream",
     "text": [
      "+------+-----+----+----+------+----+-------+---+-----+-------+--------+----+--------+--------+------+\n",
      "|Ser_No|title|year|kind|rating|vote|runtime| ID|genre|country|language|cast|director|composer|writer|\n",
      "+------+-----+----+----+------+----+-------+---+-----+-------+--------+----+--------+--------+------+\n",
      "|     0|    0|   0|   0|  4162|4162|  76041|  0|    0|      0|       0|   0|       0|       0|     0|\n",
      "+------+-----+----+----+------+----+-------+---+-----+-------+--------+----+--------+--------+------+\n",
      "\n"
     ]
    }
   ],
   "source": [
    "## find and count the null, None, NaN of all the Dataframe colunmns\n",
    "from pyspark.sql.functions import col,isnan,when,count\n",
    "Movie_df.select([count(when(isnan(composer) | col(composer).isNull(),composer)).alias(composer) for composer in Movie_df.columns]).show()"
   ]
  },
  {
   "cell_type": "code",
   "execution_count": 295,
   "id": "342f78d4",
   "metadata": {},
   "outputs": [
    {
     "data": {
      "text/html": [
       "<div>\n",
       "<style scoped>\n",
       "    .dataframe tbody tr th:only-of-type {\n",
       "        vertical-align: middle;\n",
       "    }\n",
       "\n",
       "    .dataframe tbody tr th {\n",
       "        vertical-align: top;\n",
       "    }\n",
       "\n",
       "    .dataframe thead th {\n",
       "        text-align: right;\n",
       "    }\n",
       "</style>\n",
       "<table border=\"1\" class=\"dataframe\">\n",
       "  <thead>\n",
       "    <tr style=\"text-align: right;\">\n",
       "      <th></th>\n",
       "      <th>Ser_No</th>\n",
       "      <th>title</th>\n",
       "      <th>year</th>\n",
       "      <th>kind</th>\n",
       "      <th>rating</th>\n",
       "      <th>vote</th>\n",
       "      <th>runtime</th>\n",
       "      <th>ID</th>\n",
       "      <th>genre</th>\n",
       "      <th>country</th>\n",
       "      <th>language</th>\n",
       "      <th>cast</th>\n",
       "      <th>director</th>\n",
       "      <th>composer</th>\n",
       "      <th>writer</th>\n",
       "    </tr>\n",
       "  </thead>\n",
       "  <tbody>\n",
       "    <tr>\n",
       "      <th>0</th>\n",
       "      <td>8</td>\n",
       "      <td>0</td>\n",
       "      <td>0</td>\n",
       "      <td>0</td>\n",
       "      <td>0</td>\n",
       "      <td>0</td>\n",
       "      <td>0</td>\n",
       "      <td>13</td>\n",
       "      <td>330841</td>\n",
       "      <td>342381</td>\n",
       "      <td>342067</td>\n",
       "      <td>88693</td>\n",
       "      <td>344750</td>\n",
       "      <td>345658</td>\n",
       "      <td>337486</td>\n",
       "    </tr>\n",
       "  </tbody>\n",
       "</table>\n",
       "</div>"
      ],
      "text/plain": [
       "   Ser_No  title  year  kind  rating  vote  runtime  ID   genre  country  \\\n",
       "0       8      0     0     0       0     0        0  13  330841   342381   \n",
       "\n",
       "   language   cast  director  composer  writer  \n",
       "0    342067  88693    344750    345658  337486  "
      ]
     },
     "execution_count": 295,
     "metadata": {},
     "output_type": "execute_result"
    }
   ],
   "source": [
    "## Count the no.of zeros in all columns of dataframe\n",
    "import pyspark.sql.functions as F\n",
    "df_zero = Movie_df.select([F.count(F.when(Movie_df[c] == 0,c)).alias(c) for c in Movie_df.columns])\n",
    "df_zero.limit(2).toPandas().head()"
   ]
  },
  {
   "cell_type": "code",
   "execution_count": 296,
   "id": "74d19917",
   "metadata": {},
   "outputs": [
    {
     "data": {
      "text/plain": [
       "0"
      ]
     },
     "execution_count": 296,
     "metadata": {},
     "output_type": "execute_result"
    }
   ],
   "source": [
    "Movie_df.filter(col(\"runtime\") == 0).count()"
   ]
  },
  {
   "cell_type": "code",
   "execution_count": 297,
   "id": "3734b36d",
   "metadata": {},
   "outputs": [
    {
     "data": {
      "text/html": [
       "<div>\n",
       "<style scoped>\n",
       "    .dataframe tbody tr th:only-of-type {\n",
       "        vertical-align: middle;\n",
       "    }\n",
       "\n",
       "    .dataframe tbody tr th {\n",
       "        vertical-align: top;\n",
       "    }\n",
       "\n",
       "    .dataframe thead th {\n",
       "        text-align: right;\n",
       "    }\n",
       "</style>\n",
       "<table border=\"1\" class=\"dataframe\">\n",
       "  <thead>\n",
       "    <tr style=\"text-align: right;\">\n",
       "      <th></th>\n",
       "      <th>Ser_No</th>\n",
       "      <th>title</th>\n",
       "      <th>year</th>\n",
       "      <th>kind</th>\n",
       "      <th>rating</th>\n",
       "      <th>vote</th>\n",
       "      <th>runtime</th>\n",
       "      <th>ID</th>\n",
       "      <th>genre</th>\n",
       "      <th>country</th>\n",
       "      <th>language</th>\n",
       "      <th>cast</th>\n",
       "      <th>director</th>\n",
       "      <th>composer</th>\n",
       "      <th>writer</th>\n",
       "    </tr>\n",
       "  </thead>\n",
       "  <tbody>\n",
       "    <tr>\n",
       "      <th>0</th>\n",
       "      <td>352859</td>\n",
       "      <td>266</td>\n",
       "      <td>352867</td>\n",
       "      <td>0</td>\n",
       "      <td>348705</td>\n",
       "      <td>348705</td>\n",
       "      <td>276826</td>\n",
       "      <td>352854</td>\n",
       "      <td>0</td>\n",
       "      <td>0</td>\n",
       "      <td>0</td>\n",
       "      <td>0</td>\n",
       "      <td>0</td>\n",
       "      <td>0</td>\n",
       "      <td>0</td>\n",
       "    </tr>\n",
       "  </tbody>\n",
       "</table>\n",
       "</div>"
      ],
      "text/plain": [
       "   Ser_No  title    year  kind  rating    vote  runtime      ID  genre  \\\n",
       "0  352859    266  352867     0  348705  348705   276826  352854      0   \n",
       "\n",
       "   country  language  cast  director  composer  writer  \n",
       "0        0         0     0         0         0       0  "
      ]
     },
     "execution_count": 297,
     "metadata": {},
     "output_type": "execute_result"
    }
   ],
   "source": [
    "## Count the no.of Non- zeros in all columns of dataframe\n",
    "import pyspark.sql.functions as F\n",
    "df_zero = Movie_df.select([F.count(F.when(Movie_df[c] != 0,c)).alias(c) for c in Movie_df.columns])\n",
    "df_zero.limit(2).toPandas().head()"
   ]
  },
  {
   "cell_type": "code",
   "execution_count": 298,
   "id": "719eb512",
   "metadata": {},
   "outputs": [
    {
     "data": {
      "text/plain": [
       "276826"
      ]
     },
     "execution_count": 298,
     "metadata": {},
     "output_type": "execute_result"
    }
   ],
   "source": [
    "Movie_df.filter(col(\"runtime\") != 0).count()"
   ]
  },
  {
   "cell_type": "code",
   "execution_count": 299,
   "id": "50b4214d",
   "metadata": {},
   "outputs": [
    {
     "data": {
      "text/html": [
       "<div>\n",
       "<style scoped>\n",
       "    .dataframe tbody tr th:only-of-type {\n",
       "        vertical-align: middle;\n",
       "    }\n",
       "\n",
       "    .dataframe tbody tr th {\n",
       "        vertical-align: top;\n",
       "    }\n",
       "\n",
       "    .dataframe thead th {\n",
       "        text-align: right;\n",
       "    }\n",
       "</style>\n",
       "<table border=\"1\" class=\"dataframe\">\n",
       "  <thead>\n",
       "    <tr style=\"text-align: right;\">\n",
       "      <th></th>\n",
       "      <th>(count(CASE WHEN (isnan(Ser_No) OR (Ser_No IS NULL)) THEN Ser_No END) / count(1) AS Ser_No)</th>\n",
       "      <th>(count(CASE WHEN (isnan(title) OR (title IS NULL)) THEN title END) / count(1) AS title)</th>\n",
       "      <th>(count(CASE WHEN (isnan(year) OR (year IS NULL)) THEN year END) / count(1) AS year)</th>\n",
       "      <th>(count(CASE WHEN (isnan(kind) OR (kind IS NULL)) THEN kind END) / count(1) AS kind)</th>\n",
       "      <th>(count(CASE WHEN (isnan(rating) OR (rating IS NULL)) THEN rating END) / count(1) AS rating)</th>\n",
       "      <th>(count(CASE WHEN (isnan(vote) OR (vote IS NULL)) THEN vote END) / count(1) AS vote)</th>\n",
       "      <th>(count(CASE WHEN (isnan(runtime) OR (runtime IS NULL)) THEN runtime END) / count(1) AS runtime)</th>\n",
       "      <th>(count(CASE WHEN (isnan(ID) OR (ID IS NULL)) THEN ID END) / count(1) AS ID)</th>\n",
       "      <th>(count(CASE WHEN (isnan(genre) OR (genre IS NULL)) THEN genre END) / count(1) AS genre)</th>\n",
       "      <th>(count(CASE WHEN (isnan(country) OR (country IS NULL)) THEN country END) / count(1) AS country)</th>\n",
       "      <th>(count(CASE WHEN (isnan(language) OR (language IS NULL)) THEN language END) / count(1) AS language)</th>\n",
       "      <th>(count(CASE WHEN (isnan(cast) OR (cast IS NULL)) THEN cast END) / count(1) AS cast)</th>\n",
       "      <th>(count(CASE WHEN (isnan(director) OR (director IS NULL)) THEN director END) / count(1) AS director)</th>\n",
       "      <th>(count(CASE WHEN (isnan(composer) OR (composer IS NULL)) THEN composer END) / count(1) AS composer)</th>\n",
       "      <th>(count(CASE WHEN (isnan(writer) OR (writer IS NULL)) THEN writer END) / count(1) AS writer)</th>\n",
       "    </tr>\n",
       "  </thead>\n",
       "  <tbody>\n",
       "    <tr>\n",
       "      <th>0</th>\n",
       "      <td>0.0</td>\n",
       "      <td>0.0</td>\n",
       "      <td>0.0</td>\n",
       "      <td>0.0</td>\n",
       "      <td>0.011795</td>\n",
       "      <td>0.011795</td>\n",
       "      <td>0.215495</td>\n",
       "      <td>0.0</td>\n",
       "      <td>0.0</td>\n",
       "      <td>0.0</td>\n",
       "      <td>0.0</td>\n",
       "      <td>0.0</td>\n",
       "      <td>0.0</td>\n",
       "      <td>0.0</td>\n",
       "      <td>0.0</td>\n",
       "    </tr>\n",
       "  </tbody>\n",
       "</table>\n",
       "</div>"
      ],
      "text/plain": [
       "   (count(CASE WHEN (isnan(Ser_No) OR (Ser_No IS NULL)) THEN Ser_No END) / count(1) AS Ser_No)  \\\n",
       "0                                                0.0                                             \n",
       "\n",
       "   (count(CASE WHEN (isnan(title) OR (title IS NULL)) THEN title END) / count(1) AS title)  \\\n",
       "0                                                0.0                                         \n",
       "\n",
       "   (count(CASE WHEN (isnan(year) OR (year IS NULL)) THEN year END) / count(1) AS year)  \\\n",
       "0                                                0.0                                     \n",
       "\n",
       "   (count(CASE WHEN (isnan(kind) OR (kind IS NULL)) THEN kind END) / count(1) AS kind)  \\\n",
       "0                                                0.0                                     \n",
       "\n",
       "   (count(CASE WHEN (isnan(rating) OR (rating IS NULL)) THEN rating END) / count(1) AS rating)  \\\n",
       "0                                           0.011795                                             \n",
       "\n",
       "   (count(CASE WHEN (isnan(vote) OR (vote IS NULL)) THEN vote END) / count(1) AS vote)  \\\n",
       "0                                           0.011795                                     \n",
       "\n",
       "   (count(CASE WHEN (isnan(runtime) OR (runtime IS NULL)) THEN runtime END) / count(1) AS runtime)  \\\n",
       "0                                           0.215495                                                 \n",
       "\n",
       "   (count(CASE WHEN (isnan(ID) OR (ID IS NULL)) THEN ID END) / count(1) AS ID)  \\\n",
       "0                                                0.0                             \n",
       "\n",
       "   (count(CASE WHEN (isnan(genre) OR (genre IS NULL)) THEN genre END) / count(1) AS genre)  \\\n",
       "0                                                0.0                                         \n",
       "\n",
       "   (count(CASE WHEN (isnan(country) OR (country IS NULL)) THEN country END) / count(1) AS country)  \\\n",
       "0                                                0.0                                                 \n",
       "\n",
       "   (count(CASE WHEN (isnan(language) OR (language IS NULL)) THEN language END) / count(1) AS language)  \\\n",
       "0                                                0.0                                                     \n",
       "\n",
       "   (count(CASE WHEN (isnan(cast) OR (cast IS NULL)) THEN cast END) / count(1) AS cast)  \\\n",
       "0                                                0.0                                     \n",
       "\n",
       "   (count(CASE WHEN (isnan(director) OR (director IS NULL)) THEN director END) / count(1) AS director)  \\\n",
       "0                                                0.0                                                     \n",
       "\n",
       "   (count(CASE WHEN (isnan(composer) OR (composer IS NULL)) THEN composer END) / count(1) AS composer)  \\\n",
       "0                                                0.0                                                     \n",
       "\n",
       "   (count(CASE WHEN (isnan(writer) OR (writer IS NULL)) THEN writer END) / count(1) AS writer)  \n",
       "0                                                0.0                                            "
      ]
     },
     "execution_count": 299,
     "metadata": {},
     "output_type": "execute_result"
    }
   ],
   "source": [
    "## Claculating Percentage for misiing values in each every column in a dataframe: Generic solution for all columns\n",
    "missing_df = Movie_df.select([count(when(isnan(c) | col(c).isNull(),c))/count(lit(1)).alias(c) for c in Movie_df.columns])\n",
    "missing_df.limit(2).toPandas().head()"
   ]
  },
  {
   "cell_type": "code",
   "execution_count": 300,
   "id": "5f8b5b8e",
   "metadata": {},
   "outputs": [
    {
     "data": {
      "text/html": [
       "<div>\n",
       "<style scoped>\n",
       "    .dataframe tbody tr th:only-of-type {\n",
       "        vertical-align: middle;\n",
       "    }\n",
       "\n",
       "    .dataframe tbody tr th {\n",
       "        vertical-align: top;\n",
       "    }\n",
       "\n",
       "    .dataframe thead th {\n",
       "        text-align: right;\n",
       "    }\n",
       "</style>\n",
       "<table border=\"1\" class=\"dataframe\">\n",
       "  <thead>\n",
       "    <tr style=\"text-align: right;\">\n",
       "      <th></th>\n",
       "      <th>Ser_No</th>\n",
       "      <th>title</th>\n",
       "      <th>year</th>\n",
       "      <th>kind</th>\n",
       "      <th>rating</th>\n",
       "      <th>vote</th>\n",
       "      <th>runtime</th>\n",
       "      <th>ID</th>\n",
       "      <th>genre</th>\n",
       "      <th>country</th>\n",
       "      <th>language</th>\n",
       "      <th>cast</th>\n",
       "      <th>director</th>\n",
       "      <th>composer</th>\n",
       "      <th>writer</th>\n",
       "    </tr>\n",
       "  </thead>\n",
       "  <tbody>\n",
       "    <tr>\n",
       "      <th>0</th>\n",
       "      <td>0.000023</td>\n",
       "      <td>0.0</td>\n",
       "      <td>0.0</td>\n",
       "      <td>0.0</td>\n",
       "      <td>0.0</td>\n",
       "      <td>0.0</td>\n",
       "      <td>0.0</td>\n",
       "      <td>0.000037</td>\n",
       "      <td>0.93758</td>\n",
       "      <td>0.970283</td>\n",
       "      <td>0.969394</td>\n",
       "      <td>0.25135</td>\n",
       "      <td>0.976997</td>\n",
       "      <td>0.97957</td>\n",
       "      <td>0.956411</td>\n",
       "    </tr>\n",
       "  </tbody>\n",
       "</table>\n",
       "</div>"
      ],
      "text/plain": [
       "     Ser_No  title  year  kind  rating  vote  runtime        ID    genre  \\\n",
       "0  0.000023    0.0   0.0   0.0     0.0   0.0      0.0  0.000037  0.93758   \n",
       "\n",
       "    country  language     cast  director  composer    writer  \n",
       "0  0.970283  0.969394  0.25135  0.976997   0.97957  0.956411  "
      ]
     },
     "execution_count": 300,
     "metadata": {},
     "output_type": "execute_result"
    }
   ],
   "source": [
    "## Calculating the percentage for zeros for each and every column in a given dataframe\n",
    "Zeros_Perc = Movie_df.select([(count(when(Movie_df[c] == 0,c))/count(lit(1))).alias(c) for c in Movie_df.columns])\n",
    "\n",
    "Zeros_Perc.limit(2).toPandas().head()"
   ]
  },
  {
   "cell_type": "code",
   "execution_count": 301,
   "id": "0d1d4992",
   "metadata": {},
   "outputs": [
    {
     "data": {
      "text/html": [
       "<div>\n",
       "<style scoped>\n",
       "    .dataframe tbody tr th:only-of-type {\n",
       "        vertical-align: middle;\n",
       "    }\n",
       "\n",
       "    .dataframe tbody tr th {\n",
       "        vertical-align: top;\n",
       "    }\n",
       "\n",
       "    .dataframe thead th {\n",
       "        text-align: right;\n",
       "    }\n",
       "</style>\n",
       "<table border=\"1\" class=\"dataframe\">\n",
       "  <thead>\n",
       "    <tr style=\"text-align: right;\">\n",
       "      <th></th>\n",
       "      <th>Ser_No</th>\n",
       "      <th>title</th>\n",
       "      <th>year</th>\n",
       "      <th>kind</th>\n",
       "      <th>rating</th>\n",
       "      <th>vote</th>\n",
       "      <th>runtime</th>\n",
       "      <th>ID</th>\n",
       "      <th>genre</th>\n",
       "      <th>country</th>\n",
       "      <th>language</th>\n",
       "      <th>cast</th>\n",
       "      <th>director</th>\n",
       "      <th>composer</th>\n",
       "      <th>writer</th>\n",
       "    </tr>\n",
       "  </thead>\n",
       "  <tbody>\n",
       "    <tr>\n",
       "      <th>0</th>\n",
       "      <td>0.999977</td>\n",
       "      <td>0.000754</td>\n",
       "      <td>1.0</td>\n",
       "      <td>0.0</td>\n",
       "      <td>0.988205</td>\n",
       "      <td>0.988205</td>\n",
       "      <td>0.784505</td>\n",
       "      <td>0.999963</td>\n",
       "      <td>0.0</td>\n",
       "      <td>0.0</td>\n",
       "      <td>0.0</td>\n",
       "      <td>0.0</td>\n",
       "      <td>0.0</td>\n",
       "      <td>0.0</td>\n",
       "      <td>0.0</td>\n",
       "    </tr>\n",
       "  </tbody>\n",
       "</table>\n",
       "</div>"
      ],
      "text/plain": [
       "     Ser_No     title  year  kind    rating      vote   runtime        ID  \\\n",
       "0  0.999977  0.000754   1.0   0.0  0.988205  0.988205  0.784505  0.999963   \n",
       "\n",
       "   genre  country  language  cast  director  composer  writer  \n",
       "0    0.0      0.0       0.0   0.0       0.0       0.0     0.0  "
      ]
     },
     "execution_count": 301,
     "metadata": {},
     "output_type": "execute_result"
    }
   ],
   "source": [
    "## Calculating the percentage for zeros for each and every column in a given dataframe\n",
    "Non_Zeros_Perc = Movie_df.select([(count(when(Movie_df[c] != 0,c))/count(lit(1))).alias(c) for c in Movie_df.columns])\n",
    "\n",
    "Non_Zeros_Perc.limit(2).toPandas().head()"
   ]
  },
  {
   "cell_type": "markdown",
   "id": "04fd7db7",
   "metadata": {},
   "source": [
    "## Removing the Tailing and Leading Spaces in a given Dataframe"
   ]
  },
  {
   "cell_type": "code",
   "execution_count": 303,
   "id": "aefa71ef",
   "metadata": {},
   "outputs": [
    {
     "name": "stdout",
     "output_type": "stream",
     "text": [
      "+------+--------------------+----+--------------+------+-----+-------+---+-----+-------+--------+----+--------+--------+------+\n",
      "|Ser_No|               title|year|          kind|rating| vote|runtime| ID|genre|country|language|cast|director|composer|writer|\n",
      "+------+--------------------+----+--------------+------+-----+-------+---+-----+-------+--------+----+--------+--------+------+\n",
      "|     0|     Dinosaur Planet|2003|tv mini series|   7.7|  474|     50|  0|    0|      0|       0|   0|       0|       0|     0|\n",
      "|     1|   Get Up and Dance!|1994|   video movie|   8.1|   18|     83|  1|    0|      0|       0|   0|       0|       0|     0|\n",
      "|     2|               8 Man|1992|         movie|   5.5|   93|   null|  2|    0|      0|       0|   0|       0|       0|     0|\n",
      "|     3|What the #$*! Do ...|2004|         movie|   5.3|13432|     60|  3|    0|      0|       0|   0|       0|       0|     0|\n",
      "|     4|Class of Nuke 'Em...|1991|         movie|   4.5| 2177|     96|  4|    0|      0|       0|   0|       0|       0|     0|\n",
      "|     5|Antarctica: The E...|1999|       episode|  null| null|    120|  5|    0|      0|       0|   0|       0|       0|     0|\n",
      "|     6|Neil Diamond: Gre...|1988|   video movie|     8|   81|     55|  6|    0|      0|       0|   0|       0|       0|     0|\n",
      "|     7|           7 Seconds|2005|   video movie|   4.8| 7153|    118|  7|    0|      0|       0|   0|       0|       0|     0|\n",
      "|     8|By Dawn's Early L...|1990|      tv movie|   7.1| 2898|     58|  8|    0|      0|       0|   0|       0|       0|     0|\n",
      "|     9|     Seeta Aur Geeta|1972|         movie|   6.8| 1818|     15|  9|    0|      0|       0|   0|       0|       0|     0|\n",
      "|    10|   Strange Relations|2001|      tv movie|   7.6|  768|     75| 10|    0|      0|       0|   0|       0|       0|     0|\n",
      "|    11|Sesame Street Pre...|2004|       episode|   7.2|   67|    205| 11|    0|      0|       0|   0|       0|       0|     0|\n",
      "|    12|             Boycott|2001|      tv movie|   7.2|  901|     87| 12|    0|      0|       0|   0|       0|       0|     0|\n",
      "|    13|Meat Loaf: Bat Ou...|1999|       episode|   7.7|  286|     55| 13|    0|      0|       0|   0|       0|       0|     0|\n",
      "|    14|Aqua Teen Hunger ...|2000|     tv series|   7.6|23785|     85| 14|    0|      0|       0|   0|       0|       0|     0|\n",
      "|    15|FernGully 2: The ...|1998|   video movie|   4.6| 1484|    117| 15|    0|      0|       0|   0|       0|       0|     0|\n",
      "|    16|     Lady Chatterley|1993|tv mini series|   6.9| 1605|     90| 16|    0|      0|       0|   0|       0|       0|     0|\n",
      "|    17|Zatoichi's Conspi...|1973|         movie|   7.1|  911|     92| 17|    0|      0|       0|   0|       0|       0|     0|\n",
      "|    18|  Daydream Obsession|2003|   video movie|   2.8|  120|     72| 18|    0|      0|       0|   0|       0|       0|     0|\n",
      "|    19|     Love Reinvented|1996|tv mini series|   5.3|  129|    145| 19|    0|      0|       0|   0|       0|       0|     0|\n",
      "+------+--------------------+----+--------------+------+-----+-------+---+-----+-------+--------+----+--------+--------+------+\n",
      "only showing top 20 rows\n",
      "\n",
      "+------+--------------------+--------------------+--------------+------+-----+-------+---+-----+-------+--------+----+--------+--------+------+\n",
      "|Ser_No|               title|                year|          kind|rating| vote|runtime| ID|genre|country|language|cast|director|composer|writer|\n",
      "+------+--------------------+--------------------+--------------+------+-----+-------+---+-----+-------+--------+----+--------+--------+------+\n",
      "|     0|     Dinosaur Planet|     Dinosaur Planet|tv mini series|   7.7|  474|     50|  0|    0|      0|       0|   0|       0|       0|     0|\n",
      "|     1|   Get Up and Dance!|   Get Up and Dance!|   video movie|   8.1|   18|     83|  1|    0|      0|       0|   0|       0|       0|     0|\n",
      "|     2|               8 Man|               8 Man|         movie|   5.5|   93|   null|  2|    0|      0|       0|   0|       0|       0|     0|\n",
      "|     3|What the #$*! Do ...|What the #$*! Do ...|         movie|   5.3|13432|     60|  3|    0|      0|       0|   0|       0|       0|     0|\n",
      "|     4|Class of Nuke 'Em...|Class of Nuke 'Em...|         movie|   4.5| 2177|     96|  4|    0|      0|       0|   0|       0|       0|     0|\n",
      "|     5|Antarctica: The E...|Antarctica: The E...|       episode|  null| null|    120|  5|    0|      0|       0|   0|       0|       0|     0|\n",
      "|     6|Neil Diamond: Gre...|Neil Diamond: Gre...|   video movie|     8|   81|     55|  6|    0|      0|       0|   0|       0|       0|     0|\n",
      "|     7|           7 Seconds|           7 Seconds|   video movie|   4.8| 7153|    118|  7|    0|      0|       0|   0|       0|       0|     0|\n",
      "|     8|By Dawn's Early L...|By Dawn's Early L...|      tv movie|   7.1| 2898|     58|  8|    0|      0|       0|   0|       0|       0|     0|\n",
      "|     9|     Seeta Aur Geeta|     Seeta Aur Geeta|         movie|   6.8| 1818|     15|  9|    0|      0|       0|   0|       0|       0|     0|\n",
      "|    10|   Strange Relations|   Strange Relations|      tv movie|   7.6|  768|     75| 10|    0|      0|       0|   0|       0|       0|     0|\n",
      "|    11|Sesame Street Pre...|Sesame Street Pre...|       episode|   7.2|   67|    205| 11|    0|      0|       0|   0|       0|       0|     0|\n",
      "|    12|             Boycott|             Boycott|      tv movie|   7.2|  901|     87| 12|    0|      0|       0|   0|       0|       0|     0|\n",
      "|    13|Meat Loaf: Bat Ou...|Meat Loaf: Bat Ou...|       episode|   7.7|  286|     55| 13|    0|      0|       0|   0|       0|       0|     0|\n",
      "|    14|Aqua Teen Hunger ...|Aqua Teen Hunger ...|     tv series|   7.6|23785|     85| 14|    0|      0|       0|   0|       0|       0|     0|\n",
      "|    15|FernGully 2: The ...|FernGully 2: The ...|   video movie|   4.6| 1484|    117| 15|    0|      0|       0|   0|       0|       0|     0|\n",
      "|    16|     Lady Chatterley|     Lady Chatterley|tv mini series|   6.9| 1605|     90| 16|    0|      0|       0|   0|       0|       0|     0|\n",
      "|    17|Zatoichi's Conspi...|Zatoichi's Conspi...|         movie|   7.1|  911|     92| 17|    0|      0|       0|   0|       0|       0|     0|\n",
      "|    18|  Daydream Obsession|  Daydream Obsession|   video movie|   2.8|  120|     72| 18|    0|      0|       0|   0|       0|       0|     0|\n",
      "|    19|     Love Reinvented|     Love Reinvented|tv mini series|   5.3|  129|    145| 19|    0|      0|       0|   0|       0|       0|     0|\n",
      "+------+--------------------+--------------------+--------------+------+-----+-------+---+-----+-------+--------+----+--------+--------+------+\n",
      "only showing top 20 rows\n",
      "\n",
      "+------+--------------------+----+--------------+------+-----+-------+---+-----+-------+--------+----+--------+--------+------+\n",
      "|Ser_No|               title|year|          kind|rating| vote|runtime| ID|genre|country|language|cast|director|composer|writer|\n",
      "+------+--------------------+----+--------------+------+-----+-------+---+-----+-------+--------+----+--------+--------+------+\n",
      "|     0|     Dinosaur Planet|2003|tv mini series|   7.7|  474|     50|  0|    0|      0|       0|   0|       0|       0|     0|\n",
      "|     1|   Get Up and Dance!|1994|   video movie|   8.1|   18|     83|  1|    0|      0|       0|   0|       0|       0|     0|\n",
      "|     2|               8 Man|1992|         movie|   5.5|   93|   null|  2|    0|      0|       0|   0|       0|       0|     0|\n",
      "|     3|What the #$*! Do ...|2004|         movie|   5.3|13432|     60|  3|    0|      0|       0|   0|       0|       0|     0|\n",
      "|     4|Class of Nuke 'Em...|1991|         movie|   4.5| 2177|     96|  4|    0|      0|       0|   0|       0|       0|     0|\n",
      "|     5|Antarctica: The E...|1999|       episode|  null| null|    120|  5|    0|      0|       0|   0|       0|       0|     0|\n",
      "|     6|Neil Diamond: Gre...|1988|   video movie|     8|   81|     55|  6|    0|      0|       0|   0|       0|       0|     0|\n",
      "|     7|           7 Seconds|2005|   video movie|   4.8| 7153|    118|  7|    0|      0|       0|   0|       0|       0|     0|\n",
      "|     8|By Dawn's Early L...|1990|      tv movie|   7.1| 2898|     58|  8|    0|      0|       0|   0|       0|       0|     0|\n",
      "|     9|     Seeta Aur Geeta|1972|         movie|   6.8| 1818|     15|  9|    0|      0|       0|   0|       0|       0|     0|\n",
      "|    10|   Strange Relations|2001|      tv movie|   7.6|  768|     75| 10|    0|      0|       0|   0|       0|       0|     0|\n",
      "|    11|Sesame Street Pre...|2004|       episode|   7.2|   67|    205| 11|    0|      0|       0|   0|       0|       0|     0|\n",
      "|    12|             Boycott|2001|      tv movie|   7.2|  901|     87| 12|    0|      0|       0|   0|       0|       0|     0|\n",
      "|    13|Meat Loaf: Bat Ou...|1999|       episode|   7.7|  286|     55| 13|    0|      0|       0|   0|       0|       0|     0|\n",
      "|    14|Aqua Teen Hunger ...|2000|     tv series|   7.6|23785|     85| 14|    0|      0|       0|   0|       0|       0|     0|\n",
      "|    15|FernGully 2: The ...|1998|   video movie|   4.6| 1484|    117| 15|    0|      0|       0|   0|       0|       0|     0|\n",
      "|    16|     Lady Chatterley|1993|tv mini series|   6.9| 1605|     90| 16|    0|      0|       0|   0|       0|       0|     0|\n",
      "|    17|Zatoichi's Conspi...|1973|         movie|   7.1|  911|     92| 17|    0|      0|       0|   0|       0|       0|     0|\n",
      "|    18|  Daydream Obsession|2003|   video movie|   2.8|  120|     72| 18|    0|      0|       0|   0|       0|       0|     0|\n",
      "|    19|     Love Reinvented|1996|tv mini series|   5.3|  129|    145| 19|    0|      0|       0|   0|       0|       0|     0|\n",
      "+------+--------------------+----+--------------+------+-----+-------+---+-----+-------+--------+----+--------+--------+------+\n",
      "only showing top 20 rows\n",
      "\n",
      "+------+--------------------+----+--------------+------+-----+-------+---+-----+-------+--------+----+--------+--------+------+\n",
      "|Ser_No|               title|year|          kind|rating| vote|runtime| ID|genre|country|language|cast|director|composer|writer|\n",
      "+------+--------------------+----+--------------+------+-----+-------+---+-----+-------+--------+----+--------+--------+------+\n",
      "|     0|     Dinosaur Planet|2003|tv mini series|   7.7|  474|     50|  0|    0|      0|       0|   0|       0|       0|     0|\n",
      "|     1|   Get Up and Dance!|1994|   video movie|   8.1|   18|     83|  1|    0|      0|       0|   0|       0|       0|     0|\n",
      "|     2|               8 Man|1992|         movie|   5.5|   93|   null|  2|    0|      0|       0|   0|       0|       0|     0|\n",
      "|     3|What the #$*! Do ...|2004|         movie|   5.3|13432|     60|  3|    0|      0|       0|   0|       0|       0|     0|\n",
      "|     4|Class of Nuke 'Em...|1991|         movie|   4.5| 2177|     96|  4|    0|      0|       0|   0|       0|       0|     0|\n",
      "|     5|Antarctica: The E...|1999|       episode|  null| null|    120|  5|    0|      0|       0|   0|       0|       0|     0|\n",
      "|     6|Neil Diamond: Gre...|1988|   video movie|     8|   81|     55|  6|    0|      0|       0|   0|       0|       0|     0|\n",
      "|     7|           7 Seconds|2005|   video movie|   4.8| 7153|    118|  7|    0|      0|       0|   0|       0|       0|     0|\n",
      "|     8|By Dawn's Early L...|1990|      tv movie|   7.1| 2898|     58|  8|    0|      0|       0|   0|       0|       0|     0|\n",
      "|     9|     Seeta Aur Geeta|1972|         movie|   6.8| 1818|     15|  9|    0|      0|       0|   0|       0|       0|     0|\n",
      "|    10|   Strange Relations|2001|      tv movie|   7.6|  768|     75| 10|    0|      0|       0|   0|       0|       0|     0|\n",
      "|    11|Sesame Street Pre...|2004|       episode|   7.2|   67|    205| 11|    0|      0|       0|   0|       0|       0|     0|\n",
      "|    12|             Boycott|2001|      tv movie|   7.2|  901|     87| 12|    0|      0|       0|   0|       0|       0|     0|\n",
      "|    13|Meat Loaf: Bat Ou...|1999|       episode|   7.7|  286|     55| 13|    0|      0|       0|   0|       0|       0|     0|\n",
      "|    14|Aqua Teen Hunger ...|2000|     tv series|   7.6|23785|     85| 14|    0|      0|       0|   0|       0|       0|     0|\n",
      "|    15|FernGully 2: The ...|1998|   video movie|   4.6| 1484|    117| 15|    0|      0|       0|   0|       0|       0|     0|\n",
      "|    16|     Lady Chatterley|1993|tv mini series|   6.9| 1605|     90| 16|    0|      0|       0|   0|       0|       0|     0|\n",
      "|    17|Zatoichi's Conspi...|1973|         movie|   7.1|  911|     92| 17|    0|      0|       0|   0|       0|       0|     0|\n",
      "|    18|  Daydream Obsession|2003|   video movie|   2.8|  120|     72| 18|    0|      0|       0|   0|       0|       0|     0|\n",
      "|    19|     Love Reinvented|1996|tv mini series|   5.3|  129|    145| 19|    0|      0|       0|   0|       0|       0|     0|\n",
      "+------+--------------------+----+--------------+------+-----+-------+---+-----+-------+--------+----+--------+--------+------+\n",
      "only showing top 20 rows\n",
      "\n",
      "+------+--------------------+----+--------------+------+-----+-------+---+-----+-------+--------+----+--------+--------+------+\n",
      "|Ser_No|               title|year|          kind|rating| vote|runtime| ID|genre|country|language|cast|director|composer|writer|\n",
      "+------+--------------------+----+--------------+------+-----+-------+---+-----+-------+--------+----+--------+--------+------+\n",
      "|     0|     Dinosaur Planet|2003|tv mini series|   7.7|  474|     50|  0|    0|      0|       0|   0|       0|       0|     0|\n",
      "|     1|   Get Up and Dance!|1994|   video movie|   8.1|   18|     83|  1|    0|      0|       0|   0|       0|       0|     0|\n",
      "|     2|               8 Man|1992|         movie|   5.5|   93|   null|  2|    0|      0|       0|   0|       0|       0|     0|\n",
      "|     3|What the #$*! Do ...|2004|         movie|   5.3|13432|     60|  3|    0|      0|       0|   0|       0|       0|     0|\n",
      "|     4|Class of Nuke 'Em...|1991|         movie|   4.5| 2177|     96|  4|    0|      0|       0|   0|       0|       0|     0|\n",
      "|     5|Antarctica: The E...|1999|       episode|  null| null|    120|  5|    0|      0|       0|   0|       0|       0|     0|\n",
      "|     6|Neil Diamond: Gre...|1988|   video movie|     8|   81|     55|  6|    0|      0|       0|   0|       0|       0|     0|\n",
      "|     7|           7 Seconds|2005|   video movie|   4.8| 7153|    118|  7|    0|      0|       0|   0|       0|       0|     0|\n",
      "|     8|By Dawn's Early L...|1990|      tv movie|   7.1| 2898|     58|  8|    0|      0|       0|   0|       0|       0|     0|\n",
      "|     9|     Seeta Aur Geeta|1972|         movie|   6.8| 1818|     15|  9|    0|      0|       0|   0|       0|       0|     0|\n",
      "|    10|   Strange Relations|2001|      tv movie|   7.6|  768|     75| 10|    0|      0|       0|   0|       0|       0|     0|\n",
      "|    11|Sesame Street Pre...|2004|       episode|   7.2|   67|    205| 11|    0|      0|       0|   0|       0|       0|     0|\n",
      "|    12|             Boycott|2001|      tv movie|   7.2|  901|     87| 12|    0|      0|       0|   0|       0|       0|     0|\n",
      "|    13|Meat Loaf: Bat Ou...|1999|       episode|   7.7|  286|     55| 13|    0|      0|       0|   0|       0|       0|     0|\n",
      "|    14|Aqua Teen Hunger ...|2000|     tv series|   7.6|23785|     85| 14|    0|      0|       0|   0|       0|       0|     0|\n",
      "|    15|FernGully 2: The ...|1998|   video movie|   4.6| 1484|    117| 15|    0|      0|       0|   0|       0|       0|     0|\n",
      "|    16|     Lady Chatterley|1993|tv mini series|   6.9| 1605|     90| 16|    0|      0|       0|   0|       0|       0|     0|\n",
      "|    17|Zatoichi's Conspi...|1973|         movie|   7.1|  911|     92| 17|    0|      0|       0|   0|       0|       0|     0|\n",
      "|    18|  Daydream Obsession|2003|   video movie|   2.8|  120|     72| 18|    0|      0|       0|   0|       0|       0|     0|\n",
      "|    19|     Love Reinvented|1996|tv mini series|   5.3|  129|    145| 19|    0|      0|       0|   0|       0|       0|     0|\n",
      "+------+--------------------+----+--------------+------+-----+-------+---+-----+-------+--------+----+--------+--------+------+\n",
      "only showing top 20 rows\n",
      "\n",
      "+------+--------------------+----+--------------+------+-----+-------+---+-----+-------+--------+----+--------+--------+------+\n",
      "|Ser_No|               title|year|          kind|rating| vote|runtime| ID|genre|country|language|cast|director|composer|writer|\n",
      "+------+--------------------+----+--------------+------+-----+-------+---+-----+-------+--------+----+--------+--------+------+\n",
      "|     0|     Dinosaur Planet|2003|tv mini series|   7.7|  474|     50|  0|    0|      0|       0|   0|       0|       0|     0|\n",
      "|     1|   Get Up and Dance!|1994|   video movie|   8.1|   18|     83|  1|    0|      0|       0|   0|       0|       0|     0|\n",
      "|     2|               8 Man|1992|         movie|   5.5|   93|   null|  2|    0|      0|       0|   0|       0|       0|     0|\n",
      "|     3|What the #$*! Do ...|2004|         movie|   5.3|13432|     60|  3|    0|      0|       0|   0|       0|       0|     0|\n",
      "|     4|Class of Nuke 'Em...|1991|         movie|   4.5| 2177|     96|  4|    0|      0|       0|   0|       0|       0|     0|\n",
      "|     5|Antarctica: The E...|1999|       episode|  null| null|    120|  5|    0|      0|       0|   0|       0|       0|     0|\n",
      "|     6|Neil Diamond: Gre...|1988|   video movie|     8|   81|     55|  6|    0|      0|       0|   0|       0|       0|     0|\n",
      "|     7|           7 Seconds|2005|   video movie|   4.8| 7153|    118|  7|    0|      0|       0|   0|       0|       0|     0|\n",
      "|     8|By Dawn's Early L...|1990|      tv movie|   7.1| 2898|     58|  8|    0|      0|       0|   0|       0|       0|     0|\n",
      "|     9|     Seeta Aur Geeta|1972|         movie|   6.8| 1818|     15|  9|    0|      0|       0|   0|       0|       0|     0|\n",
      "|    10|   Strange Relations|2001|      tv movie|   7.6|  768|     75| 10|    0|      0|       0|   0|       0|       0|     0|\n",
      "|    11|Sesame Street Pre...|2004|       episode|   7.2|   67|    205| 11|    0|      0|       0|   0|       0|       0|     0|\n",
      "|    12|             Boycott|2001|      tv movie|   7.2|  901|     87| 12|    0|      0|       0|   0|       0|       0|     0|\n",
      "|    13|Meat Loaf: Bat Ou...|1999|       episode|   7.7|  286|     55| 13|    0|      0|       0|   0|       0|       0|     0|\n",
      "|    14|Aqua Teen Hunger ...|2000|     tv series|   7.6|23785|     85| 14|    0|      0|       0|   0|       0|       0|     0|\n",
      "|    15|FernGully 2: The ...|1998|   video movie|   4.6| 1484|    117| 15|    0|      0|       0|   0|       0|       0|     0|\n",
      "|    16|     Lady Chatterley|1993|tv mini series|   6.9| 1605|     90| 16|    0|      0|       0|   0|       0|       0|     0|\n",
      "|    17|Zatoichi's Conspi...|1973|         movie|   7.1|  911|     92| 17|    0|      0|       0|   0|       0|       0|     0|\n",
      "|    18|  Daydream Obsession|2003|   video movie|   2.8|  120|     72| 18|    0|      0|       0|   0|       0|       0|     0|\n",
      "|    19|     Love Reinvented|1996|tv mini series|   5.3|  129|    145| 19|    0|      0|       0|   0|       0|       0|     0|\n",
      "+------+--------------------+----+--------------+------+-----+-------+---+-----+-------+--------+----+--------+--------+------+\n",
      "only showing top 20 rows\n",
      "\n",
      "+------+--------------------+----+--------------+------+-----+-------+---+-----+-------+--------+----+--------+--------+------+\n",
      "|Ser_No|               title|year|          kind|rating| vote|runtime| ID|genre|country|language|cast|director|composer|writer|\n",
      "+------+--------------------+----+--------------+------+-----+-------+---+-----+-------+--------+----+--------+--------+------+\n",
      "|     0|     Dinosaur Planet|2003|tv mini series|   7.7|  474|     50|  0|    0|      0|       0|   0|       0|       0|     0|\n",
      "|     1|   Get Up and Dance!|1994|   video movie|   8.1|   18|     83|  1|    0|      0|       0|   0|       0|       0|     0|\n",
      "|     2|               8 Man|1992|         movie|   5.5|   93|   null|  2|    0|      0|       0|   0|       0|       0|     0|\n",
      "|     3|What the #$*! Do ...|2004|         movie|   5.3|13432|     60|  3|    0|      0|       0|   0|       0|       0|     0|\n",
      "|     4|Class of Nuke 'Em...|1991|         movie|   4.5| 2177|     96|  4|    0|      0|       0|   0|       0|       0|     0|\n",
      "|     5|Antarctica: The E...|1999|       episode|  null| null|    120|  5|    0|      0|       0|   0|       0|       0|     0|\n",
      "|     6|Neil Diamond: Gre...|1988|   video movie|     8|   81|     55|  6|    0|      0|       0|   0|       0|       0|     0|\n",
      "|     7|           7 Seconds|2005|   video movie|   4.8| 7153|    118|  7|    0|      0|       0|   0|       0|       0|     0|\n",
      "|     8|By Dawn's Early L...|1990|      tv movie|   7.1| 2898|     58|  8|    0|      0|       0|   0|       0|       0|     0|\n",
      "|     9|     Seeta Aur Geeta|1972|         movie|   6.8| 1818|     15|  9|    0|      0|       0|   0|       0|       0|     0|\n",
      "|    10|   Strange Relations|2001|      tv movie|   7.6|  768|     75| 10|    0|      0|       0|   0|       0|       0|     0|\n",
      "|    11|Sesame Street Pre...|2004|       episode|   7.2|   67|    205| 11|    0|      0|       0|   0|       0|       0|     0|\n",
      "|    12|             Boycott|2001|      tv movie|   7.2|  901|     87| 12|    0|      0|       0|   0|       0|       0|     0|\n",
      "|    13|Meat Loaf: Bat Ou...|1999|       episode|   7.7|  286|     55| 13|    0|      0|       0|   0|       0|       0|     0|\n",
      "|    14|Aqua Teen Hunger ...|2000|     tv series|   7.6|23785|     85| 14|    0|      0|       0|   0|       0|       0|     0|\n",
      "|    15|FernGully 2: The ...|1998|   video movie|   4.6| 1484|    117| 15|    0|      0|       0|   0|       0|       0|     0|\n",
      "|    16|     Lady Chatterley|1993|tv mini series|   6.9| 1605|     90| 16|    0|      0|       0|   0|       0|       0|     0|\n",
      "|    17|Zatoichi's Conspi...|1973|         movie|   7.1|  911|     92| 17|    0|      0|       0|   0|       0|       0|     0|\n",
      "|    18|  Daydream Obsession|2003|   video movie|   2.8|  120|     72| 18|    0|      0|       0|   0|       0|       0|     0|\n",
      "|    19|     Love Reinvented|1996|tv mini series|   5.3|  129|    145| 19|    0|      0|       0|   0|       0|       0|     0|\n",
      "+------+--------------------+----+--------------+------+-----+-------+---+-----+-------+--------+----+--------+--------+------+\n",
      "only showing top 20 rows\n",
      "\n",
      "+------+--------------------+----+--------------+------+-----+-------+---+-----+-------+--------+----+--------+--------+------+\n",
      "|Ser_No|               title|year|          kind|rating| vote|runtime| ID|genre|country|language|cast|director|composer|writer|\n",
      "+------+--------------------+----+--------------+------+-----+-------+---+-----+-------+--------+----+--------+--------+------+\n",
      "|     0|     Dinosaur Planet|2003|tv mini series|   7.7|  474|     50|  0|    0|      0|       0|   0|       0|       0|     0|\n",
      "|     1|   Get Up and Dance!|1994|   video movie|   8.1|   18|     83|  1|    0|      0|       0|   0|       0|       0|     0|\n",
      "|     2|               8 Man|1992|         movie|   5.5|   93|   null|  2|    0|      0|       0|   0|       0|       0|     0|\n",
      "|     3|What the #$*! Do ...|2004|         movie|   5.3|13432|     60|  3|    0|      0|       0|   0|       0|       0|     0|\n",
      "|     4|Class of Nuke 'Em...|1991|         movie|   4.5| 2177|     96|  4|    0|      0|       0|   0|       0|       0|     0|\n",
      "|     5|Antarctica: The E...|1999|       episode|  null| null|    120|  5|    0|      0|       0|   0|       0|       0|     0|\n",
      "|     6|Neil Diamond: Gre...|1988|   video movie|     8|   81|     55|  6|    0|      0|       0|   0|       0|       0|     0|\n",
      "|     7|           7 Seconds|2005|   video movie|   4.8| 7153|    118|  7|    0|      0|       0|   0|       0|       0|     0|\n",
      "|     8|By Dawn's Early L...|1990|      tv movie|   7.1| 2898|     58|  8|    0|      0|       0|   0|       0|       0|     0|\n",
      "|     9|     Seeta Aur Geeta|1972|         movie|   6.8| 1818|     15|  9|    0|      0|       0|   0|       0|       0|     0|\n",
      "|    10|   Strange Relations|2001|      tv movie|   7.6|  768|     75| 10|    0|      0|       0|   0|       0|       0|     0|\n",
      "|    11|Sesame Street Pre...|2004|       episode|   7.2|   67|    205| 11|    0|      0|       0|   0|       0|       0|     0|\n",
      "|    12|             Boycott|2001|      tv movie|   7.2|  901|     87| 12|    0|      0|       0|   0|       0|       0|     0|\n",
      "|    13|Meat Loaf: Bat Ou...|1999|       episode|   7.7|  286|     55| 13|    0|      0|       0|   0|       0|       0|     0|\n",
      "|    14|Aqua Teen Hunger ...|2000|     tv series|   7.6|23785|     85| 14|    0|      0|       0|   0|       0|       0|     0|\n",
      "|    15|FernGully 2: The ...|1998|   video movie|   4.6| 1484|    117| 15|    0|      0|       0|   0|       0|       0|     0|\n",
      "|    16|     Lady Chatterley|1993|tv mini series|   6.9| 1605|     90| 16|    0|      0|       0|   0|       0|       0|     0|\n",
      "|    17|Zatoichi's Conspi...|1973|         movie|   7.1|  911|     92| 17|    0|      0|       0|   0|       0|       0|     0|\n",
      "|    18|  Daydream Obsession|2003|   video movie|   2.8|  120|     72| 18|    0|      0|       0|   0|       0|       0|     0|\n",
      "|    19|     Love Reinvented|1996|tv mini series|   5.3|  129|    145| 19|    0|      0|       0|   0|       0|       0|     0|\n",
      "+------+--------------------+----+--------------+------+-----+-------+---+-----+-------+--------+----+--------+--------+------+\n",
      "only showing top 20 rows\n",
      "\n",
      "+------+--------------------+----+--------------+------+-----+-------+---+-----+-------+--------+----+--------+--------+------+\n",
      "|Ser_No|               title|year|          kind|rating| vote|runtime| ID|genre|country|language|cast|director|composer|writer|\n",
      "+------+--------------------+----+--------------+------+-----+-------+---+-----+-------+--------+----+--------+--------+------+\n",
      "|     0|     Dinosaur Planet|2003|tv mini series|   7.7|  474|     50|  0|    0|      0|       0|   0|       0|       0|     0|\n",
      "|     1|   Get Up and Dance!|1994|   video movie|   8.1|   18|     83|  1|    0|      0|       0|   0|       0|       0|     0|\n",
      "|     2|               8 Man|1992|         movie|   5.5|   93|   null|  2|    0|      0|       0|   0|       0|       0|     0|\n",
      "|     3|What the #$*! Do ...|2004|         movie|   5.3|13432|     60|  3|    0|      0|       0|   0|       0|       0|     0|\n",
      "|     4|Class of Nuke 'Em...|1991|         movie|   4.5| 2177|     96|  4|    0|      0|       0|   0|       0|       0|     0|\n",
      "|     5|Antarctica: The E...|1999|       episode|  null| null|    120|  5|    0|      0|       0|   0|       0|       0|     0|\n",
      "|     6|Neil Diamond: Gre...|1988|   video movie|     8|   81|     55|  6|    0|      0|       0|   0|       0|       0|     0|\n",
      "|     7|           7 Seconds|2005|   video movie|   4.8| 7153|    118|  7|    0|      0|       0|   0|       0|       0|     0|\n",
      "|     8|By Dawn's Early L...|1990|      tv movie|   7.1| 2898|     58|  8|    0|      0|       0|   0|       0|       0|     0|\n",
      "|     9|     Seeta Aur Geeta|1972|         movie|   6.8| 1818|     15|  9|    0|      0|       0|   0|       0|       0|     0|\n",
      "|    10|   Strange Relations|2001|      tv movie|   7.6|  768|     75| 10|    0|      0|       0|   0|       0|       0|     0|\n",
      "|    11|Sesame Street Pre...|2004|       episode|   7.2|   67|    205| 11|    0|      0|       0|   0|       0|       0|     0|\n",
      "|    12|             Boycott|2001|      tv movie|   7.2|  901|     87| 12|    0|      0|       0|   0|       0|       0|     0|\n",
      "|    13|Meat Loaf: Bat Ou...|1999|       episode|   7.7|  286|     55| 13|    0|      0|       0|   0|       0|       0|     0|\n",
      "|    14|Aqua Teen Hunger ...|2000|     tv series|   7.6|23785|     85| 14|    0|      0|       0|   0|       0|       0|     0|\n",
      "|    15|FernGully 2: The ...|1998|   video movie|   4.6| 1484|    117| 15|    0|      0|       0|   0|       0|       0|     0|\n",
      "|    16|     Lady Chatterley|1993|tv mini series|   6.9| 1605|     90| 16|    0|      0|       0|   0|       0|       0|     0|\n",
      "|    17|Zatoichi's Conspi...|1973|         movie|   7.1|  911|     92| 17|    0|      0|       0|   0|       0|       0|     0|\n",
      "|    18|  Daydream Obsession|2003|   video movie|   2.8|  120|     72| 18|    0|      0|       0|   0|       0|       0|     0|\n",
      "|    19|     Love Reinvented|1996|tv mini series|   5.3|  129|    145| 19|    0|      0|       0|   0|       0|       0|     0|\n",
      "+------+--------------------+----+--------------+------+-----+-------+---+-----+-------+--------+----+--------+--------+------+\n",
      "only showing top 20 rows\n",
      "\n",
      "+------+--------------------+----+--------------+------+-----+-------+---+-----+-------+--------+----+--------+--------+------+\n",
      "|Ser_No|               title|year|          kind|rating| vote|runtime| ID|genre|country|language|cast|director|composer|writer|\n",
      "+------+--------------------+----+--------------+------+-----+-------+---+-----+-------+--------+----+--------+--------+------+\n",
      "|     0|     Dinosaur Planet|2003|tv mini series|   7.7|  474|     50|  0|    0|      0|       0|   0|       0|       0|     0|\n",
      "|     1|   Get Up and Dance!|1994|   video movie|   8.1|   18|     83|  1|    0|      0|       0|   0|       0|       0|     0|\n",
      "|     2|               8 Man|1992|         movie|   5.5|   93|   null|  2|    0|      0|       0|   0|       0|       0|     0|\n",
      "|     3|What the #$*! Do ...|2004|         movie|   5.3|13432|     60|  3|    0|      0|       0|   0|       0|       0|     0|\n",
      "|     4|Class of Nuke 'Em...|1991|         movie|   4.5| 2177|     96|  4|    0|      0|       0|   0|       0|       0|     0|\n",
      "|     5|Antarctica: The E...|1999|       episode|  null| null|    120|  5|    0|      0|       0|   0|       0|       0|     0|\n",
      "|     6|Neil Diamond: Gre...|1988|   video movie|     8|   81|     55|  6|    0|      0|       0|   0|       0|       0|     0|\n",
      "|     7|           7 Seconds|2005|   video movie|   4.8| 7153|    118|  7|    0|      0|       0|   0|       0|       0|     0|\n",
      "|     8|By Dawn's Early L...|1990|      tv movie|   7.1| 2898|     58|  8|    0|      0|       0|   0|       0|       0|     0|\n",
      "|     9|     Seeta Aur Geeta|1972|         movie|   6.8| 1818|     15|  9|    0|      0|       0|   0|       0|       0|     0|\n",
      "|    10|   Strange Relations|2001|      tv movie|   7.6|  768|     75| 10|    0|      0|       0|   0|       0|       0|     0|\n",
      "|    11|Sesame Street Pre...|2004|       episode|   7.2|   67|    205| 11|    0|      0|       0|   0|       0|       0|     0|\n",
      "|    12|             Boycott|2001|      tv movie|   7.2|  901|     87| 12|    0|      0|       0|   0|       0|       0|     0|\n",
      "|    13|Meat Loaf: Bat Ou...|1999|       episode|   7.7|  286|     55| 13|    0|      0|       0|   0|       0|       0|     0|\n",
      "|    14|Aqua Teen Hunger ...|2000|     tv series|   7.6|23785|     85| 14|    0|      0|       0|   0|       0|       0|     0|\n",
      "|    15|FernGully 2: The ...|1998|   video movie|   4.6| 1484|    117| 15|    0|      0|       0|   0|       0|       0|     0|\n",
      "|    16|     Lady Chatterley|1993|tv mini series|   6.9| 1605|     90| 16|    0|      0|       0|   0|       0|       0|     0|\n",
      "|    17|Zatoichi's Conspi...|1973|         movie|   7.1|  911|     92| 17|    0|      0|       0|   0|       0|       0|     0|\n",
      "|    18|  Daydream Obsession|2003|   video movie|   2.8|  120|     72| 18|    0|      0|       0|   0|       0|       0|     0|\n",
      "|    19|     Love Reinvented|1996|tv mini series|   5.3|  129|    145| 19|    0|      0|       0|   0|       0|       0|     0|\n",
      "+------+--------------------+----+--------------+------+-----+-------+---+-----+-------+--------+----+--------+--------+------+\n",
      "only showing top 20 rows\n",
      "\n",
      "+------+--------------------+----+--------------+------+-----+-------+---+-----+-------+--------+----+--------+--------+------+\n",
      "|Ser_No|               title|year|          kind|rating| vote|runtime| ID|genre|country|language|cast|director|composer|writer|\n",
      "+------+--------------------+----+--------------+------+-----+-------+---+-----+-------+--------+----+--------+--------+------+\n",
      "|     0|     Dinosaur Planet|2003|tv mini series|   7.7|  474|     50|  0|    0|      0|       0|   0|       0|       0|     0|\n",
      "|     1|   Get Up and Dance!|1994|   video movie|   8.1|   18|     83|  1|    0|      0|       0|   0|       0|       0|     0|\n",
      "|     2|               8 Man|1992|         movie|   5.5|   93|   null|  2|    0|      0|       0|   0|       0|       0|     0|\n",
      "|     3|What the #$*! Do ...|2004|         movie|   5.3|13432|     60|  3|    0|      0|       0|   0|       0|       0|     0|\n",
      "|     4|Class of Nuke 'Em...|1991|         movie|   4.5| 2177|     96|  4|    0|      0|       0|   0|       0|       0|     0|\n",
      "|     5|Antarctica: The E...|1999|       episode|  null| null|    120|  5|    0|      0|       0|   0|       0|       0|     0|\n",
      "|     6|Neil Diamond: Gre...|1988|   video movie|     8|   81|     55|  6|    0|      0|       0|   0|       0|       0|     0|\n",
      "|     7|           7 Seconds|2005|   video movie|   4.8| 7153|    118|  7|    0|      0|       0|   0|       0|       0|     0|\n",
      "|     8|By Dawn's Early L...|1990|      tv movie|   7.1| 2898|     58|  8|    0|      0|       0|   0|       0|       0|     0|\n",
      "|     9|     Seeta Aur Geeta|1972|         movie|   6.8| 1818|     15|  9|    0|      0|       0|   0|       0|       0|     0|\n",
      "|    10|   Strange Relations|2001|      tv movie|   7.6|  768|     75| 10|    0|      0|       0|   0|       0|       0|     0|\n",
      "|    11|Sesame Street Pre...|2004|       episode|   7.2|   67|    205| 11|    0|      0|       0|   0|       0|       0|     0|\n",
      "|    12|             Boycott|2001|      tv movie|   7.2|  901|     87| 12|    0|      0|       0|   0|       0|       0|     0|\n",
      "|    13|Meat Loaf: Bat Ou...|1999|       episode|   7.7|  286|     55| 13|    0|      0|       0|   0|       0|       0|     0|\n",
      "|    14|Aqua Teen Hunger ...|2000|     tv series|   7.6|23785|     85| 14|    0|      0|       0|   0|       0|       0|     0|\n",
      "|    15|FernGully 2: The ...|1998|   video movie|   4.6| 1484|    117| 15|    0|      0|       0|   0|       0|       0|     0|\n",
      "|    16|     Lady Chatterley|1993|tv mini series|   6.9| 1605|     90| 16|    0|      0|       0|   0|       0|       0|     0|\n",
      "|    17|Zatoichi's Conspi...|1973|         movie|   7.1|  911|     92| 17|    0|      0|       0|   0|       0|       0|     0|\n",
      "|    18|  Daydream Obsession|2003|   video movie|   2.8|  120|     72| 18|    0|      0|       0|   0|       0|       0|     0|\n",
      "|    19|     Love Reinvented|1996|tv mini series|   5.3|  129|    145| 19|    0|      0|       0|   0|       0|       0|     0|\n",
      "+------+--------------------+----+--------------+------+-----+-------+---+-----+-------+--------+----+--------+--------+------+\n",
      "only showing top 20 rows\n",
      "\n",
      "+------+--------------------+----+--------------+------+-----+-------+---+-----+-------+--------+----+--------+--------+------+\n",
      "|Ser_No|               title|year|          kind|rating| vote|runtime| ID|genre|country|language|cast|director|composer|writer|\n",
      "+------+--------------------+----+--------------+------+-----+-------+---+-----+-------+--------+----+--------+--------+------+\n",
      "|     0|     Dinosaur Planet|2003|tv mini series|   7.7|  474|     50|  0|    0|      0|       0|   0|       0|       0|     0|\n",
      "|     1|   Get Up and Dance!|1994|   video movie|   8.1|   18|     83|  1|    0|      0|       0|   0|       0|       0|     0|\n",
      "|     2|               8 Man|1992|         movie|   5.5|   93|   null|  2|    0|      0|       0|   0|       0|       0|     0|\n",
      "|     3|What the #$*! Do ...|2004|         movie|   5.3|13432|     60|  3|    0|      0|       0|   0|       0|       0|     0|\n",
      "|     4|Class of Nuke 'Em...|1991|         movie|   4.5| 2177|     96|  4|    0|      0|       0|   0|       0|       0|     0|\n",
      "|     5|Antarctica: The E...|1999|       episode|  null| null|    120|  5|    0|      0|       0|   0|       0|       0|     0|\n",
      "|     6|Neil Diamond: Gre...|1988|   video movie|     8|   81|     55|  6|    0|      0|       0|   0|       0|       0|     0|\n",
      "|     7|           7 Seconds|2005|   video movie|   4.8| 7153|    118|  7|    0|      0|       0|   0|       0|       0|     0|\n",
      "|     8|By Dawn's Early L...|1990|      tv movie|   7.1| 2898|     58|  8|    0|      0|       0|   0|       0|       0|     0|\n",
      "|     9|     Seeta Aur Geeta|1972|         movie|   6.8| 1818|     15|  9|    0|      0|       0|   0|       0|       0|     0|\n",
      "|    10|   Strange Relations|2001|      tv movie|   7.6|  768|     75| 10|    0|      0|       0|   0|       0|       0|     0|\n",
      "|    11|Sesame Street Pre...|2004|       episode|   7.2|   67|    205| 11|    0|      0|       0|   0|       0|       0|     0|\n",
      "|    12|             Boycott|2001|      tv movie|   7.2|  901|     87| 12|    0|      0|       0|   0|       0|       0|     0|\n",
      "|    13|Meat Loaf: Bat Ou...|1999|       episode|   7.7|  286|     55| 13|    0|      0|       0|   0|       0|       0|     0|\n",
      "|    14|Aqua Teen Hunger ...|2000|     tv series|   7.6|23785|     85| 14|    0|      0|       0|   0|       0|       0|     0|\n",
      "|    15|FernGully 2: The ...|1998|   video movie|   4.6| 1484|    117| 15|    0|      0|       0|   0|       0|       0|     0|\n",
      "|    16|     Lady Chatterley|1993|tv mini series|   6.9| 1605|     90| 16|    0|      0|       0|   0|       0|       0|     0|\n",
      "|    17|Zatoichi's Conspi...|1973|         movie|   7.1|  911|     92| 17|    0|      0|       0|   0|       0|       0|     0|\n",
      "|    18|  Daydream Obsession|2003|   video movie|   2.8|  120|     72| 18|    0|      0|       0|   0|       0|       0|     0|\n",
      "|    19|     Love Reinvented|1996|tv mini series|   5.3|  129|    145| 19|    0|      0|       0|   0|       0|       0|     0|\n",
      "+------+--------------------+----+--------------+------+-----+-------+---+-----+-------+--------+----+--------+--------+------+\n",
      "only showing top 20 rows\n",
      "\n",
      "+------+--------------------+----+--------------+------+-----+-------+---+-----+-------+--------+----+--------+--------+------+\n",
      "|Ser_No|               title|year|          kind|rating| vote|runtime| ID|genre|country|language|cast|director|composer|writer|\n",
      "+------+--------------------+----+--------------+------+-----+-------+---+-----+-------+--------+----+--------+--------+------+\n",
      "|     0|     Dinosaur Planet|2003|tv mini series|   7.7|  474|     50|  0|    0|      0|       0|   0|       0|       0|     0|\n",
      "|     1|   Get Up and Dance!|1994|   video movie|   8.1|   18|     83|  1|    0|      0|       0|   0|       0|       0|     0|\n",
      "|     2|               8 Man|1992|         movie|   5.5|   93|   null|  2|    0|      0|       0|   0|       0|       0|     0|\n",
      "|     3|What the #$*! Do ...|2004|         movie|   5.3|13432|     60|  3|    0|      0|       0|   0|       0|       0|     0|\n",
      "|     4|Class of Nuke 'Em...|1991|         movie|   4.5| 2177|     96|  4|    0|      0|       0|   0|       0|       0|     0|\n",
      "|     5|Antarctica: The E...|1999|       episode|  null| null|    120|  5|    0|      0|       0|   0|       0|       0|     0|\n",
      "|     6|Neil Diamond: Gre...|1988|   video movie|     8|   81|     55|  6|    0|      0|       0|   0|       0|       0|     0|\n",
      "|     7|           7 Seconds|2005|   video movie|   4.8| 7153|    118|  7|    0|      0|       0|   0|       0|       0|     0|\n",
      "|     8|By Dawn's Early L...|1990|      tv movie|   7.1| 2898|     58|  8|    0|      0|       0|   0|       0|       0|     0|\n",
      "|     9|     Seeta Aur Geeta|1972|         movie|   6.8| 1818|     15|  9|    0|      0|       0|   0|       0|       0|     0|\n",
      "|    10|   Strange Relations|2001|      tv movie|   7.6|  768|     75| 10|    0|      0|       0|   0|       0|       0|     0|\n",
      "|    11|Sesame Street Pre...|2004|       episode|   7.2|   67|    205| 11|    0|      0|       0|   0|       0|       0|     0|\n",
      "|    12|             Boycott|2001|      tv movie|   7.2|  901|     87| 12|    0|      0|       0|   0|       0|       0|     0|\n",
      "|    13|Meat Loaf: Bat Ou...|1999|       episode|   7.7|  286|     55| 13|    0|      0|       0|   0|       0|       0|     0|\n",
      "|    14|Aqua Teen Hunger ...|2000|     tv series|   7.6|23785|     85| 14|    0|      0|       0|   0|       0|       0|     0|\n",
      "|    15|FernGully 2: The ...|1998|   video movie|   4.6| 1484|    117| 15|    0|      0|       0|   0|       0|       0|     0|\n",
      "|    16|     Lady Chatterley|1993|tv mini series|   6.9| 1605|     90| 16|    0|      0|       0|   0|       0|       0|     0|\n",
      "|    17|Zatoichi's Conspi...|1973|         movie|   7.1|  911|     92| 17|    0|      0|       0|   0|       0|       0|     0|\n",
      "|    18|  Daydream Obsession|2003|   video movie|   2.8|  120|     72| 18|    0|      0|       0|   0|       0|       0|     0|\n",
      "|    19|     Love Reinvented|1996|tv mini series|   5.3|  129|    145| 19|    0|      0|       0|   0|       0|       0|     0|\n",
      "+------+--------------------+----+--------------+------+-----+-------+---+-----+-------+--------+----+--------+--------+------+\n",
      "only showing top 20 rows\n",
      "\n"
     ]
    }
   ],
   "source": [
    "## Removing the white spaces for required columns in a given dataframe\n",
    "Movie_df.withColumn(\"title\", trim(col(\"title\"))).show()\n",
    "Movie_df.withColumn(\"year\", trim(col(\"title\"))).show()\n",
    "Movie_df.withColumn(\"kind\", trim(col(\"kind\"))).show()\n",
    "Movie_df.withColumn(\"genre\", trim(col(\"genre\"))).show()\n",
    "Movie_df.withColumn(\"rating\", trim(col(\"rating\"))).show()\n",
    "Movie_df.withColumn(\"vote\", trim(col(\"vote\"))).show()\n",
    "Movie_df.withColumn(\"country\", trim(col(\"country\"))).show()\n",
    "Movie_df.withColumn(\"language\", trim(col(\"language\"))).show()\n",
    "Movie_df.withColumn(\"cast\", trim(col(\"cast\"))).show()\n",
    "Movie_df.withColumn(\"director\", trim(col(\"director\"))).show()\n",
    "Movie_df.withColumn(\"composer\", trim(col(\"composer\"))).show()\n",
    "Movie_df.withColumn(\"writer\", trim(col(\"writer\"))).show()\n",
    "Movie_df.withColumn(\"runtime\", trim(col(\"runtime\"))).show()"
   ]
  },
  {
   "cell_type": "markdown",
   "id": "202da913",
   "metadata": {},
   "source": [
    "## Converting the columns into respective actual format to optimize the datatypes"
   ]
  },
  {
   "cell_type": "code",
   "execution_count": 305,
   "id": "6086a2eb",
   "metadata": {},
   "outputs": [],
   "source": [
    "## Converting data types functions in pyspark dataframes\n",
    "from pyspark.sql.functions import col\n",
    "from pyspark.sql.types import StringType, BooleanType, DateType,IntegerType\n",
    "\n",
    "Convert_df = Movie_df.withColumn(\"title\",col(\"title\").cast(StringType()))\\\n",
    ".withColumn(\"year\",col(\"year\").cast(IntegerType()))\\\n",
    ".withColumn(\"kind\",col(\"kind\").cast(StringType()))\\\n",
    ".withColumn(\"genre\",col(\"genre\").cast(StringType()))\\\n",
    ".withColumn(\"rating\",col(\"rating\").cast(IntegerType()))\\\n",
    ".withColumn(\"country\",col(\"country\").cast(StringType()))\\\n",
    ".withColumn(\"language\",col(\"language\").cast(StringType()))\\\n",
    ".withColumn(\"cast\",col(\"cast\").cast(StringType()))\\\n",
    ".withColumn(\"director\",col(\"director\").cast(StringType()))\\\n",
    ".withColumn(\"composer\",col(\"composer\").cast(StringType()))\\\n",
    ".withColumn(\"writer\",col(\"writer\").cast(StringType()))"
   ]
  },
  {
   "cell_type": "code",
   "execution_count": 306,
   "id": "fc52b6e4",
   "metadata": {},
   "outputs": [
    {
     "name": "stdout",
     "output_type": "stream",
     "text": [
      "root\n",
      " |-- Ser_No: integer (nullable = true)\n",
      " |-- title: string (nullable = true)\n",
      " |-- year: integer (nullable = true)\n",
      " |-- kind: string (nullable = true)\n",
      " |-- rating: integer (nullable = true)\n",
      " |-- vote: integer (nullable = true)\n",
      " |-- runtime: integer (nullable = true)\n",
      " |-- ID: integer (nullable = true)\n",
      " |-- genre: string (nullable = true)\n",
      " |-- country: string (nullable = true)\n",
      " |-- language: string (nullable = true)\n",
      " |-- cast: string (nullable = true)\n",
      " |-- director: string (nullable = true)\n",
      " |-- composer: string (nullable = true)\n",
      " |-- writer: string (nullable = true)\n",
      "\n"
     ]
    }
   ],
   "source": [
    "## Checking the Schemas for all columns in a dataframe\n",
    "Convert_df.printSchema()"
   ]
  },
  {
   "cell_type": "code",
   "execution_count": 307,
   "id": "435a58e9",
   "metadata": {},
   "outputs": [],
   "source": [
    "Convert_df = Convert_df"
   ]
  },
  {
   "cell_type": "markdown",
   "id": "0eb582ae",
   "metadata": {},
   "source": [
    "## Removing the Zero's from selected columns in given dataframe"
   ]
  },
  {
   "cell_type": "code",
   "execution_count": 308,
   "id": "60a22014",
   "metadata": {},
   "outputs": [],
   "source": [
    "## Removing the zeros(rows) for selected columns and filtering the required data\n",
    "Convert_df1 = Convert_df.filter((Convert_df.genre != '0') | (Convert_df.country != '0')\\\n",
    "                                |(Convert_df.language != '0') | (Convert_df.cast != '0')\\\n",
    "                                |(Convert_df.director != '0') | (Convert_df.composer != '0')|(Convert_df.writer != '0'))"
   ]
  },
  {
   "cell_type": "markdown",
   "id": "834dfc68",
   "metadata": {},
   "source": [
    "## Removing the Special Charactors for all the columns in a dataframe"
   ]
  },
  {
   "cell_type": "code",
   "execution_count": 312,
   "id": "1e76d876",
   "metadata": {},
   "outputs": [],
   "source": [
    "import pyspark.sql.functions as F\n",
    "import re\n",
    "\n",
    "Convert_df_final1 = Convert_df_final.select([F.col(col).alias(re.sub(\"[^0-9a-zA-Z$]+\",\"\",col)) for col in Convert_df_final.columns])"
   ]
  },
  {
   "cell_type": "code",
   "execution_count": 313,
   "id": "66bca677",
   "metadata": {},
   "outputs": [
    {
     "name": "stdout",
     "output_type": "stream",
     "text": [
      "+-----+--------------------+----+--------------+------+-----+-------+---+-----------+-------+--------+----+--------+--------+------+\n",
      "|SerNo|               title|year|          kind|rating| vote|runtime| ID|      genre|country|language|cast|director|composer|writer|\n",
      "+-----+--------------------+----+--------------+------+-----+-------+---+-----------+-------+--------+----+--------+--------+------+\n",
      "|    0|     Dinosaur Planet|2003|tv mini series|     7|  474|     50|  0|Documentary|      0|       0|   0|       0|       0|     0|\n",
      "|    1|     Dinosaur Planet|2003|tv mini series|     7|  474|     50|  0|  Animation|      0|       0|   0|       0|       0|     0|\n",
      "|    2|     Dinosaur Planet|2003|tv mini series|     7|  474|     50|  0|     Family|      0|       0|   0|       0|       0|     0|\n",
      "|    3|   Get Up and Dance!|1994|   video movie|     8|   18|     83|  1|     Family|      0|       0|   0|       0|       0|     0|\n",
      "|    4|               8 Man|1992|         movie|     5|   93|   null|  2|     Action|      0|       0|   0|       0|       0|     0|\n",
      "|    5|               8 Man|1992|         movie|     5|   93|   null|  2|     Sci-Fi|      0|       0|   0|       0|       0|     0|\n",
      "|    6|What the #$*! Do ...|2004|         movie|     5|13432|     60|  3|Documentary|      0|       0|   0|       0|       0|     0|\n",
      "|    7|What the #$*! Do ...|2004|         movie|     5|13432|     60|  3|     Comedy|      0|       0|   0|       0|       0|     0|\n",
      "|    8|What the #$*! Do ...|2004|         movie|     5|13432|     60|  3|      Drama|      0|       0|   0|       0|       0|     0|\n",
      "|    9|What the #$*! Do ...|2004|         movie|     5|13432|     60|  3|    Fantasy|      0|       0|   0|       0|       0|     0|\n",
      "|   10|What the #$*! Do ...|2004|         movie|     5|13432|     60|  3|    Mystery|      0|       0|   0|       0|       0|     0|\n",
      "|   11|What the #$*! Do ...|2004|         movie|     5|13432|     60|  3|     Sci-Fi|      0|       0|   0|       0|       0|     0|\n",
      "|   12|Class of Nuke 'Em...|1991|         movie|     4| 2177|     96|  4|     Comedy|      0|       0|   0|       0|       0|     0|\n",
      "|   13|Class of Nuke 'Em...|1991|         movie|     4| 2177|     96|  4|     Horror|      0|       0|   0|       0|       0|     0|\n",
      "|   14|Class of Nuke 'Em...|1991|         movie|     4| 2177|     96|  4|     Sci-Fi|      0|       0|   0|       0|       0|     0|\n",
      "|   15|Antarctica: The E...|1999|       episode|  null| null|    120|  5|Documentary|      0|       0|   0|       0|       0|     0|\n",
      "|   16|Antarctica: The E...|1999|       episode|  null| null|    120|  5|     Family|      0|       0|   0|       0|       0|     0|\n",
      "|   17|Neil Diamond: Gre...|1988|   video movie|     8|   81|     55|  6|Documentary|      0|       0|   0|       0|       0|     0|\n",
      "|   18|Neil Diamond: Gre...|1988|   video movie|     8|   81|     55|  6|      Music|      0|       0|   0|       0|       0|     0|\n",
      "|   19|           7 Seconds|2005|   video movie|     4| 7153|    118|  7|     Action|      0|       0|   0|       0|       0|     0|\n",
      "+-----+--------------------+----+--------------+------+-----+-------+---+-----------+-------+--------+----+--------+--------+------+\n",
      "only showing top 20 rows\n",
      "\n"
     ]
    }
   ],
   "source": [
    "Convert_df_final1.show()"
   ]
  },
  {
   "cell_type": "code",
   "execution_count": 314,
   "id": "d6744e11",
   "metadata": {},
   "outputs": [],
   "source": [
    "import pyspark.sql.functions as F\n",
    "Convert_df_final1 = Convert_df_final1.select([F.col(col).alias(col.replace('\\#|\\$|\\*|\\!', '')) for col in Convert_df_final1.columns])"
   ]
  },
  {
   "cell_type": "code",
   "execution_count": 315,
   "id": "20ff7bcd",
   "metadata": {},
   "outputs": [
    {
     "data": {
      "text/plain": [
       "DataFrame[SerNo: int, title: string, year: int, kind: string, rating: int, vote: int, runtime: int, ID: int, genre: string, country: string, language: string, cast: string, director: string, composer: string, writer: string]"
      ]
     },
     "execution_count": 315,
     "metadata": {},
     "output_type": "execute_result"
    }
   ],
   "source": [
    "Convert_df_final1.withColumn(\"title\",regexp_replace(col(\"title\"), \"/^#$*!+/\", \"\"))"
   ]
  },
  {
   "cell_type": "code",
   "execution_count": 316,
   "id": "2ae040ec",
   "metadata": {},
   "outputs": [
    {
     "name": "stdout",
     "output_type": "stream",
     "text": [
      "+-----+--------------------+----+--------------+------+-----+-------+---+-----------+-------+--------+----+--------+--------+------+\n",
      "|SerNo|               title|year|          kind|rating| vote|runtime| ID|      genre|country|language|cast|director|composer|writer|\n",
      "+-----+--------------------+----+--------------+------+-----+-------+---+-----------+-------+--------+----+--------+--------+------+\n",
      "|    0|     Dinosaur Planet|2003|tv mini series|     7|  474|     50|  0|Documentary|      0|       0|   0|       0|       0|     0|\n",
      "|    1|     Dinosaur Planet|2003|tv mini series|     7|  474|     50|  0|  Animation|      0|       0|   0|       0|       0|     0|\n",
      "|    2|     Dinosaur Planet|2003|tv mini series|     7|  474|     50|  0|     Family|      0|       0|   0|       0|       0|     0|\n",
      "|    3|   Get Up and Dance!|1994|   video movie|     8|   18|     83|  1|     Family|      0|       0|   0|       0|       0|     0|\n",
      "|    4|               8 Man|1992|         movie|     5|   93|   null|  2|     Action|      0|       0|   0|       0|       0|     0|\n",
      "|    5|               8 Man|1992|         movie|     5|   93|   null|  2|     Sci-Fi|      0|       0|   0|       0|       0|     0|\n",
      "|    6|What the #$*! Do ...|2004|         movie|     5|13432|     60|  3|Documentary|      0|       0|   0|       0|       0|     0|\n",
      "|    7|What the #$*! Do ...|2004|         movie|     5|13432|     60|  3|     Comedy|      0|       0|   0|       0|       0|     0|\n",
      "|    8|What the #$*! Do ...|2004|         movie|     5|13432|     60|  3|      Drama|      0|       0|   0|       0|       0|     0|\n",
      "|    9|What the #$*! Do ...|2004|         movie|     5|13432|     60|  3|    Fantasy|      0|       0|   0|       0|       0|     0|\n",
      "|   10|What the #$*! Do ...|2004|         movie|     5|13432|     60|  3|    Mystery|      0|       0|   0|       0|       0|     0|\n",
      "|   11|What the #$*! Do ...|2004|         movie|     5|13432|     60|  3|     Sci-Fi|      0|       0|   0|       0|       0|     0|\n",
      "|   12|Class of Nuke 'Em...|1991|         movie|     4| 2177|     96|  4|     Comedy|      0|       0|   0|       0|       0|     0|\n",
      "|   13|Class of Nuke 'Em...|1991|         movie|     4| 2177|     96|  4|     Horror|      0|       0|   0|       0|       0|     0|\n",
      "|   14|Class of Nuke 'Em...|1991|         movie|     4| 2177|     96|  4|     Sci-Fi|      0|       0|   0|       0|       0|     0|\n",
      "|   15|Antarctica: The E...|1999|       episode|  null| null|    120|  5|Documentary|      0|       0|   0|       0|       0|     0|\n",
      "|   16|Antarctica: The E...|1999|       episode|  null| null|    120|  5|     Family|      0|       0|   0|       0|       0|     0|\n",
      "|   17|Neil Diamond: Gre...|1988|   video movie|     8|   81|     55|  6|Documentary|      0|       0|   0|       0|       0|     0|\n",
      "|   18|Neil Diamond: Gre...|1988|   video movie|     8|   81|     55|  6|      Music|      0|       0|   0|       0|       0|     0|\n",
      "|   19|           7 Seconds|2005|   video movie|     4| 7153|    118|  7|     Action|      0|       0|   0|       0|       0|     0|\n",
      "+-----+--------------------+----+--------------+------+-----+-------+---+-----------+-------+--------+----+--------+--------+------+\n",
      "only showing top 20 rows\n",
      "\n"
     ]
    }
   ],
   "source": [
    "Convert_df_final1.show()"
   ]
  },
  {
   "cell_type": "markdown",
   "id": "866b67bb",
   "metadata": {},
   "source": [
    "## Removing the Duplicated Records from the Dataframe"
   ]
  },
  {
   "cell_type": "code",
   "execution_count": 318,
   "id": "f50970af",
   "metadata": {},
   "outputs": [
    {
     "name": "stdout",
     "output_type": "stream",
     "text": [
      "Distinct count: 338193\n",
      "+-----+------------------------------------------------+----+--------------+------+-----+-------+----+-----------+-------+--------+----+--------+--------+------+\n",
      "|SerNo|title                                           |year|kind          |rating|vote |runtime|ID  |genre      |country|language|cast|director|composer|writer|\n",
      "+-----+------------------------------------------------+----+--------------+------+-----+-------+----+-----------+-------+--------+----+--------+--------+------+\n",
      "|108  |Elfen Lied                                      |2004|tv mini series|8     |31414|160    |36  |Horror     |0      |0       |0   |0       |0       |0     |\n",
      "|111  |Elfen Lied                                      |2004|tv mini series|8     |31414|160    |36  |Thriller   |0      |0       |0   |0       |0       |0     |\n",
      "|265  |The Song Remains the Same                       |1976|movie         |7     |8088 |94     |102 |Music      |0      |0       |0   |0       |0       |0     |\n",
      "|313  |Micki + Maude                                   |1984|movie         |6     |2925 |120    |115 |Comedy     |0      |0       |0   |0       |0       |0     |\n",
      "|335  |Hell Mountain                                   |1998|movie         |3     |271  |95     |123 |Drama      |0      |0       |0   |0       |0       |0     |\n",
      "|369  |Deftones Live in Hawaii                         |2001|episode       |7     |16   |90     |139 |Documentary|0      |0       |0   |0       |0       |0     |\n",
      "|517  |The Twilight Zone                               |1959|tv series     |9     |75773|97     |191 |Mystery    |0      |0       |0   |0       |0       |0     |\n",
      "|1007 |Super GALS!                                     |2001|tv series     |7     |104  |null   |372 |Comedy     |0      |0       |0   |0       |0       |0     |\n",
      "|1236 |The Land Before Time VII: The Stone of Cold Fire|2000|video movie   |6     |3063 |30     |466 |Adventure  |0      |0       |0   |0       |0       |0     |\n",
      "|1271 |Inside Pink Floyd: A Critical Review 1975-1996  |2004|video movie   |6     |33   |99     |477 |Documentary|0      |0       |0   |0       |0       |0     |\n",
      "|1565 |God.com                                         |1998|movie         |5     |46   |96     |599 |Mystery    |0      |0       |0   |0       |0       |0     |\n",
      "|1941 |Riding the Rails                                |1999|episode       |6     |31   |86     |743 |History    |0      |0       |0   |0       |0       |0     |\n",
      "|1988 |Super Babies                                    |2005|episode       |3     |21   |120    |758 |Musical    |0      |0       |0   |0       |0       |0     |\n",
      "|2313 |Silent Mobius - Case: Titanic                   |1998|video game    |null  |null |85     |889 |Adventure  |0      |0       |0   |0       |0       |0     |\n",
      "|2345 |Sword for Truth                                 |1990|video movie   |5     |219  |104    |903 |Action     |0      |0       |0   |0       |0       |0     |\n",
      "|2532 |Blackadder Back & Forth                         |1999|movie         |7     |14769|51     |966 |History    |0      |0       |0   |0       |0       |0     |\n",
      "|2924 |3-2-1 Penguins: The Doom Funnel Rescue          |2002|video movie   |7     |38   |94     |1114|Animation  |0      |0       |0   |0       |0       |0     |\n",
      "|3225 |The Cat in the Hat                              |2003|movie         |4     |79713|100    |1227|Comedy     |0      |0       |0   |0       |0       |0     |\n",
      "|3245 |The Curse of Frankenstein                       |1957|movie         |7     |10275|83     |1233|Sci-Fi     |0      |0       |0   |0       |0       |0     |\n",
      "|3260 |The President's Man                             |2000|tv movie      |4     |2107 |89     |1239|Action     |0      |0       |0   |0       |0       |0     |\n",
      "+-----+------------------------------------------------+----+--------------+------+-----+-------+----+-----------+-------+--------+----+--------+--------+------+\n",
      "only showing top 20 rows\n",
      "\n"
     ]
    }
   ],
   "source": [
    "## Get Distinct Rows (By Comparing All Columns)\n",
    "distinctDF = Convert_df_final1.distinct()\n",
    "print(\"Distinct count: \"+str(distinctDF.count()))\n",
    "distinctDF.show(truncate=False)"
   ]
  },
  {
   "cell_type": "code",
   "execution_count": 319,
   "id": "481150ce",
   "metadata": {},
   "outputs": [
    {
     "name": "stdout",
     "output_type": "stream",
     "text": [
      "Distinct count: 338193\n",
      "+-----+------------------------------------------------+----+--------------+------+-----+-------+----+-----------+-------+--------+----+--------+--------+------+\n",
      "|SerNo|title                                           |year|kind          |rating|vote |runtime|ID  |genre      |country|language|cast|director|composer|writer|\n",
      "+-----+------------------------------------------------+----+--------------+------+-----+-------+----+-----------+-------+--------+----+--------+--------+------+\n",
      "|108  |Elfen Lied                                      |2004|tv mini series|8     |31414|160    |36  |Horror     |0      |0       |0   |0       |0       |0     |\n",
      "|111  |Elfen Lied                                      |2004|tv mini series|8     |31414|160    |36  |Thriller   |0      |0       |0   |0       |0       |0     |\n",
      "|265  |The Song Remains the Same                       |1976|movie         |7     |8088 |94     |102 |Music      |0      |0       |0   |0       |0       |0     |\n",
      "|313  |Micki + Maude                                   |1984|movie         |6     |2925 |120    |115 |Comedy     |0      |0       |0   |0       |0       |0     |\n",
      "|335  |Hell Mountain                                   |1998|movie         |3     |271  |95     |123 |Drama      |0      |0       |0   |0       |0       |0     |\n",
      "|369  |Deftones Live in Hawaii                         |2001|episode       |7     |16   |90     |139 |Documentary|0      |0       |0   |0       |0       |0     |\n",
      "|517  |The Twilight Zone                               |1959|tv series     |9     |75773|97     |191 |Mystery    |0      |0       |0   |0       |0       |0     |\n",
      "|1007 |Super GALS!                                     |2001|tv series     |7     |104  |null   |372 |Comedy     |0      |0       |0   |0       |0       |0     |\n",
      "|1236 |The Land Before Time VII: The Stone of Cold Fire|2000|video movie   |6     |3063 |30     |466 |Adventure  |0      |0       |0   |0       |0       |0     |\n",
      "|1271 |Inside Pink Floyd: A Critical Review 1975-1996  |2004|video movie   |6     |33   |99     |477 |Documentary|0      |0       |0   |0       |0       |0     |\n",
      "|1565 |God.com                                         |1998|movie         |5     |46   |96     |599 |Mystery    |0      |0       |0   |0       |0       |0     |\n",
      "|1941 |Riding the Rails                                |1999|episode       |6     |31   |86     |743 |History    |0      |0       |0   |0       |0       |0     |\n",
      "|1988 |Super Babies                                    |2005|episode       |3     |21   |120    |758 |Musical    |0      |0       |0   |0       |0       |0     |\n",
      "|2313 |Silent Mobius - Case: Titanic                   |1998|video game    |null  |null |85     |889 |Adventure  |0      |0       |0   |0       |0       |0     |\n",
      "|2345 |Sword for Truth                                 |1990|video movie   |5     |219  |104    |903 |Action     |0      |0       |0   |0       |0       |0     |\n",
      "|2532 |Blackadder Back & Forth                         |1999|movie         |7     |14769|51     |966 |History    |0      |0       |0   |0       |0       |0     |\n",
      "|2924 |3-2-1 Penguins: The Doom Funnel Rescue          |2002|video movie   |7     |38   |94     |1114|Animation  |0      |0       |0   |0       |0       |0     |\n",
      "|3225 |The Cat in the Hat                              |2003|movie         |4     |79713|100    |1227|Comedy     |0      |0       |0   |0       |0       |0     |\n",
      "|3245 |The Curse of Frankenstein                       |1957|movie         |7     |10275|83     |1233|Sci-Fi     |0      |0       |0   |0       |0       |0     |\n",
      "|3260 |The President's Man                             |2000|tv movie      |4     |2107 |89     |1239|Action     |0      |0       |0   |0       |0       |0     |\n",
      "+-----+------------------------------------------------+----+--------------+------+-----+-------+----+-----------+-------+--------+----+--------+--------+------+\n",
      "only showing top 20 rows\n",
      "\n"
     ]
    }
   ],
   "source": [
    "#Drop duplicates\n",
    "df2 = Convert_df_final1.dropDuplicates()\n",
    "print(\"Distinct count: \"+str(df2.count()))\n",
    "df2.show(truncate=False)"
   ]
  },
  {
   "cell_type": "code",
   "execution_count": 321,
   "id": "c53f19a9",
   "metadata": {},
   "outputs": [
    {
     "name": "stdout",
     "output_type": "stream",
     "text": [
      "Distinct count  : 320313\n",
      "+-----+-------------------------------------+----+--------------+------+------+-------+----+---------+-------+--------+----+--------+--------+------+\n",
      "|SerNo|title                                |year|kind          |rating|vote  |runtime|ID  |genre    |country|language|cast|director|composer|writer|\n",
      "+-----+-------------------------------------+----+--------------+------+------+-------+----+---------+-------+--------+----+--------+--------+------+\n",
      "|43   |Meat Loaf: Bat Out of Hell           |1999|episode       |7     |286   |55     |13  |Music    |0      |0       |0   |0       |0       |0     |\n",
      "|163  |Arachnid                             |2001|movie         |3     |2853  |82     |59  |Action   |0      |0       |0   |0       |0       |0     |\n",
      "|277  |Stellvia                             |2003|tv series     |6     |128   |85     |105 |Adventure|0      |0       |0   |0       |0       |0     |\n",
      "|321  |Blue Seed Beyond                     |1997|movie         |6     |67    |null   |118 |Drama    |0      |0       |0   |0       |0       |0     |\n",
      "|461  |Barney's Colorful World, Live!       |2004|video movie   |7     |31    |110    |173 |Family   |0      |0       |0   |0       |0       |0     |\n",
      "|530  |Princess Mononoke                    |1997|movie         |8     |364432|108    |195 |Fantasy  |0      |0       |0   |0       |0       |0     |\n",
      "|683  |Jimmy Neutron: Attack of the Twonkies|2005|tv movie      |6     |184   |360    |249 |Music    |0      |0       |0   |0       |0       |0     |\n",
      "|891  |Gloria Estefan: Don't Stop           |1998|video movie   |7     |24    |90     |322 |Music    |0      |0       |0   |0       |0       |0     |\n",
      "|1166 |The Murder of Roger Ackroyd          |2000|episode       |7     |1979  |87     |438 |Mystery  |0      |0       |0   |0       |0       |0     |\n",
      "|1566 |God.com                              |1998|movie         |5     |46    |96     |599 |Thriller |0      |0       |0   |0       |0       |0     |\n",
      "|1723 |FLCL                                 |2000|tv mini series|8     |16324 |75     |661 |Action   |0      |0       |0   |0       |0       |0     |\n",
      "|1737 |Hand Maid May                        |2000|tv series     |6     |204   |90     |664 |Sci-Fi   |0      |0       |0   |0       |0       |0     |\n",
      "|1837 |Hara-Kiri                            |1962|movie         |8     |48962 |110    |704 |Drama    |0      |0       |0   |0       |0       |0     |\n",
      "|1888 |Sesame Street                        |1969|tv series     |8     |12869 |87     |722 |Family   |0      |0       |0   |0       |0       |0     |\n",
      "|2186 |Pee-wee's Playhouse                  |1986|tv series     |8     |4391  |82     |839 |Comedy   |0      |0       |0   |0       |0       |0     |\n",
      "|2207 |The Seventh Curse                    |1986|movie         |6     |1079  |32     |848 |Horror   |0      |0       |0   |0       |0       |0     |\n",
      "|2219 |The Mighty Peking Man                |1977|movie         |5     |1788  |102    |853 |Horror   |0      |0       |0   |0       |0       |0     |\n",
      "|2812 |A Tale of Lost Times                 |1964|movie         |7     |511   |25     |1072|Family   |0      |0       |0   |0       |0       |0     |\n",
      "|3059 |Madlax                               |2004|tv series     |7     |317   |15     |1159|Drama    |0      |0       |0   |0       |0       |0     |\n",
      "|3506 |T-Rex: Back to the Cretaceous        |1998|movie         |4     |749   |null   |1345|Adventure|0      |0       |0   |0       |0       |0     |\n",
      "+-----+-------------------------------------+----+--------------+------+------+-------+----+---------+-------+--------+----+--------+--------+------+\n",
      "only showing top 20 rows\n",
      "\n"
     ]
    }
   ],
   "source": [
    "#Drop duplicates on selected columns\n",
    "dropDisDF = Convert_df_final1.dropDuplicates([\"title\",\"year\",\"kind\",\"rating\",\"genre\",\"country\",\"language\",\"cast\",\"director\",\"composer\",\"writer\"])\n",
    "print(\"Distinct count  : \"+str(dropDisDF.count()))\n",
    "dropDisDF.show(truncate=False)"
   ]
  },
  {
   "cell_type": "code",
   "execution_count": 322,
   "id": "16f7de3d",
   "metadata": {},
   "outputs": [
    {
     "data": {
      "text/plain": [
       "320313"
      ]
     },
     "execution_count": 322,
     "metadata": {},
     "output_type": "execute_result"
    }
   ],
   "source": [
    "dropDisDF.count()"
   ]
  },
  {
   "cell_type": "code",
   "execution_count": 323,
   "id": "d60b57de",
   "metadata": {},
   "outputs": [
    {
     "data": {
      "text/plain": [
       "pyspark.sql.dataframe.DataFrame"
      ]
     },
     "execution_count": 323,
     "metadata": {},
     "output_type": "execute_result"
    }
   ],
   "source": [
    "type(dropDisDF)"
   ]
  },
  {
   "cell_type": "code",
   "execution_count": 324,
   "id": "5a011b15",
   "metadata": {},
   "outputs": [],
   "source": [
    "Final_df = dropDisDF"
   ]
  },
  {
   "cell_type": "code",
   "execution_count": 325,
   "id": "f7c31d3a",
   "metadata": {},
   "outputs": [
    {
     "data": {
      "text/plain": [
       "320313"
      ]
     },
     "execution_count": 325,
     "metadata": {},
     "output_type": "execute_result"
    }
   ],
   "source": [
    "Final_df.count()"
   ]
  },
  {
   "cell_type": "markdown",
   "id": "44da4b1c",
   "metadata": {},
   "source": [
    "## Till here I have done all the Data Pre processing steps and ETL Process"
   ]
  },
  {
   "cell_type": "raw",
   "id": "9be52893",
   "metadata": {},
   "source": [
    "## I went through all the processes until I removed the duplicate records from the dataframe\n",
    "## Now my focus is to calculate some basic descriptive statistics and summaries to learn more about the data\n",
    "## I want to perform some grouping by aggregations and summaries.\n",
    "## I want to make some reports and tables to understand more about the data\n",
    "## I want to do some analysis to generate new insights from the data."
   ]
  },
  {
   "cell_type": "code",
   "execution_count": null,
   "id": "b3eed696",
   "metadata": {},
   "outputs": [],
   "source": []
  },
  {
   "cell_type": "code",
   "execution_count": null,
   "id": "1da8c829",
   "metadata": {},
   "outputs": [],
   "source": []
  },
  {
   "cell_type": "markdown",
   "id": "2fc75f06",
   "metadata": {},
   "source": [
    "## Calculating Descriptive statistics or Summary of the Dataframe"
   ]
  },
  {
   "cell_type": "code",
   "execution_count": 326,
   "id": "1cbca14c",
   "metadata": {},
   "outputs": [],
   "source": [
    "## Calculating the descriptive statistics \n",
    "describe_df = Final_df.select('rating','vote','runtime').describe()"
   ]
  },
  {
   "cell_type": "code",
   "execution_count": 327,
   "id": "a5c7346d",
   "metadata": {},
   "outputs": [
    {
     "data": {
      "text/html": [
       "<div>\n",
       "<style scoped>\n",
       "    .dataframe tbody tr th:only-of-type {\n",
       "        vertical-align: middle;\n",
       "    }\n",
       "\n",
       "    .dataframe tbody tr th {\n",
       "        vertical-align: top;\n",
       "    }\n",
       "\n",
       "    .dataframe thead th {\n",
       "        text-align: right;\n",
       "    }\n",
       "</style>\n",
       "<table border=\"1\" class=\"dataframe\">\n",
       "  <thead>\n",
       "    <tr style=\"text-align: right;\">\n",
       "      <th></th>\n",
       "      <th>summary</th>\n",
       "      <th>rating</th>\n",
       "      <th>vote</th>\n",
       "      <th>runtime</th>\n",
       "    </tr>\n",
       "  </thead>\n",
       "  <tbody>\n",
       "    <tr>\n",
       "      <th>0</th>\n",
       "      <td>count</td>\n",
       "      <td>317792</td>\n",
       "      <td>317792</td>\n",
       "      <td>252007</td>\n",
       "    </tr>\n",
       "    <tr>\n",
       "      <th>1</th>\n",
       "      <td>mean</td>\n",
       "      <td>6.1699098781593</td>\n",
       "      <td>31466.856966191724</td>\n",
       "      <td>100.1195284257977</td>\n",
       "    </tr>\n",
       "    <tr>\n",
       "      <th>2</th>\n",
       "      <td>stddev</td>\n",
       "      <td>1.2592262614229535</td>\n",
       "      <td>119186.1387313618</td>\n",
       "      <td>72.18991281994407</td>\n",
       "    </tr>\n",
       "    <tr>\n",
       "      <th>3</th>\n",
       "      <td>min</td>\n",
       "      <td>1</td>\n",
       "      <td>5</td>\n",
       "      <td>2</td>\n",
       "    </tr>\n",
       "    <tr>\n",
       "      <th>4</th>\n",
       "      <td>max</td>\n",
       "      <td>9</td>\n",
       "      <td>2461873</td>\n",
       "      <td>1620</td>\n",
       "    </tr>\n",
       "  </tbody>\n",
       "</table>\n",
       "</div>"
      ],
      "text/plain": [
       "  summary              rating                vote            runtime\n",
       "0   count              317792              317792             252007\n",
       "1    mean     6.1699098781593  31466.856966191724  100.1195284257977\n",
       "2  stddev  1.2592262614229535   119186.1387313618  72.18991281994407\n",
       "3     min                   1                   5                  2\n",
       "4     max                   9             2461873               1620"
      ]
     },
     "execution_count": 327,
     "metadata": {},
     "output_type": "execute_result"
    }
   ],
   "source": [
    "## Getting the Output Summary of the selected columns in a dataframe\n",
    "describe_df.limit(10).toPandas().head()"
   ]
  },
  {
   "cell_type": "markdown",
   "id": "c0014236",
   "metadata": {},
   "source": [
    "## Perform Group by Aggregation Operations"
   ]
  },
  {
   "cell_type": "code",
   "execution_count": 329,
   "id": "7c367112",
   "metadata": {},
   "outputs": [
    {
     "name": "stdout",
     "output_type": "stream",
     "text": [
      "+--------------------+-----------+------------+------------+---------+\n",
      "|               title|avg(rating)|avg(runtime)|count(title)|avg(vote)|\n",
      "+--------------------+-----------+------------+------------+---------+\n",
      "|         Deep Rising|        6.0|        60.0|          35|  35393.0|\n",
      "|             Stardom|        5.0|        91.0|         128|   1717.0|\n",
      "|  A Woman Is a Woman|        7.0|       106.0|          24|  16402.0|\n",
      "|The Beatles Antho...|        9.0|        null|          27|   8567.0|\n",
      "|           Cybermutt|        3.0|       111.0|          24|    197.0|\n",
      "|Bulldog Drummond'...|        6.0|        95.0|          29|    534.0|\n",
      "|The Real World Yo...|        4.0|        22.0|          12|     76.0|\n",
      "|In Search of Dr. ...|        7.0|       100.0|          64|    503.0|\n",
      "|            Dogville|        8.0|        97.0|          58| 143450.0|\n",
      "|            On Guard|        7.0|        81.0|          79|   3455.0|\n",
      "|        Camille 2000|        5.0|        null|          22|    697.0|\n",
      "|Detonator II: Nig...|        5.0|        85.0|          47|   1619.0|\n",
      "|   For Bad Boys Only|        4.0|        90.0|          27|    216.0|\n",
      "|          Road Games|        6.0|        90.0|          31|   5973.0|\n",
      "|Rumic Theater: Me...|        7.0|        80.0|          59|    157.0|\n",
      "| The Legend of Speed|        6.0|        97.0|          20|    516.0|\n",
      "|            Querelle|        6.0|       119.0|          33|   6270.0|\n",
      "|    My Louisiana Sky|        6.0|        60.0|          25|    808.0|\n",
      "|     Late Last Night|        5.0|        null|          54|    591.0|\n",
      "|Matthew Blackhear...|        4.0|        84.0|          39|    236.0|\n",
      "+--------------------+-----------+------------+------------+---------+\n",
      "only showing top 20 rows\n",
      "\n"
     ]
    }
   ],
   "source": [
    "## Calculating the statistics for the required columns in a dataframes\n",
    "# Mean value of each group\n",
    "Final_df.groupby('title').agg({'rating': 'mean','vote':'mean','runtime':'mean','title':'count'}).show()"
   ]
  },
  {
   "cell_type": "code",
   "execution_count": 330,
   "id": "227c4601",
   "metadata": {},
   "outputs": [
    {
     "name": "stdout",
     "output_type": "stream",
     "text": [
      "+----+-----------+------------------+------------------+------------------+\n",
      "|year|count(year)|       avg(rating)|      avg(runtime)|         avg(vote)|\n",
      "+----+-----------+------------------+------------------+------------------+\n",
      "|1959|       3821| 8.373949579831933|  97.0478017114193| 58392.87841386555|\n",
      "|1990|       5251|6.2623486450124926|114.10917144346014| 22517.33365366135|\n",
      "|1975|       1814|  6.73634859349145| 94.89138576779027| 31819.39492553778|\n",
      "|1977|       2565| 6.117738791423002| 102.2224987555998|16874.275633528265|\n",
      "|1924|         55|6.2727272727272725|              null|2153.2727272727275|\n",
      "|2003|      24852| 6.048133555384053| 97.75456814777833|31343.479467078272|\n",
      "|1974|       3227| 6.621141253507951| 98.97070161912104|8180.8316183348925|\n",
      "|1927|        393| 7.977099236641221| 99.30348258706468| 47964.53944020356|\n",
      "|1955|        920| 7.067391304347826|105.79371316306484| 13086.15652173913|\n",
      "|1978|       2800| 6.357857142857143| 91.85831533477322| 36694.08285714286|\n",
      "|1925|        106| 7.216981132075472|123.86792452830188|23541.009433962263|\n",
      "|1961|        775| 7.072258064516129| 99.20926966292134|15107.473548387097|\n",
      "|1942|        519| 6.996138996138996| 82.52215799614643| 15008.99806949807|\n",
      "|1944|        418| 6.705741626794258|             78.62|13129.078947368422|\n",
      "|1939|        512|        7.34765625| 116.4245939675174|    52638.24609375|\n",
      "|1922|         63|               7.0|              90.0|12868.714285714286|\n",
      "|1952|        968| 6.928719008264463| 93.71305841924399|22932.629132231406|\n",
      "|1956|        923| 6.706392199349946| 77.86454652532392|31346.577464788734|\n",
      "|1934|        208|6.9326923076923075|104.84408602150538| 6760.788461538462|\n",
      "|1988|       5988| 6.075749958102899| 110.8431860609832|22515.021954080778|\n",
      "+----+-----------+------------------+------------------+------------------+\n",
      "only showing top 20 rows\n",
      "\n"
     ]
    }
   ],
   "source": [
    "# Mean value of each group\n",
    "Convert_df_final1.groupby('year').agg({'rating': 'mean','vote':'mean','runtime':'mean','year':'count'}).show()"
   ]
  },
  {
   "cell_type": "code",
   "execution_count": 331,
   "id": "87648c3b",
   "metadata": {},
   "outputs": [
    {
     "name": "stdout",
     "output_type": "stream",
     "text": [
      "+--------------+--------------+------------------+------------------+------------------+\n",
      "|       country|count(country)|       avg(rating)|      avg(runtime)|         avg(vote)|\n",
      "+--------------+--------------+------------------+------------------+------------------+\n",
      "|        Russia|            14|               6.5|              88.0| 5943.071428571428|\n",
      "|        Sweden|            59| 6.620689655172414| 97.54347826086956|16884.431034482757|\n",
      "|   Philippines|            17|              4.75| 95.66666666666667|         1110.3125|\n",
      "|       Germany|           290| 6.166089965397924|100.66666666666667| 37413.52249134948|\n",
      "|        France|           613| 6.396072013093289|105.82494969818913|23750.504091653027|\n",
      "|        Greece|             6| 6.333333333333333| 78.66666666666667|3188.1666666666665|\n",
      "|             0|        310213| 6.169680413944983|100.13187898963974|31820.346613959926|\n",
      "|        Taiwan|            52|5.9423076923076925|100.88372093023256| 9099.942307692309|\n",
      "|      Slovakia|             2|               7.0|              90.0|            2005.5|\n",
      "|     Argentina|            30| 5.966666666666667| 84.83333333333333| 9673.633333333333|\n",
      "|       Belgium|            41| 6.024390243902439|          87.21875|10109.585365853658|\n",
      "| United States|          4473|        6.06640625|100.38248847926268|23360.866498161766|\n",
      "|         India|           254| 6.305220883534137|102.09433962264151| 7613.044176706827|\n",
      "|         China|            58| 6.327586206896552|             97.64|17823.344827586207|\n",
      "|  Soviet Union|            35| 7.314285714285714|103.53333333333333|14570.457142857143|\n",
      "|Czechoslovakia|             6| 7.333333333333333|              96.0| 74930.33333333333|\n",
      "|         Italy|           275| 6.412408759124087| 96.61643835616438|21509.704379562045|\n",
      "|        Norway|            14| 6.285714285714286| 79.66666666666667| 14811.57142857143|\n",
      "|         Spain|           140| 5.957142857142857| 90.36134453781513|15869.585714285715|\n",
      "|          Cuba|             8|             6.625|              94.0|          4627.375|\n",
      "+--------------+--------------+------------------+------------------+------------------+\n",
      "only showing top 20 rows\n",
      "\n"
     ]
    }
   ],
   "source": [
    "# Mean value of each group\n",
    "Final_df.groupby('country').agg({'rating': 'mean','vote':'mean','runtime':'mean','country':'count'}).show()"
   ]
  },
  {
   "cell_type": "code",
   "execution_count": 332,
   "id": "17531ec2",
   "metadata": {},
   "outputs": [
    {
     "name": "stdout",
     "output_type": "stream",
     "text": [
      "+---------+------------------+------------------+---------------+------------------+\n",
      "| language|       avg(rating)|      avg(runtime)|count(language)|         avg(vote)|\n",
      "+---------+------------------+------------------+---------------+------------------+\n",
      "|   Bangla| 7.571428571428571|              89.8|              7|  9944.42857142857|\n",
      "|     Urdu| 6.833333333333333|              93.0|             18|17898.277777777777|\n",
      "|Aidoukrou|               5.5|             127.0|              2|             208.5|\n",
      "|  Turkish| 6.647058823529412| 88.93333333333334|             17|38328.294117647056|\n",
      "|     None| 6.793103448275862| 91.10714285714286|             34|14955.724137931034|\n",
      "|    Latin| 6.653846153846154| 88.49090909090908|             78| 93453.03846153847|\n",
      "|  Persian|              6.75|              80.8|             17|        26113.8125|\n",
      "|  Aramaic|               7.5|              93.5|              2|          124840.5|\n",
      "|     Thai|5.9655172413793105|112.73684210526316|             29| 34624.58620689655|\n",
      "|Icelandic|               6.4|             122.5|              5|            4443.2|\n",
      "|        0| 6.167378722850826|100.10919214798037|         309879|31632.023793731303|\n",
      "|   Quenya|               8.0|             105.0|              1|         1708569.0|\n",
      "|  Klingon|               7.2|             102.0|              5|           81352.0|\n",
      "|Cantonese| 5.909433962264151|108.45089285714286|            265| 12907.76603773585|\n",
      "|Mongolian|               6.5|              58.5|              2|           12765.0|\n",
      "|    Irish| 6.666666666666667| 96.33333333333333|              6|            9053.0|\n",
      "|    Maori|              6.75|             85.75|              4|          50529.75|\n",
      "|   Polish| 6.842105263157895|101.54838709677419|             38|22295.815789473683|\n",
      "|     Dari| 6.666666666666667| 68.33333333333333|              4|33927.333333333336|\n",
      "| Hawaiian| 6.333333333333333|              97.0|              3|           65954.0|\n",
      "+---------+------------------+------------------+---------------+------------------+\n",
      "only showing top 20 rows\n",
      "\n"
     ]
    }
   ],
   "source": [
    "# Mean value of each group\n",
    "Final_df.groupby('language').agg({'rating': 'mean','vote':'mean','runtime':'mean','language':'count'}).show()"
   ]
  },
  {
   "cell_type": "code",
   "execution_count": 334,
   "id": "5fe5f143",
   "metadata": {},
   "outputs": [
    {
     "name": "stdout",
     "output_type": "stream",
     "text": [
      "+-------------------+-----------+-----------------+------------------+------------------+\n",
      "|               cast|count(cast)|      avg(rating)|      avg(runtime)|         avg(vote)|\n",
      "+-------------------+-----------+-----------------+------------------+------------------+\n",
      "|      Eugene Burger|          1|              8.0|              60.0|              19.0|\n",
      "|   Patrick Robinson|          1|              4.0|              51.0|            6151.0|\n",
      "|    Stafford Morgan|          3|              6.0|              90.5|119372.66666666667|\n",
      "|    Hanja Kochansky|          1|              6.0|              null|            3188.0|\n",
      "|       Oliver Platt|          7|6.428571428571429|128.57142857142858|26637.714285714286|\n",
      "|   Nastassja Kinski|         12|              5.5| 81.83333333333333|            3149.5|\n",
      "|      Oscar Sanchez|          1|              6.0|              60.0|           45395.0|\n",
      "|   Derrick O'Connor|          6|              6.5|              62.0|20994.833333333332|\n",
      "|  Richard Griffiths|         15|              6.4| 95.07692307692308|           65577.6|\n",
      "|     Ornella Bryant|          1|              6.0|             100.0|           14985.0|\n",
      "|     Enver Altenbay|          2|              6.5|              60.0|            1018.0|\n",
      "|       Dean Edwards|          3|              5.0|              98.5|1897.6666666666667|\n",
      "|    Ngoc Trung Tran|          1|              7.0|              90.0|            8497.0|\n",
      "|Clifford De Spenser|          2|              4.5|             120.0|           10445.0|\n",
      "|       Johnny Lever|         31|5.935483870967742| 94.39285714285714|           10848.0|\n",
      "|         Mary Moore|          4|             5.75| 79.66666666666667|            8217.5|\n",
      "|           Julianne|          1|              7.0|              56.0|             890.0|\n",
      "|     Michael Dobson|         30|6.533333333333333| 95.95454545454545|1923.7666666666667|\n",
      "|     Marnie McPhail|          2|              4.5|              89.0|             387.5|\n",
      "|          Ojani Noa|          1|              4.0|              96.0|             278.0|\n",
      "+-------------------+-----------+-----------------+------------------+------------------+\n",
      "only showing top 20 rows\n",
      "\n"
     ]
    }
   ],
   "source": [
    "# Mean value of each group\n",
    "Final_df.groupby('cast').agg({'rating': 'mean','vote':'mean','runtime':'mean','cast':'count'}).show()"
   ]
  },
  {
   "cell_type": "code",
   "execution_count": 335,
   "id": "7ef61145",
   "metadata": {},
   "outputs": [
    {
     "name": "stdout",
     "output_type": "stream",
     "text": [
      "+--------------------+---------------+-----------------+------------------+------------------+\n",
      "|            director|count(director)|      avg(rating)|      avg(runtime)|         avg(vote)|\n",
      "+--------------------+---------------+-----------------+------------------+------------------+\n",
      "|          Rob Bowman|              1|              7.0|              40.0|          103467.0|\n",
      "|         John Milius|              2|              6.0|             119.0|            5874.0|\n",
      "|  Aleksandr Proshkin|              1|              7.0|             146.0|            2119.0|\n",
      "|       Anne Goursaud|              2|              3.5|              48.5|            5107.0|\n",
      "|   Wash Westmoreland|              1|              5.0|             111.0|            2929.0|\n",
      "|      Nicholas Meyer|              4|             6.75|109.33333333333333|          26681.25|\n",
      "|           Chi Chang|              2|              5.0|             120.0|             210.5|\n",
      "|     Hussein Erkenov|              1|              5.0|              91.0|             413.0|\n",
      "|      Martin Howells|              1|              7.0|              null|              88.0|\n",
      "|       Martyn Atkins|              6|7.666666666666667|             106.4|126.33333333333333|\n",
      "|       Denis Mueller|              1|              7.0|              33.0|             808.0|\n",
      "|Beth McCarthy-Miller|             16|           6.8125| 85.78571428571429|          923.3125|\n",
      "|    Jimmy Smallhorne|              1|              5.0|             190.0|             267.0|\n",
      "|         Abe Levitow|              1|              5.0|             103.0|              12.0|\n",
      "|         Dale Launer|              1|              5.0|              92.0|           13677.0|\n",
      "|Stephanie A. Fred...|              2|              7.0|              97.5|              25.0|\n",
      "|          Joe Sichta|              1|              6.0|              null|            4432.0|\n",
      "|           John Cook|              1|              7.0|              null|             179.0|\n",
      "|           Tom Clegg|             15|              7.0|103.53846153846153|2386.4666666666667|\n",
      "|        Nisha Pahuja|              1|              8.0|             108.0|             911.0|\n",
      "+--------------------+---------------+-----------------+------------------+------------------+\n",
      "only showing top 20 rows\n",
      "\n"
     ]
    }
   ],
   "source": [
    "# Mean value of each group\n",
    "Final_df.groupby('director').agg({'rating': 'mean','vote':'mean','runtime':'mean','director':'count'}).show()"
   ]
  },
  {
   "cell_type": "code",
   "execution_count": 336,
   "id": "9cfc0361",
   "metadata": {},
   "outputs": [
    {
     "name": "stdout",
     "output_type": "stream",
     "text": [
      "+----------------+---------------+-----------------+------------------+-----------------+\n",
      "|        composer|count(composer)|      avg(rating)|      avg(runtime)|        avg(vote)|\n",
      "+----------------+---------------+-----------------+------------------+-----------------+\n",
      "|    Chris Thomas|              1|              6.0|              null|            325.0|\n",
      "|     Brian Tyler|              3|4.666666666666667|             101.5|           3332.0|\n",
      "|      Romeo Díaz|              6|              6.5|              79.2|           6190.0|\n",
      "|        John Nau|              2|              4.0|             105.5|           3769.0|\n",
      "|   James Bernard|             14|6.142857142857143| 84.58333333333333|           6451.5|\n",
      "|     Mark Thomas|              3|              5.0|              99.0|5118.666666666667|\n",
      "|   Bill Weisbach|             11|7.090909090909091|              85.5|59.54545454545455|\n",
      "|     Jack Beaver|              1|              7.0|              null|          54484.0|\n",
      "|   Johnny Harris|              2|              4.5|             114.0|            252.5|\n",
      "|     Mark Morgan|              1|              3.0|              93.0|           2519.0|\n",
      "|   Erik Nordgren|              4|             7.75|             107.5|          78614.0|\n",
      "|  Richard McHugh|             12|              3.9| 83.72727272727273|           1180.6|\n",
      "|    Trevor Rabin|              8|            5.375|              92.2|        114954.75|\n",
      "|  Alan Silvestri|             14|5.428571428571429|             112.0|78889.35714285714|\n",
      "|  Walter Werzowa|              5|              5.4|111.66666666666667|           5457.2|\n",
      "|      John Scott|             12|5.666666666666667|100.55555555555556|6119.083333333333|\n",
      "|        Alan Ett|              1|              6.0|              99.0|             24.0|\n",
      "|Michael De Belle|              1|              7.0|              96.0|             13.0|\n",
      "|     David Byrne|              3|              7.0|              78.0|          42244.0|\n",
      "|   Akira Ifukube|              9|6.111111111111111| 90.77777777777777|4287.333333333333|\n",
      "+----------------+---------------+-----------------+------------------+-----------------+\n",
      "only showing top 20 rows\n",
      "\n"
     ]
    }
   ],
   "source": [
    "# Mean value of each group\n",
    "Final_df.groupby('composer').agg({'rating': 'mean','vote':'mean','runtime':'mean','composer':'count'}).show()"
   ]
  },
  {
   "cell_type": "code",
   "execution_count": 337,
   "id": "aabf66f6",
   "metadata": {},
   "outputs": [
    {
     "name": "stdout",
     "output_type": "stream",
     "text": [
      "+--------------------+-----------------+------------------+-------------+------------------+\n",
      "|              writer|      avg(rating)|      avg(runtime)|count(writer)|         avg(vote)|\n",
      "+--------------------+-----------------+------------------+-------------+------------------+\n",
      "|      Gail Willumsen|              7.0|             105.5|            2|              96.0|\n",
      "|      Bennett Tramer|4.333333333333333|             186.0|            3|            2232.0|\n",
      "|      Pamela Wallace|              7.0|              81.5|            2|           47334.5|\n",
      "|         Helen Craig|              5.5|             106.0|            2|             213.0|\n",
      "|         Keith Lango|              6.0|              94.0|            2|             173.0|\n",
      "|         John Milius|7.333333333333333|              30.0|            3|          231043.0|\n",
      "|           Ken Burns|              8.5|              93.5|            2|            2603.0|\n",
      "|    Joseph W. Savino|              5.0|              25.0|            1|            1612.0|\n",
      "|      Nicholas Meyer|6.666666666666667|             127.5|            3|           57355.0|\n",
      "|        Ray Santilli|              7.0|              97.0|            2|              51.0|\n",
      "|        Charles Dyer|              7.0|              50.0|            1|            4392.0|\n",
      "|         David Tynan|7.666666666666667|56.333333333333336|            3|153.66666666666666|\n",
      "|      Megumi Hiyoshi|              6.0|              85.0|            1|             258.0|\n",
      "|Jeremy Joe Kronsberg|              6.0|              50.0|            1|           18469.0|\n",
      "|    Kiyoshi Murayama|              6.5|              null|            2|              46.5|\n",
      "|           Jim Adler|              7.0|              92.0|            1|           24980.0|\n",
      "|      Kin Chung Chan|              6.0| 96.66666666666667|            5|            4624.0|\n",
      "|        Brian Breger|              7.0|              80.0|            1|              62.0|\n",
      "|         David Quinn|              4.0|             112.0|            1|            4041.0|\n",
      "|            Amy Chin|              6.5|              79.0|            2|             538.5|\n",
      "+--------------------+-----------------+------------------+-------------+------------------+\n",
      "only showing top 20 rows\n",
      "\n"
     ]
    }
   ],
   "source": [
    "# Mean value of each group\n",
    "Final_df.groupby('writer').agg({'rating': 'mean','vote':'mean','runtime':'mean','writer':'count'}).show()"
   ]
  },
  {
   "cell_type": "code",
   "execution_count": 339,
   "id": "35afd3d4",
   "metadata": {},
   "outputs": [
    {
     "name": "stdout",
     "output_type": "stream",
     "text": [
      "+--------------------+-----+\n",
      "|               title|count|\n",
      "+--------------------+-----+\n",
      "|The Ten Commandments|  384|\n",
      "| A Night to Remember|  372|\n",
      "|           Malcolm X|  364|\n",
      "|The Greatest Show...|  270|\n",
      "|    Any Given Sunday|  257|\n",
      "|The Kentucky Frie...|  248|\n",
      "|The Watermelon Woman|  247|\n",
      "|            Zatoichi|  233|\n",
      "|Star Wars: Episod...|  228|\n",
      "|Mr. Smith Goes to...|  226|\n",
      "|             Traffic|  219|\n",
      "|    The Razor's Edge|  208|\n",
      "|         Russian Ark|  207|\n",
      "|            Trekkies|  204|\n",
      "|             Kingpin|  196|\n",
      "|Born on the Fourt...|  194|\n",
      "|    Dawn of the Dead|  193|\n",
      "|    The Replacements|  187|\n",
      "|100 Years of the ...|  185|\n",
      "|   Gods and Generals|  183|\n",
      "+--------------------+-----+\n",
      "only showing top 20 rows\n",
      "\n"
     ]
    }
   ],
   "source": [
    "import pyspark.sql.functions as F\n",
    "from pyspark.sql.functions import desc\n",
    "\n",
    "Final_df.groupBy('title').count().sort(desc('count')).show()"
   ]
  },
  {
   "cell_type": "code",
   "execution_count": 340,
   "id": "7def5490",
   "metadata": {},
   "outputs": [
    {
     "name": "stdout",
     "output_type": "stream",
     "text": [
      "+----+-----+\n",
      "|year|count|\n",
      "+----+-----+\n",
      "|2003|24255|\n",
      "|2002|23356|\n",
      "|2001|22628|\n",
      "|2004|22434|\n",
      "|2000|20130|\n",
      "|1999|17933|\n",
      "|1998|14688|\n",
      "|1997|12465|\n",
      "|1996|11467|\n",
      "|2005|10070|\n",
      "|1995| 9173|\n",
      "|1994| 8182|\n",
      "|1993| 7648|\n",
      "|1992| 6247|\n",
      "|1988| 5513|\n",
      "|1991| 5325|\n",
      "|1989| 4983|\n",
      "|1990| 4942|\n",
      "|1987| 4709|\n",
      "|1985| 4407|\n",
      "+----+-----+\n",
      "only showing top 20 rows\n",
      "\n"
     ]
    }
   ],
   "source": [
    "Final_df.groupBy('year').count().sort(desc('count')).show()"
   ]
  },
  {
   "cell_type": "code",
   "execution_count": 341,
   "id": "1908c078",
   "metadata": {},
   "outputs": [
    {
     "name": "stdout",
     "output_type": "stream",
     "text": [
      "+-----------+------+\n",
      "|      genre| count|\n",
      "+-----------+------+\n",
      "|          0|299426|\n",
      "|      Drama|  3467|\n",
      "|     Comedy|  2302|\n",
      "|    Romance|  1449|\n",
      "|     Action|  1365|\n",
      "|Documentary|  1350|\n",
      "|   Thriller|  1293|\n",
      "|      Crime|  1008|\n",
      "|  Adventure|   994|\n",
      "|      Music|   864|\n",
      "|     Sci-Fi|   845|\n",
      "|  Animation|   800|\n",
      "|     Family|   779|\n",
      "|     Horror|   760|\n",
      "|    Fantasy|   721|\n",
      "|    Mystery|   634|\n",
      "|  Biography|   448|\n",
      "|    History|   417|\n",
      "|        War|   337|\n",
      "|    Musical|   316|\n",
      "+-----------+------+\n",
      "only showing top 20 rows\n",
      "\n"
     ]
    }
   ],
   "source": [
    "Final_df.groupBy('genre').count().sort(desc('count')).show()"
   ]
  },
  {
   "cell_type": "code",
   "execution_count": 342,
   "id": "cc2ee447",
   "metadata": {},
   "outputs": [
    {
     "name": "stdout",
     "output_type": "stream",
     "text": [
      "+--------------+------+\n",
      "|       country| count|\n",
      "+--------------+------+\n",
      "|             0|310213|\n",
      "| United States|  4473|\n",
      "|United Kingdom|  1286|\n",
      "|         Japan|   659|\n",
      "|        France|   613|\n",
      "|        Canada|   521|\n",
      "|     Hong Kong|   294|\n",
      "|       Germany|   290|\n",
      "|         Italy|   275|\n",
      "|         India|   254|\n",
      "|     Australia|   141|\n",
      "|         Spain|   140|\n",
      "|  West Germany|    95|\n",
      "|        Mexico|    64|\n",
      "|        Sweden|    59|\n",
      "|         China|    58|\n",
      "|   Netherlands|    56|\n",
      "|       Ireland|    55|\n",
      "|        Taiwan|    52|\n",
      "|   South Korea|    51|\n",
      "+--------------+------+\n",
      "only showing top 20 rows\n",
      "\n"
     ]
    }
   ],
   "source": [
    "Final_df.groupBy('country').count().sort(desc('count')).show()"
   ]
  },
  {
   "cell_type": "code",
   "execution_count": 343,
   "id": "0eb7996f",
   "metadata": {},
   "outputs": [
    {
     "name": "stdout",
     "output_type": "stream",
     "text": [
      "+----------+------+\n",
      "|  language| count|\n",
      "+----------+------+\n",
      "|         0|309879|\n",
      "|   English|  6255|\n",
      "|    French|   666|\n",
      "|  Japanese|   622|\n",
      "|   Spanish|   375|\n",
      "|    German|   331|\n",
      "|   Italian|   310|\n",
      "| Cantonese|   265|\n",
      "|     Hindi|   248|\n",
      "|  Mandarin|   181|\n",
      "|   Russian|   134|\n",
      "|     Latin|    78|\n",
      "|    Arabic|    61|\n",
      "|    Korean|    53|\n",
      "|Portuguese|    53|\n",
      "|    Hebrew|    52|\n",
      "|   Swedish|    49|\n",
      "|    Polish|    38|\n",
      "|      None|    34|\n",
      "|    Danish|    30|\n",
      "+----------+------+\n",
      "only showing top 20 rows\n",
      "\n"
     ]
    }
   ],
   "source": [
    "Final_df.groupBy('language').count().sort(desc('count')).show()"
   ]
  },
  {
   "cell_type": "code",
   "execution_count": 344,
   "id": "145c6c91",
   "metadata": {},
   "outputs": [
    {
     "name": "stdout",
     "output_type": "stream",
     "text": [
      "+--------------------+------+\n",
      "|            director| count|\n",
      "+--------------------+------+\n",
      "|                   0|312378|\n",
      "|          Kevin Dunn|    23|\n",
      "|      Akira Kurosawa|    18|\n",
      "|        David Mallet|    18|\n",
      "|           Jing Wong|    17|\n",
      "|        Jim Wynorski|    16|\n",
      "|Beth McCarthy-Miller|    16|\n",
      "|    Federico Fellini|    15|\n",
      "|           Tom Clegg|    15|\n",
      "|       Takashi Miike|    14|\n",
      "|          Johnnie To|    14|\n",
      "|       Werner Herzog|    14|\n",
      "|    Alfred Hitchcock|    14|\n",
      "|     Lawrence Jordan|    13|\n",
      "|          Andrew Lau|    13|\n",
      "|        Ishirô Honda|    13|\n",
      "|         Dave Wilson|    13|\n",
      "|   Sammo Kam-Bo Hung|    12|\n",
      "|   François Truffaut|    12|\n",
      "|Rainer Werner Fas...|    12|\n",
      "+--------------------+------+\n",
      "only showing top 20 rows\n",
      "\n"
     ]
    }
   ],
   "source": [
    "Final_df.groupBy('director').count().sort(desc('count')).show()"
   ]
  },
  {
   "cell_type": "code",
   "execution_count": 345,
   "id": "d00abbcd",
   "metadata": {},
   "outputs": [
    {
     "name": "stdout",
     "output_type": "stream",
     "text": [
      "+------------------+------+\n",
      "|            writer| count|\n",
      "+------------------+------+\n",
      "|                 0|306863|\n",
      "|         Jing Wong|    29|\n",
      "|   Caroline Graham|    27|\n",
      "|     Sydney Newman|    27|\n",
      "|      Joel Hodgson|    25|\n",
      "|      Stephen King|    23|\n",
      "|    Akira Toriyama|    21|\n",
      "| Michael J. Nelson|    21|\n",
      "|Arthur Conan Doyle|    19|\n",
      "|   Agatha Christie|    17|\n",
      "|        Tony Geiss|    16|\n",
      "|    Akira Kurosawa|    16|\n",
      "|    Trace Beaulieu|    16|\n",
      "|      Takao Koyama|    15|\n",
      "|     Werner Herzog|    14|\n",
      "|  Federico Fellini|    14|\n",
      "|     Yôsuke Kuroda|    13|\n",
      "|  Elizabeth George|    13|\n",
      "|       Kazuo Koike|    13|\n",
      "|  Bernard Cornwell|    13|\n",
      "+------------------+------+\n",
      "only showing top 20 rows\n",
      "\n"
     ]
    }
   ],
   "source": [
    "Final_df.groupBy('writer').count().sort(desc('count')).show()"
   ]
  },
  {
   "cell_type": "code",
   "execution_count": 347,
   "id": "853606d2",
   "metadata": {},
   "outputs": [
    {
     "name": "stdout",
     "output_type": "stream",
     "text": [
      "+-----------+------+---+\n",
      "|      genre|rating|row|\n",
      "+-----------+------+---+\n",
      "|          0|     9|  1|\n",
      "|          0|     9|  2|\n",
      "|     Action|     9|  1|\n",
      "|     Action|     9|  2|\n",
      "|  Adventure|     9|  1|\n",
      "|  Adventure|     9|  2|\n",
      "|  Animation|     9|  1|\n",
      "|  Animation|     9|  2|\n",
      "|  Biography|     9|  1|\n",
      "|  Biography|     8|  2|\n",
      "|     Comedy|     9|  1|\n",
      "|     Comedy|     9|  2|\n",
      "|      Crime|     9|  1|\n",
      "|      Crime|     9|  2|\n",
      "|Documentary|     9|  1|\n",
      "|Documentary|     9|  2|\n",
      "|      Drama|     9|  1|\n",
      "|      Drama|     9|  2|\n",
      "|     Family|     9|  1|\n",
      "|     Family|     9|  2|\n",
      "+-----------+------+---+\n",
      "only showing top 20 rows\n",
      "\n"
     ]
    }
   ],
   "source": [
    "from pyspark.sql.window import Window\n",
    "from pyspark.sql.functions import col, row_number\n",
    "windowDept = Window.partitionBy(\"genre\").orderBy(col(\"rating\").desc())\n",
    "Final_df.select('genre','rating').withColumn(\"row\",row_number().over(windowDept)) \\\n",
    "  .filter(col(\"row\") <= 2) \\\n",
    "  .show()"
   ]
  },
  {
   "cell_type": "code",
   "execution_count": 348,
   "id": "ef675df7",
   "metadata": {},
   "outputs": [
    {
     "name": "stdout",
     "output_type": "stream",
     "text": [
      "+--------------------+---------------+-----------+------------+---------+\n",
      "|               title|count(composer)|max(rating)|max(runtime)|max(vote)|\n",
      "+--------------------+---------------+-----------+------------+---------+\n",
      "|         Deep Rising|             35|          6|          60|    35393|\n",
      "|             Stardom|            128|          5|          91|     1717|\n",
      "|  A Woman Is a Woman|             24|          7|         106|    16402|\n",
      "|The Beatles Antho...|             27|          9|        null|     8567|\n",
      "|           Cybermutt|             24|          3|         111|      197|\n",
      "|Bulldog Drummond'...|             29|          6|          95|      534|\n",
      "|The Real World Yo...|             12|          4|          22|       76|\n",
      "|In Search of Dr. ...|             64|          7|         100|      503|\n",
      "|            Dogville|             58|          8|          97|   143450|\n",
      "|            On Guard|             79|          7|          81|     3455|\n",
      "|        Camille 2000|             22|          5|        null|      697|\n",
      "|Detonator II: Nig...|             47|          5|          85|     1619|\n",
      "|   For Bad Boys Only|             27|          4|          90|      216|\n",
      "|          Road Games|             31|          6|          90|     5973|\n",
      "|Rumic Theater: Me...|             59|          7|          80|      157|\n",
      "| The Legend of Speed|             20|          6|          97|      516|\n",
      "|            Querelle|             33|          6|         119|     6270|\n",
      "|    My Louisiana Sky|             25|          6|          60|      808|\n",
      "|     Late Last Night|             54|          5|        null|      591|\n",
      "|Matthew Blackhear...|             39|          4|          84|      236|\n",
      "+--------------------+---------------+-----------+------------+---------+\n",
      "only showing top 20 rows\n",
      "\n"
     ]
    }
   ],
   "source": [
    "# Max value of each group\n",
    "Final_df.groupby('title').agg({'rating': 'max','vote':'max','runtime':'max','composer':'count'}).show()"
   ]
  },
  {
   "cell_type": "code",
   "execution_count": 349,
   "id": "3e306c3f",
   "metadata": {},
   "outputs": [
    {
     "name": "stdout",
     "output_type": "stream",
     "text": [
      "+----+---------------+-----------+------------+---------+\n",
      "|year|count(composer)|max(rating)|max(runtime)|max(vote)|\n",
      "+----+---------------+-----------+------------+---------+\n",
      "|1959|           1349|          9|         246|   254334|\n",
      "|1990|           4942|          9|         701|   347102|\n",
      "|1975|           1803|          8|         181|   517321|\n",
      "|1977|           2558|          8|         195|   191830|\n",
      "|1924|             55|          7|        null|     2504|\n",
      "|2003|          24255|          9|        1335|  1708569|\n",
      "|1974|           2578|          8|         240|    23682|\n",
      "|1927|            200|          8|         105|   166632|\n",
      "|1955|            913|          8|         178|    63838|\n",
      "|1978|           2748|          8|         171|   253148|\n",
      "|1925|            106|          8|         241|    55411|\n",
      "|1961|            748|          8|         192|   117088|\n",
      "|1942|            518|          8|         128|    33657|\n",
      "|1944|            418|          8|         137|    44752|\n",
      "|1939|            512|          8|         161|   111289|\n",
      "|1922|             63|          7|          90|    13278|\n",
      "|1952|            908|          8|         123|   100731|\n",
      "|1956|            919|          8|         118|    67117|\n",
      "|1934|            208|          7|         140|    15221|\n",
      "|1997|          12465|          9|         235|  1091624|\n",
      "+----+---------------+-----------+------------+---------+\n",
      "only showing top 20 rows\n",
      "\n"
     ]
    }
   ],
   "source": [
    "# Max value of each group\n",
    "Final_df.groupby('year').agg({'rating': 'max','vote':'max','runtime':'max','composer':'count'}).show()"
   ]
  },
  {
   "cell_type": "code",
   "execution_count": 350,
   "id": "d3c1eae7",
   "metadata": {},
   "outputs": [
    {
     "name": "stdout",
     "output_type": "stream",
     "text": [
      "+-----------+---------------+-----------+------------+---------+\n",
      "|      genre|count(composer)|max(rating)|max(runtime)|max(vote)|\n",
      "+-----------+---------------+-----------+------------+---------+\n",
      "|      Crime|           1008|          9|        1380|  1907147|\n",
      "|    Romance|           1449|          9|         701|  1091624|\n",
      "|   Thriller|           1293|          9|         960|  1080665|\n",
      "|  Adventure|            994|          9|         780|  1708569|\n",
      "|          0|         299426|          9|        1620|  2461873|\n",
      "|      Drama|           3467|          9|        1380|  2461873|\n",
      "|        War|            337|          9|         545|  1291015|\n",
      "|Documentary|           1350|          9|        1620|   142175|\n",
      "| Reality-TV|             36|          9|         188|    21330|\n",
      "|     Family|            779|          9|         883|   982922|\n",
      "|    Fantasy|            721|          9|         883|  1708569|\n",
      "|  Game-Show|              8|          7|         100|    21330|\n",
      "|    History|            417|          9|        1620|   398551|\n",
      "|    Mystery|            634|          9|         960|  1202576|\n",
      "|    Musical|            316|          8|         566|   982922|\n",
      "|  Animation|            800|          9|         883|   982922|\n",
      "|      Music|            864|          9|         544|   382061|\n",
      "|  Film-Noir|             26|          8|         180|   165033|\n",
      "|     Horror|            760|          9|        1140|   530372|\n",
      "|      Short|            244|          9|         360|    47975|\n",
      "+-----------+---------------+-----------+------------+---------+\n",
      "only showing top 20 rows\n",
      "\n"
     ]
    }
   ],
   "source": [
    "# Max value of each group\n",
    "Final_df.groupby('genre').agg({'rating': 'max','vote':'max','runtime':'max','composer':'count'}).show()"
   ]
  },
  {
   "cell_type": "code",
   "execution_count": 351,
   "id": "859f14b4",
   "metadata": {},
   "outputs": [
    {
     "name": "stdout",
     "output_type": "stream",
     "text": [
      "+--------------+---------------+-----------+------------+---------+\n",
      "|       country|count(composer)|max(rating)|max(runtime)|max(vote)|\n",
      "+--------------+---------------+-----------+------------+---------+\n",
      "|        Russia|             14|          7|         107|    19878|\n",
      "|        Sweden|             59|          8|         360|   175207|\n",
      "|   Philippines|             17|          7|         180|     4710|\n",
      "|       Germany|            290|          9|         778|   724608|\n",
      "|        France|            613|          9|        1620|  1080665|\n",
      "|        Greece|              6|          7|         113|     6611|\n",
      "|             0|         310213|          9|        1620|  2461873|\n",
      "|        Taiwan|             52|          8|         180|   260618|\n",
      "|      Slovakia|              2|          7|          94|     3484|\n",
      "|     Argentina|             30|          7|         195|    99100|\n",
      "|       Belgium|             41|          7|         180|    75817|\n",
      "| United States|           4473|          9|        1620|  2461873|\n",
      "|         India|            254|          8|         629|   109297|\n",
      "|         China|             58|          8|         292|   260618|\n",
      "|  Soviet Union|             35|          8|         192|   125946|\n",
      "|Czechoslovakia|              6|          8|         110|   382061|\n",
      "|         Italy|            275|          8|         960|   382061|\n",
      "|        Norway|             14|          8|         124|   143450|\n",
      "|         Spain|            140|          8|         188|   255446|\n",
      "|          Cuba|              8|          8|         173|    18776|\n",
      "+--------------+---------------+-----------+------------+---------+\n",
      "only showing top 20 rows\n",
      "\n"
     ]
    }
   ],
   "source": [
    "# Max value of each group\n",
    "Final_df.groupby('country').agg({'rating': 'max','vote':'max','runtime':'max','composer':'count'}).show()"
   ]
  },
  {
   "cell_type": "code",
   "execution_count": 352,
   "id": "cd3ba13e",
   "metadata": {},
   "outputs": [
    {
     "name": "stdout",
     "output_type": "stream",
     "text": [
      "+---------+---------------+-----------+------------+---------+\n",
      "| language|count(composer)|max(rating)|max(runtime)|max(vote)|\n",
      "+---------+---------------+-----------+------------+---------+\n",
      "|   Bangla|              7|          8|         120|    28376|\n",
      "|     Urdu|             18|          8|         160|   128128|\n",
      "|Aidoukrou|              2|          7|         149|      341|\n",
      "|  Turkish|             17|          8|         143|   279303|\n",
      "|     None|             34|          8|         241|   166632|\n",
      "|    Latin|             78|          9|         185|  1702698|\n",
      "|  Persian|             17|          8|         118|   165876|\n",
      "|  Aramaic|              2|          8|         100|   222681|\n",
      "|     Thai|             29|          8|         375|   320553|\n",
      "|Icelandic|              5|          7|         240|     9537|\n",
      "|        0|         309879|          9|        1620|  2461873|\n",
      "|   Quenya|              1|          8|         105|  1708569|\n",
      "|  Klingon|              5|          8|         115|   164133|\n",
      "|Cantonese|            265|          8|         701|   721151|\n",
      "|Mongolian|              2|          7|          92|    19356|\n",
      "|    Irish|              6|          7|         111|    42441|\n",
      "|    Maori|              4|          7|         100|    82126|\n",
      "|   Polish|             38|          9|         200|   278857|\n",
      "|     Dari|              4|          7|          91|    92815|\n",
      "| Hawaiian|              3|          7|          97|   196560|\n",
      "+---------+---------------+-----------+------------+---------+\n",
      "only showing top 20 rows\n",
      "\n"
     ]
    }
   ],
   "source": [
    "# Max value of each group\n",
    "Final_df.groupby('language').agg({'rating': 'max','vote':'max','runtime':'max','composer':'count'}).show()"
   ]
  },
  {
   "cell_type": "code",
   "execution_count": 353,
   "id": "92102dd2",
   "metadata": {},
   "outputs": [
    {
     "name": "stdout",
     "output_type": "stream",
     "text": [
      "+--------------------+---------------+-----------+------------+---------+\n",
      "|            director|count(composer)|max(rating)|max(runtime)|max(vote)|\n",
      "+--------------------+---------------+-----------+------------+---------+\n",
      "|          Rob Bowman|              1|          7|          40|   103467|\n",
      "|         John Milius|              2|          7|         119|     6782|\n",
      "|  Aleksandr Proshkin|              1|          7|         146|     2119|\n",
      "|       Anne Goursaud|              2|          4|          91|     5772|\n",
      "|   Wash Westmoreland|              1|          5|         111|     2929|\n",
      "|      Nicholas Meyer|              4|          7|         145|    72988|\n",
      "|           Chi Chang|              2|          5|         120|      254|\n",
      "|     Hussein Erkenov|              1|          5|          91|      413|\n",
      "|      Martin Howells|              1|          7|        null|       88|\n",
      "|       Martyn Atkins|              6|          8|         156|      302|\n",
      "|       Denis Mueller|              1|          7|          33|      808|\n",
      "|Beth McCarthy-Miller|             16|          8|         205|     2581|\n",
      "|    Jimmy Smallhorne|              1|          5|         190|      267|\n",
      "|         Abe Levitow|              1|          5|         103|       12|\n",
      "|         Dale Launer|              1|          5|          92|    13677|\n",
      "|Stephanie A. Fred...|              2|          7|         102|       25|\n",
      "|          Joe Sichta|              1|          6|        null|     4432|\n",
      "|           John Cook|              1|          7|        null|      179|\n",
      "|           Tom Clegg|             15|          8|         200|     3989|\n",
      "|        Nisha Pahuja|              1|          8|         108|      911|\n",
      "+--------------------+---------------+-----------+------------+---------+\n",
      "only showing top 20 rows\n",
      "\n"
     ]
    }
   ],
   "source": [
    "# Max value of each group\n",
    "Final_df.groupby('director').agg({'rating': 'max','vote':'max','runtime':'max','composer':'count'}).show()"
   ]
  },
  {
   "cell_type": "code",
   "execution_count": 354,
   "id": "7b02f80a",
   "metadata": {},
   "outputs": [
    {
     "name": "stdout",
     "output_type": "stream",
     "text": [
      "+--------------------+---------------+-----------+------------+---------+\n",
      "|              writer|count(composer)|max(rating)|max(runtime)|max(vote)|\n",
      "+--------------------+---------------+-----------+------------+---------+\n",
      "|      Gail Willumsen|              2|          7|         112|      138|\n",
      "|      Bennett Tramer|              3|          5|         265|     3675|\n",
      "|      Pamela Wallace|              2|          7|          98|    90461|\n",
      "|         Helen Craig|              2|          6|         123|      416|\n",
      "|         Keith Lango|              2|          6|          94|      173|\n",
      "|         John Milius|              3|          8|          30|   629404|\n",
      "|           Ken Burns|              2|          9|          96|     4028|\n",
      "|    Joseph W. Savino|              1|          5|          25|     1612|\n",
      "|      Nicholas Meyer|              3|          7|         150|   124316|\n",
      "|        Ray Santilli|              2|          7|         102|       65|\n",
      "|        Charles Dyer|              1|          7|          50|     4392|\n",
      "|         David Tynan|              3|          8|          94|      160|\n",
      "|      Megumi Hiyoshi|              1|          6|          85|      258|\n",
      "|Jeremy Joe Kronsberg|              1|          6|          50|    18469|\n",
      "|    Kiyoshi Murayama|              2|          7|        null|       67|\n",
      "|           Jim Adler|              1|          7|          92|    24980|\n",
      "|      Kin Chung Chan|              5|          7|         140|     7668|\n",
      "|        Brian Breger|              1|          7|          80|       62|\n",
      "|         David Quinn|              1|          4|         112|     4041|\n",
      "|            Amy Chin|              2|          7|          98|      539|\n",
      "+--------------------+---------------+-----------+------------+---------+\n",
      "only showing top 20 rows\n",
      "\n"
     ]
    }
   ],
   "source": [
    "# Max value of each group\n",
    "Final_df.groupby('writer').agg({'rating': 'max','vote':'max','runtime':'max','composer':'count'}).show()"
   ]
  },
  {
   "cell_type": "code",
   "execution_count": null,
   "id": "a5d58d0f",
   "metadata": {},
   "outputs": [],
   "source": []
  },
  {
   "cell_type": "code",
   "execution_count": null,
   "id": "e54d7907",
   "metadata": {},
   "outputs": [],
   "source": []
  },
  {
   "cell_type": "code",
   "execution_count": null,
   "id": "af60ebf6",
   "metadata": {},
   "outputs": [],
   "source": []
  }
 ],
 "metadata": {
  "kernelspec": {
   "display_name": "Python 3 (ipykernel)",
   "language": "python",
   "name": "python3"
  },
  "language_info": {
   "codemirror_mode": {
    "name": "ipython",
    "version": 3
   },
   "file_extension": ".py",
   "mimetype": "text/x-python",
   "name": "python",
   "nbconvert_exporter": "python",
   "pygments_lexer": "ipython3",
   "version": "3.9.13"
  }
 },
 "nbformat": 4,
 "nbformat_minor": 5
}
